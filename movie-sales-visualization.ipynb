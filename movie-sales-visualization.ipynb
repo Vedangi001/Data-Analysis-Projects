{
 "cells": [
  {
   "cell_type": "markdown",
   "id": "233bce0b",
   "metadata": {
    "papermill": {
     "duration": 0.012417,
     "end_time": "2022-06-19T10:59:03.817570",
     "exception": false,
     "start_time": "2022-06-19T10:59:03.805153",
     "status": "completed"
    },
    "tags": []
   },
   "source": [
    "## 1.Loading the dataset"
   ]
  },
  {
   "cell_type": "code",
   "execution_count": 1,
   "id": "7ea95879",
   "metadata": {
    "_cell_guid": "b1076dfc-b9ad-4769-8c92-a6c4dae69d19",
    "_uuid": "8f2839f25d086af736a60e9eeb907d3b93b6e0e5",
    "execution": {
     "iopub.execute_input": "2022-06-19T10:59:03.842878Z",
     "iopub.status.busy": "2022-06-19T10:59:03.842210Z",
     "iopub.status.idle": "2022-06-19T10:59:03.869596Z",
     "shell.execute_reply": "2022-06-19T10:59:03.868898Z"
    },
    "papermill": {
     "duration": 0.04199,
     "end_time": "2022-06-19T10:59:03.871548",
     "exception": false,
     "start_time": "2022-06-19T10:59:03.829558",
     "status": "completed"
    },
    "tags": []
   },
   "outputs": [
    {
     "name": "stdout",
     "output_type": "stream",
     "text": [
      "/kaggle/input/imdb-data/IMDB-Movie-Data.csv\n"
     ]
    }
   ],
   "source": [
    "import numpy as np \n",
    "import pandas as pd \n",
    "\n",
    "import os\n",
    "for dirname, _, filenames in os.walk('/kaggle/input'):\n",
    "    for filename in filenames:\n",
    "        print(os.path.join(dirname, filename))"
   ]
  },
  {
   "cell_type": "code",
   "execution_count": 2,
   "id": "a38dcb7e",
   "metadata": {
    "execution": {
     "iopub.execute_input": "2022-06-19T10:59:03.895522Z",
     "iopub.status.busy": "2022-06-19T10:59:03.894859Z",
     "iopub.status.idle": "2022-06-19T10:59:03.943447Z",
     "shell.execute_reply": "2022-06-19T10:59:03.942557Z"
    },
    "papermill": {
     "duration": 0.063115,
     "end_time": "2022-06-19T10:59:03.945793",
     "exception": false,
     "start_time": "2022-06-19T10:59:03.882678",
     "status": "completed"
    },
    "tags": []
   },
   "outputs": [],
   "source": [
    "df=pd.read_csv('../input/imdb-data/IMDB-Movie-Data.csv')"
   ]
  },
  {
   "cell_type": "code",
   "execution_count": 3,
   "id": "6545737a",
   "metadata": {
    "execution": {
     "iopub.execute_input": "2022-06-19T10:59:03.970213Z",
     "iopub.status.busy": "2022-06-19T10:59:03.969522Z",
     "iopub.status.idle": "2022-06-19T10:59:03.995003Z",
     "shell.execute_reply": "2022-06-19T10:59:03.994060Z"
    },
    "papermill": {
     "duration": 0.040372,
     "end_time": "2022-06-19T10:59:03.997297",
     "exception": false,
     "start_time": "2022-06-19T10:59:03.956925",
     "status": "completed"
    },
    "tags": []
   },
   "outputs": [
    {
     "data": {
      "text/html": [
       "<div>\n",
       "<style scoped>\n",
       "    .dataframe tbody tr th:only-of-type {\n",
       "        vertical-align: middle;\n",
       "    }\n",
       "\n",
       "    .dataframe tbody tr th {\n",
       "        vertical-align: top;\n",
       "    }\n",
       "\n",
       "    .dataframe thead th {\n",
       "        text-align: right;\n",
       "    }\n",
       "</style>\n",
       "<table border=\"1\" class=\"dataframe\">\n",
       "  <thead>\n",
       "    <tr style=\"text-align: right;\">\n",
       "      <th></th>\n",
       "      <th>Rank</th>\n",
       "      <th>Title</th>\n",
       "      <th>Genre</th>\n",
       "      <th>Description</th>\n",
       "      <th>Director</th>\n",
       "      <th>Actors</th>\n",
       "      <th>Year</th>\n",
       "      <th>Runtime (Minutes)</th>\n",
       "      <th>Rating</th>\n",
       "      <th>Votes</th>\n",
       "      <th>Revenue (Millions)</th>\n",
       "      <th>Metascore</th>\n",
       "    </tr>\n",
       "  </thead>\n",
       "  <tbody>\n",
       "    <tr>\n",
       "      <th>0</th>\n",
       "      <td>1</td>\n",
       "      <td>Guardians of the Galaxy</td>\n",
       "      <td>Action,Adventure,Sci-Fi</td>\n",
       "      <td>A group of intergalactic criminals are forced ...</td>\n",
       "      <td>James Gunn</td>\n",
       "      <td>Chris Pratt, Vin Diesel, Bradley Cooper, Zoe S...</td>\n",
       "      <td>2014</td>\n",
       "      <td>121</td>\n",
       "      <td>8.1</td>\n",
       "      <td>757074</td>\n",
       "      <td>333.13</td>\n",
       "      <td>76.0</td>\n",
       "    </tr>\n",
       "    <tr>\n",
       "      <th>1</th>\n",
       "      <td>2</td>\n",
       "      <td>Prometheus</td>\n",
       "      <td>Adventure,Mystery,Sci-Fi</td>\n",
       "      <td>Following clues to the origin of mankind, a te...</td>\n",
       "      <td>Ridley Scott</td>\n",
       "      <td>Noomi Rapace, Logan Marshall-Green, Michael Fa...</td>\n",
       "      <td>2012</td>\n",
       "      <td>124</td>\n",
       "      <td>7.0</td>\n",
       "      <td>485820</td>\n",
       "      <td>126.46</td>\n",
       "      <td>65.0</td>\n",
       "    </tr>\n",
       "    <tr>\n",
       "      <th>2</th>\n",
       "      <td>3</td>\n",
       "      <td>Split</td>\n",
       "      <td>Horror,Thriller</td>\n",
       "      <td>Three girls are kidnapped by a man with a diag...</td>\n",
       "      <td>M. Night Shyamalan</td>\n",
       "      <td>James McAvoy, Anya Taylor-Joy, Haley Lu Richar...</td>\n",
       "      <td>2016</td>\n",
       "      <td>117</td>\n",
       "      <td>7.3</td>\n",
       "      <td>157606</td>\n",
       "      <td>138.12</td>\n",
       "      <td>62.0</td>\n",
       "    </tr>\n",
       "    <tr>\n",
       "      <th>3</th>\n",
       "      <td>4</td>\n",
       "      <td>Sing</td>\n",
       "      <td>Animation,Comedy,Family</td>\n",
       "      <td>In a city of humanoid animals, a hustling thea...</td>\n",
       "      <td>Christophe Lourdelet</td>\n",
       "      <td>Matthew McConaughey,Reese Witherspoon, Seth Ma...</td>\n",
       "      <td>2016</td>\n",
       "      <td>108</td>\n",
       "      <td>7.2</td>\n",
       "      <td>60545</td>\n",
       "      <td>270.32</td>\n",
       "      <td>59.0</td>\n",
       "    </tr>\n",
       "    <tr>\n",
       "      <th>4</th>\n",
       "      <td>5</td>\n",
       "      <td>Suicide Squad</td>\n",
       "      <td>Action,Adventure,Fantasy</td>\n",
       "      <td>A secret government agency recruits some of th...</td>\n",
       "      <td>David Ayer</td>\n",
       "      <td>Will Smith, Jared Leto, Margot Robbie, Viola D...</td>\n",
       "      <td>2016</td>\n",
       "      <td>123</td>\n",
       "      <td>6.2</td>\n",
       "      <td>393727</td>\n",
       "      <td>325.02</td>\n",
       "      <td>40.0</td>\n",
       "    </tr>\n",
       "  </tbody>\n",
       "</table>\n",
       "</div>"
      ],
      "text/plain": [
       "   Rank                    Title                     Genre  \\\n",
       "0     1  Guardians of the Galaxy   Action,Adventure,Sci-Fi   \n",
       "1     2               Prometheus  Adventure,Mystery,Sci-Fi   \n",
       "2     3                    Split           Horror,Thriller   \n",
       "3     4                     Sing   Animation,Comedy,Family   \n",
       "4     5            Suicide Squad  Action,Adventure,Fantasy   \n",
       "\n",
       "                                         Description              Director  \\\n",
       "0  A group of intergalactic criminals are forced ...            James Gunn   \n",
       "1  Following clues to the origin of mankind, a te...          Ridley Scott   \n",
       "2  Three girls are kidnapped by a man with a diag...    M. Night Shyamalan   \n",
       "3  In a city of humanoid animals, a hustling thea...  Christophe Lourdelet   \n",
       "4  A secret government agency recruits some of th...            David Ayer   \n",
       "\n",
       "                                              Actors  Year  Runtime (Minutes)  \\\n",
       "0  Chris Pratt, Vin Diesel, Bradley Cooper, Zoe S...  2014                121   \n",
       "1  Noomi Rapace, Logan Marshall-Green, Michael Fa...  2012                124   \n",
       "2  James McAvoy, Anya Taylor-Joy, Haley Lu Richar...  2016                117   \n",
       "3  Matthew McConaughey,Reese Witherspoon, Seth Ma...  2016                108   \n",
       "4  Will Smith, Jared Leto, Margot Robbie, Viola D...  2016                123   \n",
       "\n",
       "   Rating   Votes  Revenue (Millions)  Metascore  \n",
       "0     8.1  757074              333.13       76.0  \n",
       "1     7.0  485820              126.46       65.0  \n",
       "2     7.3  157606              138.12       62.0  \n",
       "3     7.2   60545              270.32       59.0  \n",
       "4     6.2  393727              325.02       40.0  "
      ]
     },
     "execution_count": 3,
     "metadata": {},
     "output_type": "execute_result"
    }
   ],
   "source": [
    "df.head(5)"
   ]
  },
  {
   "cell_type": "markdown",
   "id": "bcabf1d2",
   "metadata": {
    "papermill": {
     "duration": 0.011129,
     "end_time": "2022-06-19T10:59:04.019880",
     "exception": false,
     "start_time": "2022-06-19T10:59:04.008751",
     "status": "completed"
    },
    "tags": []
   },
   "source": [
    "## 2. Data Pre-Proccessing"
   ]
  },
  {
   "cell_type": "code",
   "execution_count": 4,
   "id": "656cd929",
   "metadata": {
    "execution": {
     "iopub.execute_input": "2022-06-19T10:59:04.044664Z",
     "iopub.status.busy": "2022-06-19T10:59:04.043942Z",
     "iopub.status.idle": "2022-06-19T10:59:04.069697Z",
     "shell.execute_reply": "2022-06-19T10:59:04.068388Z"
    },
    "papermill": {
     "duration": 0.041448,
     "end_time": "2022-06-19T10:59:04.072751",
     "exception": false,
     "start_time": "2022-06-19T10:59:04.031303",
     "status": "completed"
    },
    "tags": []
   },
   "outputs": [
    {
     "name": "stdout",
     "output_type": "stream",
     "text": [
      "<class 'pandas.core.frame.DataFrame'>\n",
      "RangeIndex: 1000 entries, 0 to 999\n",
      "Data columns (total 12 columns):\n",
      " #   Column              Non-Null Count  Dtype  \n",
      "---  ------              --------------  -----  \n",
      " 0   Rank                1000 non-null   int64  \n",
      " 1   Title               1000 non-null   object \n",
      " 2   Genre               1000 non-null   object \n",
      " 3   Description         1000 non-null   object \n",
      " 4   Director            1000 non-null   object \n",
      " 5   Actors              1000 non-null   object \n",
      " 6   Year                1000 non-null   int64  \n",
      " 7   Runtime (Minutes)   1000 non-null   int64  \n",
      " 8   Rating              1000 non-null   float64\n",
      " 9   Votes               1000 non-null   int64  \n",
      " 10  Revenue (Millions)  872 non-null    float64\n",
      " 11  Metascore           936 non-null    float64\n",
      "dtypes: float64(3), int64(4), object(5)\n",
      "memory usage: 93.9+ KB\n"
     ]
    }
   ],
   "source": [
    "df.info()"
   ]
  },
  {
   "cell_type": "code",
   "execution_count": 5,
   "id": "d67b8c1a",
   "metadata": {
    "execution": {
     "iopub.execute_input": "2022-06-19T10:59:04.099301Z",
     "iopub.status.busy": "2022-06-19T10:59:04.098541Z",
     "iopub.status.idle": "2022-06-19T10:59:04.132474Z",
     "shell.execute_reply": "2022-06-19T10:59:04.131521Z"
    },
    "papermill": {
     "duration": 0.049258,
     "end_time": "2022-06-19T10:59:04.134598",
     "exception": false,
     "start_time": "2022-06-19T10:59:04.085340",
     "status": "completed"
    },
    "tags": []
   },
   "outputs": [
    {
     "data": {
      "text/html": [
       "<div>\n",
       "<style scoped>\n",
       "    .dataframe tbody tr th:only-of-type {\n",
       "        vertical-align: middle;\n",
       "    }\n",
       "\n",
       "    .dataframe tbody tr th {\n",
       "        vertical-align: top;\n",
       "    }\n",
       "\n",
       "    .dataframe thead th {\n",
       "        text-align: right;\n",
       "    }\n",
       "</style>\n",
       "<table border=\"1\" class=\"dataframe\">\n",
       "  <thead>\n",
       "    <tr style=\"text-align: right;\">\n",
       "      <th></th>\n",
       "      <th>Rank</th>\n",
       "      <th>Year</th>\n",
       "      <th>Runtime (Minutes)</th>\n",
       "      <th>Rating</th>\n",
       "      <th>Votes</th>\n",
       "      <th>Revenue (Millions)</th>\n",
       "      <th>Metascore</th>\n",
       "    </tr>\n",
       "  </thead>\n",
       "  <tbody>\n",
       "    <tr>\n",
       "      <th>count</th>\n",
       "      <td>1000.000000</td>\n",
       "      <td>1000.000000</td>\n",
       "      <td>1000.000000</td>\n",
       "      <td>1000.000000</td>\n",
       "      <td>1.000000e+03</td>\n",
       "      <td>872.000000</td>\n",
       "      <td>936.000000</td>\n",
       "    </tr>\n",
       "    <tr>\n",
       "      <th>mean</th>\n",
       "      <td>500.500000</td>\n",
       "      <td>2012.783000</td>\n",
       "      <td>113.172000</td>\n",
       "      <td>6.723200</td>\n",
       "      <td>1.698083e+05</td>\n",
       "      <td>82.956376</td>\n",
       "      <td>58.985043</td>\n",
       "    </tr>\n",
       "    <tr>\n",
       "      <th>std</th>\n",
       "      <td>288.819436</td>\n",
       "      <td>3.205962</td>\n",
       "      <td>18.810908</td>\n",
       "      <td>0.945429</td>\n",
       "      <td>1.887626e+05</td>\n",
       "      <td>103.253540</td>\n",
       "      <td>17.194757</td>\n",
       "    </tr>\n",
       "    <tr>\n",
       "      <th>min</th>\n",
       "      <td>1.000000</td>\n",
       "      <td>2006.000000</td>\n",
       "      <td>66.000000</td>\n",
       "      <td>1.900000</td>\n",
       "      <td>6.100000e+01</td>\n",
       "      <td>0.000000</td>\n",
       "      <td>11.000000</td>\n",
       "    </tr>\n",
       "    <tr>\n",
       "      <th>25%</th>\n",
       "      <td>250.750000</td>\n",
       "      <td>2010.000000</td>\n",
       "      <td>100.000000</td>\n",
       "      <td>6.200000</td>\n",
       "      <td>3.630900e+04</td>\n",
       "      <td>13.270000</td>\n",
       "      <td>47.000000</td>\n",
       "    </tr>\n",
       "    <tr>\n",
       "      <th>50%</th>\n",
       "      <td>500.500000</td>\n",
       "      <td>2014.000000</td>\n",
       "      <td>111.000000</td>\n",
       "      <td>6.800000</td>\n",
       "      <td>1.107990e+05</td>\n",
       "      <td>47.985000</td>\n",
       "      <td>59.500000</td>\n",
       "    </tr>\n",
       "    <tr>\n",
       "      <th>75%</th>\n",
       "      <td>750.250000</td>\n",
       "      <td>2016.000000</td>\n",
       "      <td>123.000000</td>\n",
       "      <td>7.400000</td>\n",
       "      <td>2.399098e+05</td>\n",
       "      <td>113.715000</td>\n",
       "      <td>72.000000</td>\n",
       "    </tr>\n",
       "    <tr>\n",
       "      <th>max</th>\n",
       "      <td>1000.000000</td>\n",
       "      <td>2016.000000</td>\n",
       "      <td>191.000000</td>\n",
       "      <td>9.000000</td>\n",
       "      <td>1.791916e+06</td>\n",
       "      <td>936.630000</td>\n",
       "      <td>100.000000</td>\n",
       "    </tr>\n",
       "  </tbody>\n",
       "</table>\n",
       "</div>"
      ],
      "text/plain": [
       "              Rank         Year  Runtime (Minutes)       Rating         Votes  \\\n",
       "count  1000.000000  1000.000000        1000.000000  1000.000000  1.000000e+03   \n",
       "mean    500.500000  2012.783000         113.172000     6.723200  1.698083e+05   \n",
       "std     288.819436     3.205962          18.810908     0.945429  1.887626e+05   \n",
       "min       1.000000  2006.000000          66.000000     1.900000  6.100000e+01   \n",
       "25%     250.750000  2010.000000         100.000000     6.200000  3.630900e+04   \n",
       "50%     500.500000  2014.000000         111.000000     6.800000  1.107990e+05   \n",
       "75%     750.250000  2016.000000         123.000000     7.400000  2.399098e+05   \n",
       "max    1000.000000  2016.000000         191.000000     9.000000  1.791916e+06   \n",
       "\n",
       "       Revenue (Millions)   Metascore  \n",
       "count          872.000000  936.000000  \n",
       "mean            82.956376   58.985043  \n",
       "std            103.253540   17.194757  \n",
       "min              0.000000   11.000000  \n",
       "25%             13.270000   47.000000  \n",
       "50%             47.985000   59.500000  \n",
       "75%            113.715000   72.000000  \n",
       "max            936.630000  100.000000  "
      ]
     },
     "execution_count": 5,
     "metadata": {},
     "output_type": "execute_result"
    }
   ],
   "source": [
    "df.describe()"
   ]
  },
  {
   "cell_type": "markdown",
   "id": "099c2184",
   "metadata": {
    "papermill": {
     "duration": 0.011901,
     "end_time": "2022-06-19T10:59:04.158446",
     "exception": false,
     "start_time": "2022-06-19T10:59:04.146545",
     "status": "completed"
    },
    "tags": []
   },
   "source": [
    "The highest revenue earned by any movie is `936.63 millioon` where as the minimum earned is 0.00(this may be because the revenue of that movie is not available).\n",
    "\n",
    "The revenue data of 872 movies out of total 1000 is available, in order to not loose our data, we can give a mean value of revenue to those movies, same can be done to metascore."
   ]
  },
  {
   "cell_type": "code",
   "execution_count": 6,
   "id": "2f75f71b",
   "metadata": {
    "execution": {
     "iopub.execute_input": "2022-06-19T10:59:04.183725Z",
     "iopub.status.busy": "2022-06-19T10:59:04.183344Z",
     "iopub.status.idle": "2022-06-19T10:59:04.192375Z",
     "shell.execute_reply": "2022-06-19T10:59:04.191490Z"
    },
    "papermill": {
     "duration": 0.023997,
     "end_time": "2022-06-19T10:59:04.194315",
     "exception": false,
     "start_time": "2022-06-19T10:59:04.170318",
     "status": "completed"
    },
    "tags": []
   },
   "outputs": [
    {
     "data": {
      "text/plain": [
       "995    82.956376\n",
       "996    17.540000\n",
       "997    58.010000\n",
       "998    82.956376\n",
       "999    19.640000\n",
       "Name: Revenue (Millions), dtype: float64"
      ]
     },
     "execution_count": 6,
     "metadata": {},
     "output_type": "execute_result"
    }
   ],
   "source": [
    "df['Revenue (Millions)'].fillna(df['Revenue (Millions)'].mean(), inplace =True)\n",
    "df['Revenue (Millions)'].tail()"
   ]
  },
  {
   "cell_type": "code",
   "execution_count": 7,
   "id": "087dc8c9",
   "metadata": {
    "execution": {
     "iopub.execute_input": "2022-06-19T10:59:04.220858Z",
     "iopub.status.busy": "2022-06-19T10:59:04.219747Z",
     "iopub.status.idle": "2022-06-19T10:59:04.244327Z",
     "shell.execute_reply": "2022-06-19T10:59:04.243400Z"
    },
    "papermill": {
     "duration": 0.040029,
     "end_time": "2022-06-19T10:59:04.246517",
     "exception": false,
     "start_time": "2022-06-19T10:59:04.206488",
     "status": "completed"
    },
    "tags": []
   },
   "outputs": [
    {
     "data": {
      "text/html": [
       "<div>\n",
       "<style scoped>\n",
       "    .dataframe tbody tr th:only-of-type {\n",
       "        vertical-align: middle;\n",
       "    }\n",
       "\n",
       "    .dataframe tbody tr th {\n",
       "        vertical-align: top;\n",
       "    }\n",
       "\n",
       "    .dataframe thead th {\n",
       "        text-align: right;\n",
       "    }\n",
       "</style>\n",
       "<table border=\"1\" class=\"dataframe\">\n",
       "  <thead>\n",
       "    <tr style=\"text-align: right;\">\n",
       "      <th></th>\n",
       "      <th>Rank</th>\n",
       "      <th>Title</th>\n",
       "      <th>Genre</th>\n",
       "      <th>Description</th>\n",
       "      <th>Director</th>\n",
       "      <th>Actors</th>\n",
       "      <th>Year</th>\n",
       "      <th>Runtime (Minutes)</th>\n",
       "      <th>Rating</th>\n",
       "      <th>Votes</th>\n",
       "      <th>Revenue (Millions)</th>\n",
       "      <th>Metascore</th>\n",
       "    </tr>\n",
       "  </thead>\n",
       "  <tbody>\n",
       "    <tr>\n",
       "      <th>27</th>\n",
       "      <td>28</td>\n",
       "      <td>Dead Awake</td>\n",
       "      <td>Horror,Thriller</td>\n",
       "      <td>A young woman must save herself and her friend...</td>\n",
       "      <td>Phillip Guzman</td>\n",
       "      <td>Jocelin Donahue, Jesse Bradford, Jesse Borrego...</td>\n",
       "      <td>2016</td>\n",
       "      <td>99</td>\n",
       "      <td>4.7</td>\n",
       "      <td>523</td>\n",
       "      <td>0.01</td>\n",
       "      <td>NaN</td>\n",
       "    </tr>\n",
       "    <tr>\n",
       "      <th>68</th>\n",
       "      <td>69</td>\n",
       "      <td>Wakefield</td>\n",
       "      <td>Drama</td>\n",
       "      <td>A man's nervous breakdown causes him to leave ...</td>\n",
       "      <td>Robin Swicord</td>\n",
       "      <td>Bryan Cranston, Jennifer Garner, Beverly D'Ang...</td>\n",
       "      <td>2016</td>\n",
       "      <td>106</td>\n",
       "      <td>7.5</td>\n",
       "      <td>291</td>\n",
       "      <td>0.01</td>\n",
       "      <td>61.0</td>\n",
       "    </tr>\n",
       "    <tr>\n",
       "      <th>97</th>\n",
       "      <td>98</td>\n",
       "      <td>The Void</td>\n",
       "      <td>Horror,Mystery,Sci-Fi</td>\n",
       "      <td>Shortly after delivering a patient to an under...</td>\n",
       "      <td>Jeremy Gillespie</td>\n",
       "      <td>Aaron Poole, Kenneth Welsh,Daniel Fathers, Kat...</td>\n",
       "      <td>2016</td>\n",
       "      <td>90</td>\n",
       "      <td>5.8</td>\n",
       "      <td>9247</td>\n",
       "      <td>0.15</td>\n",
       "      <td>62.0</td>\n",
       "    </tr>\n",
       "    <tr>\n",
       "      <th>152</th>\n",
       "      <td>153</td>\n",
       "      <td>White Girl</td>\n",
       "      <td>Drama</td>\n",
       "      <td>Summer, New York City. A college girl falls ha...</td>\n",
       "      <td>Elizabeth Wood</td>\n",
       "      <td>Morgan Saylor, Brian Marc, Justin Bartha, Adri...</td>\n",
       "      <td>2016</td>\n",
       "      <td>88</td>\n",
       "      <td>5.8</td>\n",
       "      <td>4299</td>\n",
       "      <td>0.20</td>\n",
       "      <td>65.0</td>\n",
       "    </tr>\n",
       "    <tr>\n",
       "      <th>206</th>\n",
       "      <td>207</td>\n",
       "      <td>Raw (II)</td>\n",
       "      <td>Drama,Horror</td>\n",
       "      <td>When a young vegetarian undergoes a carnivorou...</td>\n",
       "      <td>Julia Ducournau</td>\n",
       "      <td>Garance Marillier, Ella Rumpf, Rabah Nait Oufe...</td>\n",
       "      <td>2016</td>\n",
       "      <td>99</td>\n",
       "      <td>7.5</td>\n",
       "      <td>5435</td>\n",
       "      <td>0.51</td>\n",
       "      <td>81.0</td>\n",
       "    </tr>\n",
       "    <tr>\n",
       "      <th>...</th>\n",
       "      <td>...</td>\n",
       "      <td>...</td>\n",
       "      <td>...</td>\n",
       "      <td>...</td>\n",
       "      <td>...</td>\n",
       "      <td>...</td>\n",
       "      <td>...</td>\n",
       "      <td>...</td>\n",
       "      <td>...</td>\n",
       "      <td>...</td>\n",
       "      <td>...</td>\n",
       "      <td>...</td>\n",
       "    </tr>\n",
       "    <tr>\n",
       "      <th>940</th>\n",
       "      <td>941</td>\n",
       "      <td>The Midnight Meat Train</td>\n",
       "      <td>Horror,Mystery</td>\n",
       "      <td>A photographer's obsessive pursuit of dark sub...</td>\n",
       "      <td>Ryûhei Kitamura</td>\n",
       "      <td>Vinnie Jones, Bradley Cooper, Leslie Bibb, Bro...</td>\n",
       "      <td>2008</td>\n",
       "      <td>98</td>\n",
       "      <td>6.1</td>\n",
       "      <td>50255</td>\n",
       "      <td>0.07</td>\n",
       "      <td>58.0</td>\n",
       "    </tr>\n",
       "    <tr>\n",
       "      <th>947</th>\n",
       "      <td>948</td>\n",
       "      <td>King Cobra</td>\n",
       "      <td>Crime,Drama</td>\n",
       "      <td>This ripped-from-the-headlines drama covers th...</td>\n",
       "      <td>Justin Kelly</td>\n",
       "      <td>Garrett Clayton, Christian Slater, Molly Ringw...</td>\n",
       "      <td>2016</td>\n",
       "      <td>91</td>\n",
       "      <td>5.6</td>\n",
       "      <td>3990</td>\n",
       "      <td>0.03</td>\n",
       "      <td>48.0</td>\n",
       "    </tr>\n",
       "    <tr>\n",
       "      <th>949</th>\n",
       "      <td>950</td>\n",
       "      <td>Kicks</td>\n",
       "      <td>Adventure</td>\n",
       "      <td>Brandon is a 15 year old whose dream is a pair...</td>\n",
       "      <td>Justin Tipping</td>\n",
       "      <td>Jahking Guillory, Christopher Jordan Wallace,C...</td>\n",
       "      <td>2016</td>\n",
       "      <td>80</td>\n",
       "      <td>6.1</td>\n",
       "      <td>2417</td>\n",
       "      <td>0.15</td>\n",
       "      <td>69.0</td>\n",
       "    </tr>\n",
       "    <tr>\n",
       "      <th>961</th>\n",
       "      <td>962</td>\n",
       "      <td>Into the Forest</td>\n",
       "      <td>Drama,Sci-Fi,Thriller</td>\n",
       "      <td>After a massive power outage, two sisters lear...</td>\n",
       "      <td>Patricia Rozema</td>\n",
       "      <td>Ellen Page, Evan Rachel Wood, Max Minghella,Ca...</td>\n",
       "      <td>2015</td>\n",
       "      <td>101</td>\n",
       "      <td>5.9</td>\n",
       "      <td>10220</td>\n",
       "      <td>0.01</td>\n",
       "      <td>59.0</td>\n",
       "    </tr>\n",
       "    <tr>\n",
       "      <th>963</th>\n",
       "      <td>964</td>\n",
       "      <td>I Spit on Your Grave</td>\n",
       "      <td>Crime,Horror,Thriller</td>\n",
       "      <td>A writer who is brutalized during her cabin re...</td>\n",
       "      <td>Steven R. Monroe</td>\n",
       "      <td>Sarah Butler, Jeff Branson, Andrew Howard,Dani...</td>\n",
       "      <td>2010</td>\n",
       "      <td>108</td>\n",
       "      <td>6.3</td>\n",
       "      <td>60133</td>\n",
       "      <td>0.09</td>\n",
       "      <td>27.0</td>\n",
       "    </tr>\n",
       "  </tbody>\n",
       "</table>\n",
       "<p>76 rows × 12 columns</p>\n",
       "</div>"
      ],
      "text/plain": [
       "     Rank                    Title                  Genre  \\\n",
       "27     28               Dead Awake        Horror,Thriller   \n",
       "68     69                Wakefield                  Drama   \n",
       "97     98                 The Void  Horror,Mystery,Sci-Fi   \n",
       "152   153               White Girl                  Drama   \n",
       "206   207                 Raw (II)           Drama,Horror   \n",
       "..    ...                      ...                    ...   \n",
       "940   941  The Midnight Meat Train         Horror,Mystery   \n",
       "947   948               King Cobra            Crime,Drama   \n",
       "949   950                    Kicks              Adventure   \n",
       "961   962          Into the Forest  Drama,Sci-Fi,Thriller   \n",
       "963   964     I Spit on Your Grave  Crime,Horror,Thriller   \n",
       "\n",
       "                                           Description          Director  \\\n",
       "27   A young woman must save herself and her friend...    Phillip Guzman   \n",
       "68   A man's nervous breakdown causes him to leave ...     Robin Swicord   \n",
       "97   Shortly after delivering a patient to an under...  Jeremy Gillespie   \n",
       "152  Summer, New York City. A college girl falls ha...    Elizabeth Wood   \n",
       "206  When a young vegetarian undergoes a carnivorou...   Julia Ducournau   \n",
       "..                                                 ...               ...   \n",
       "940  A photographer's obsessive pursuit of dark sub...   Ryûhei Kitamura   \n",
       "947  This ripped-from-the-headlines drama covers th...      Justin Kelly   \n",
       "949  Brandon is a 15 year old whose dream is a pair...    Justin Tipping   \n",
       "961  After a massive power outage, two sisters lear...   Patricia Rozema   \n",
       "963  A writer who is brutalized during her cabin re...  Steven R. Monroe   \n",
       "\n",
       "                                                Actors  Year  \\\n",
       "27   Jocelin Donahue, Jesse Bradford, Jesse Borrego...  2016   \n",
       "68   Bryan Cranston, Jennifer Garner, Beverly D'Ang...  2016   \n",
       "97   Aaron Poole, Kenneth Welsh,Daniel Fathers, Kat...  2016   \n",
       "152  Morgan Saylor, Brian Marc, Justin Bartha, Adri...  2016   \n",
       "206  Garance Marillier, Ella Rumpf, Rabah Nait Oufe...  2016   \n",
       "..                                                 ...   ...   \n",
       "940  Vinnie Jones, Bradley Cooper, Leslie Bibb, Bro...  2008   \n",
       "947  Garrett Clayton, Christian Slater, Molly Ringw...  2016   \n",
       "949  Jahking Guillory, Christopher Jordan Wallace,C...  2016   \n",
       "961  Ellen Page, Evan Rachel Wood, Max Minghella,Ca...  2015   \n",
       "963  Sarah Butler, Jeff Branson, Andrew Howard,Dani...  2010   \n",
       "\n",
       "     Runtime (Minutes)  Rating  Votes  Revenue (Millions)  Metascore  \n",
       "27                  99     4.7    523                0.01        NaN  \n",
       "68                 106     7.5    291                0.01       61.0  \n",
       "97                  90     5.8   9247                0.15       62.0  \n",
       "152                 88     5.8   4299                0.20       65.0  \n",
       "206                 99     7.5   5435                0.51       81.0  \n",
       "..                 ...     ...    ...                 ...        ...  \n",
       "940                 98     6.1  50255                0.07       58.0  \n",
       "947                 91     5.6   3990                0.03       48.0  \n",
       "949                 80     6.1   2417                0.15       69.0  \n",
       "961                101     5.9  10220                0.01       59.0  \n",
       "963                108     6.3  60133                0.09       27.0  \n",
       "\n",
       "[76 rows x 12 columns]"
      ]
     },
     "execution_count": 7,
     "metadata": {},
     "output_type": "execute_result"
    }
   ],
   "source": [
    "df[df['Revenue (Millions)']<1]"
   ]
  },
  {
   "cell_type": "code",
   "execution_count": 8,
   "id": "fa2dc1c5",
   "metadata": {
    "execution": {
     "iopub.execute_input": "2022-06-19T10:59:04.273642Z",
     "iopub.status.busy": "2022-06-19T10:59:04.273237Z",
     "iopub.status.idle": "2022-06-19T10:59:04.279893Z",
     "shell.execute_reply": "2022-06-19T10:59:04.279119Z"
    },
    "papermill": {
     "duration": 0.022356,
     "end_time": "2022-06-19T10:59:04.281658",
     "exception": false,
     "start_time": "2022-06-19T10:59:04.259302",
     "status": "completed"
    },
    "tags": []
   },
   "outputs": [],
   "source": [
    "df.drop((df[df['Revenue (Millions)']<1]).index,inplace =True)"
   ]
  },
  {
   "cell_type": "markdown",
   "id": "4d801fc6",
   "metadata": {
    "papermill": {
     "duration": 0.01215,
     "end_time": "2022-06-19T10:59:04.306493",
     "exception": false,
     "start_time": "2022-06-19T10:59:04.294343",
     "status": "completed"
    },
    "tags": []
   },
   "source": [
    "## 3. Exploratory Data Analysis"
   ]
  },
  {
   "cell_type": "code",
   "execution_count": 9,
   "id": "17363190",
   "metadata": {
    "execution": {
     "iopub.execute_input": "2022-06-19T10:59:04.333315Z",
     "iopub.status.busy": "2022-06-19T10:59:04.332720Z",
     "iopub.status.idle": "2022-06-19T10:59:05.365772Z",
     "shell.execute_reply": "2022-06-19T10:59:05.364793Z"
    },
    "papermill": {
     "duration": 1.049229,
     "end_time": "2022-06-19T10:59:05.368257",
     "exception": false,
     "start_time": "2022-06-19T10:59:04.319028",
     "status": "completed"
    },
    "tags": []
   },
   "outputs": [],
   "source": [
    "import matplotlib.pyplot as plt\n",
    "import seaborn as sns \n",
    "\n",
    "\n",
    "%matplotlib inline"
   ]
  },
  {
   "cell_type": "code",
   "execution_count": 10,
   "id": "86bb79e2",
   "metadata": {
    "execution": {
     "iopub.execute_input": "2022-06-19T10:59:05.395679Z",
     "iopub.status.busy": "2022-06-19T10:59:05.395303Z",
     "iopub.status.idle": "2022-06-19T10:59:05.610511Z",
     "shell.execute_reply": "2022-06-19T10:59:05.609398Z"
    },
    "papermill": {
     "duration": 0.232372,
     "end_time": "2022-06-19T10:59:05.613500",
     "exception": false,
     "start_time": "2022-06-19T10:59:05.381128",
     "status": "completed"
    },
    "tags": []
   },
   "outputs": [
    {
     "name": "stdout",
     "output_type": "stream",
     "text": [
      "Following are number of movies released per year\n",
      "2016    270\n",
      "2015    111\n",
      "2014     92\n",
      "2013     83\n",
      "2012     62\n",
      "2011     61\n",
      "2010     54\n",
      "2007     52\n",
      "2008     49\n",
      "2009     47\n",
      "2006     43\n",
      "Name: Year, dtype: int64\n"
     ]
    },
    {
     "data": {
      "image/png": "[encoded data removed]",
      "text/plain": [
       "<Figure size 432x288 with 1 Axes>"
      ]
     },
     "metadata": {
      "needs_background": "light"
     },
     "output_type": "display_data"
    }
   ],
   "source": [
    "print('Following are number of movies released per year')\n",
    "print(df.Year.value_counts())\n",
    "plt.title(\"Movies released per year\")\n",
    "sns.countplot(x=df['Year'],data =df);"
   ]
  },
  {
   "cell_type": "markdown",
   "id": "8c50ca45",
   "metadata": {
    "papermill": {
     "duration": 0.012974,
     "end_time": "2022-06-19T10:59:05.640523",
     "exception": false,
     "start_time": "2022-06-19T10:59:05.627549",
     "status": "completed"
    },
    "tags": []
   },
   "source": [
    "Most of the movies of the datset were released in 2016."
   ]
  },
  {
   "cell_type": "code",
   "execution_count": 11,
   "id": "04a9331d",
   "metadata": {
    "execution": {
     "iopub.execute_input": "2022-06-19T10:59:05.668865Z",
     "iopub.status.busy": "2022-06-19T10:59:05.668223Z",
     "iopub.status.idle": "2022-06-19T10:59:05.845678Z",
     "shell.execute_reply": "2022-06-19T10:59:05.844973Z"
    },
    "papermill": {
     "duration": 0.193873,
     "end_time": "2022-06-19T10:59:05.847565",
     "exception": false,
     "start_time": "2022-06-19T10:59:05.653692",
     "status": "completed"
    },
    "tags": []
   },
   "outputs": [
    {
     "data": {
      "image/png": "[encoded data removed]",
      "text/plain": [
       "<Figure size 576x432 with 1 Axes>"
      ]
     },
     "metadata": {
      "needs_background": "light"
     },
     "output_type": "display_data"
    }
   ],
   "source": [
    "plt.figure(figsize=(8,6))\n",
    "sns.scatterplot(y='Revenue (Millions)',x=df['Votes'],data=df,color='green');\n",
    "plt.title(\"Revenue generated v/s votes obtained\");"
   ]
  },
  {
   "cell_type": "markdown",
   "id": "57f84309",
   "metadata": {
    "papermill": {
     "duration": 0.01364,
     "end_time": "2022-06-19T10:59:05.875029",
     "exception": false,
     "start_time": "2022-06-19T10:59:05.861389",
     "status": "completed"
    },
    "tags": []
   },
   "source": [
    "The plot is clustered near origin, it can be assumed out with the increasing Revenue, the number of votes hardly increase.\n",
    "Also, there are very few movies with very high revenue."
   ]
  },
  {
   "cell_type": "code",
   "execution_count": 12,
   "id": "4453da55",
   "metadata": {
    "execution": {
     "iopub.execute_input": "2022-06-19T10:59:05.904934Z",
     "iopub.status.busy": "2022-06-19T10:59:05.904309Z",
     "iopub.status.idle": "2022-06-19T10:59:06.082789Z",
     "shell.execute_reply": "2022-06-19T10:59:06.081847Z"
    },
    "papermill": {
     "duration": 0.196226,
     "end_time": "2022-06-19T10:59:06.085105",
     "exception": false,
     "start_time": "2022-06-19T10:59:05.888879",
     "status": "completed"
    },
    "tags": []
   },
   "outputs": [
    {
     "data": {
      "image/png": "[encoded data removed]",
      "text/plain": [
       "<Figure size 432x288 with 1 Axes>"
      ]
     },
     "metadata": {
      "needs_background": "light"
     },
     "output_type": "display_data"
    }
   ],
   "source": [
    "sns.scatterplot(y='Revenue (Millions)',x=df['Votes'],data=df.loc[df['Revenue (Millions)']<400],color='pink');"
   ]
  },
  {
   "cell_type": "markdown",
   "id": "4e78e24a",
   "metadata": {
    "papermill": {
     "duration": 0.013757,
     "end_time": "2022-06-19T10:59:06.112982",
     "exception": false,
     "start_time": "2022-06-19T10:59:06.099225",
     "status": "completed"
    },
    "tags": []
   },
   "source": [
    "This concludes, that Revenue generated and votes earned by the movies are not linearly realated."
   ]
  },
  {
   "cell_type": "markdown",
   "id": "c26544dc",
   "metadata": {
    "papermill": {
     "duration": 0.013962,
     "end_time": "2022-06-19T10:59:06.141264",
     "exception": false,
     "start_time": "2022-06-19T10:59:06.127302",
     "status": "completed"
    },
    "tags": []
   },
   "source": [
    "### Movies and Runtime "
   ]
  },
  {
   "cell_type": "code",
   "execution_count": 13,
   "id": "2dc80238",
   "metadata": {
    "execution": {
     "iopub.execute_input": "2022-06-19T10:59:06.171854Z",
     "iopub.status.busy": "2022-06-19T10:59:06.171176Z",
     "iopub.status.idle": "2022-06-19T10:59:06.409451Z",
     "shell.execute_reply": "2022-06-19T10:59:06.408437Z"
    },
    "papermill": {
     "duration": 0.256334,
     "end_time": "2022-06-19T10:59:06.411727",
     "exception": false,
     "start_time": "2022-06-19T10:59:06.155393",
     "status": "completed"
    },
    "tags": []
   },
   "outputs": [
    {
     "data": {
      "image/png": "[encoded data removed]",
      "text/plain": [
       "<Figure size 432x288 with 1 Axes>"
      ]
     },
     "metadata": {
      "needs_background": "light"
     },
     "output_type": "display_data"
    }
   ],
   "source": [
    "sns.histplot(x='Runtime (Minutes)',data=df);\n",
    "plt.title('No.of movies as per their runtime');"
   ]
  },
  {
   "cell_type": "markdown",
   "id": "ce987010",
   "metadata": {
    "papermill": {
     "duration": 0.014567,
     "end_time": "2022-06-19T10:59:06.441494",
     "exception": false,
     "start_time": "2022-06-19T10:59:06.426927",
     "status": "completed"
    },
    "tags": []
   },
   "source": [
    "This is bell shape curve, that means most of the movies runtime is around the median,that is 80 minutes to 120 minutes duration."
   ]
  },
  {
   "cell_type": "code",
   "execution_count": 14,
   "id": "87e1eb6d",
   "metadata": {
    "execution": {
     "iopub.execute_input": "2022-06-19T10:59:06.473160Z",
     "iopub.status.busy": "2022-06-19T10:59:06.472287Z",
     "iopub.status.idle": "2022-06-19T10:59:06.482429Z",
     "shell.execute_reply": "2022-06-19T10:59:06.481351Z"
    },
    "papermill": {
     "duration": 0.02816,
     "end_time": "2022-06-19T10:59:06.484550",
     "exception": false,
     "start_time": "2022-06-19T10:59:06.456390",
     "status": "completed"
    },
    "tags": []
   },
   "outputs": [
    {
     "data": {
      "text/plain": [
       "Year\n",
       "2006     88.137971\n",
       "2007     89.192606\n",
       "2008    104.813395\n",
       "2009    119.645436\n",
       "2010    115.506095\n",
       "2011     90.404695\n",
       "2012    111.446129\n",
       "2013     95.346375\n",
       "2014     90.516908\n",
       "2015     90.201165\n",
       "2016     69.757469\n",
       "Name: Revenue (Millions), dtype: float64"
      ]
     },
     "execution_count": 14,
     "metadata": {},
     "output_type": "execute_result"
    }
   ],
   "source": [
    "df.groupby(\"Year\")['Revenue (Millions)'].mean()"
   ]
  },
  {
   "cell_type": "markdown",
   "id": "92dad9c6",
   "metadata": {
    "papermill": {
     "duration": 0.013933,
     "end_time": "2022-06-19T10:59:06.513085",
     "exception": false,
     "start_time": "2022-06-19T10:59:06.499152",
     "status": "completed"
    },
    "tags": []
   },
   "source": [
    "Highest revenue was generated in year 2009 which was ~112 Millions"
   ]
  },
  {
   "cell_type": "code",
   "execution_count": 15,
   "id": "e87669ea",
   "metadata": {
    "execution": {
     "iopub.execute_input": "2022-06-19T10:59:06.543494Z",
     "iopub.status.busy": "2022-06-19T10:59:06.542625Z",
     "iopub.status.idle": "2022-06-19T10:59:07.116962Z",
     "shell.execute_reply": "2022-06-19T10:59:07.116088Z"
    },
    "papermill": {
     "duration": 0.592015,
     "end_time": "2022-06-19T10:59:07.119380",
     "exception": false,
     "start_time": "2022-06-19T10:59:06.527365",
     "status": "completed"
    },
    "tags": []
   },
   "outputs": [
    {
     "data": {
      "image/png": "[encoded data removed]",
      "text/plain": [
       "<Figure size 432x288 with 1 Axes>"
      ]
     },
     "metadata": {
      "needs_background": "light"
     },
     "output_type": "display_data"
    }
   ],
   "source": [
    "sns.barplot(x='Year',y='Revenue (Millions)',data=df);"
   ]
  },
  {
   "cell_type": "markdown",
   "id": "7b67dcb7",
   "metadata": {
    "papermill": {
     "duration": 0.014771,
     "end_time": "2022-06-19T10:59:07.149096",
     "exception": false,
     "start_time": "2022-06-19T10:59:07.134325",
     "status": "completed"
    },
    "tags": []
   },
   "source": [
    "### Movies with highest and the lowest Revenues"
   ]
  },
  {
   "cell_type": "code",
   "execution_count": 16,
   "id": "819fddef",
   "metadata": {
    "execution": {
     "iopub.execute_input": "2022-06-19T10:59:07.181458Z",
     "iopub.status.busy": "2022-06-19T10:59:07.179920Z",
     "iopub.status.idle": "2022-06-19T10:59:07.200136Z",
     "shell.execute_reply": "2022-06-19T10:59:07.199408Z"
    },
    "papermill": {
     "duration": 0.039097,
     "end_time": "2022-06-19T10:59:07.202901",
     "exception": false,
     "start_time": "2022-06-19T10:59:07.163804",
     "status": "completed"
    },
    "tags": []
   },
   "outputs": [
    {
     "name": "stdout",
     "output_type": "stream",
     "text": [
      "The movie with the highest Revenue:\n"
     ]
    },
    {
     "data": {
      "text/html": [
       "<div>\n",
       "<style scoped>\n",
       "    .dataframe tbody tr th:only-of-type {\n",
       "        vertical-align: middle;\n",
       "    }\n",
       "\n",
       "    .dataframe tbody tr th {\n",
       "        vertical-align: top;\n",
       "    }\n",
       "\n",
       "    .dataframe thead th {\n",
       "        text-align: right;\n",
       "    }\n",
       "</style>\n",
       "<table border=\"1\" class=\"dataframe\">\n",
       "  <thead>\n",
       "    <tr style=\"text-align: right;\">\n",
       "      <th></th>\n",
       "      <th>Rank</th>\n",
       "      <th>Title</th>\n",
       "      <th>Genre</th>\n",
       "      <th>Description</th>\n",
       "      <th>Director</th>\n",
       "      <th>Actors</th>\n",
       "      <th>Year</th>\n",
       "      <th>Runtime (Minutes)</th>\n",
       "      <th>Rating</th>\n",
       "      <th>Votes</th>\n",
       "      <th>Revenue (Millions)</th>\n",
       "      <th>Metascore</th>\n",
       "    </tr>\n",
       "  </thead>\n",
       "  <tbody>\n",
       "    <tr>\n",
       "      <th>50</th>\n",
       "      <td>51</td>\n",
       "      <td>Star Wars: Episode VII - The Force Awakens</td>\n",
       "      <td>Action,Adventure,Fantasy</td>\n",
       "      <td>Three decades after the defeat of the Galactic...</td>\n",
       "      <td>J.J. Abrams</td>\n",
       "      <td>Daisy Ridley, John Boyega, Oscar Isaac, Domhna...</td>\n",
       "      <td>2015</td>\n",
       "      <td>136</td>\n",
       "      <td>8.1</td>\n",
       "      <td>661608</td>\n",
       "      <td>936.63</td>\n",
       "      <td>81.0</td>\n",
       "    </tr>\n",
       "  </tbody>\n",
       "</table>\n",
       "</div>"
      ],
      "text/plain": [
       "    Rank                                       Title  \\\n",
       "50    51  Star Wars: Episode VII - The Force Awakens   \n",
       "\n",
       "                       Genre  \\\n",
       "50  Action,Adventure,Fantasy   \n",
       "\n",
       "                                          Description     Director  \\\n",
       "50  Three decades after the defeat of the Galactic...  J.J. Abrams   \n",
       "\n",
       "                                               Actors  Year  \\\n",
       "50  Daisy Ridley, John Boyega, Oscar Isaac, Domhna...  2015   \n",
       "\n",
       "    Runtime (Minutes)  Rating   Votes  Revenue (Millions)  Metascore  \n",
       "50                136     8.1  661608              936.63       81.0  "
      ]
     },
     "execution_count": 16,
     "metadata": {},
     "output_type": "execute_result"
    }
   ],
   "source": [
    "print(\"The movie with the highest Revenue:\")\n",
    "df[df['Revenue (Millions)'].max()==df['Revenue (Millions)']]"
   ]
  },
  {
   "cell_type": "code",
   "execution_count": 17,
   "id": "1921105f",
   "metadata": {
    "execution": {
     "iopub.execute_input": "2022-06-19T10:59:07.245831Z",
     "iopub.status.busy": "2022-06-19T10:59:07.245418Z",
     "iopub.status.idle": "2022-06-19T10:59:07.262715Z",
     "shell.execute_reply": "2022-06-19T10:59:07.261758Z"
    },
    "papermill": {
     "duration": 0.040287,
     "end_time": "2022-06-19T10:59:07.265718",
     "exception": false,
     "start_time": "2022-06-19T10:59:07.225431",
     "status": "completed"
    },
    "tags": []
   },
   "outputs": [
    {
     "name": "stdout",
     "output_type": "stream",
     "text": [
      "The movie with the highest Revenue:\n"
     ]
    },
    {
     "data": {
      "text/html": [
       "<div>\n",
       "<style scoped>\n",
       "    .dataframe tbody tr th:only-of-type {\n",
       "        vertical-align: middle;\n",
       "    }\n",
       "\n",
       "    .dataframe tbody tr th {\n",
       "        vertical-align: top;\n",
       "    }\n",
       "\n",
       "    .dataframe thead th {\n",
       "        text-align: right;\n",
       "    }\n",
       "</style>\n",
       "<table border=\"1\" class=\"dataframe\">\n",
       "  <thead>\n",
       "    <tr style=\"text-align: right;\">\n",
       "      <th></th>\n",
       "      <th>Rank</th>\n",
       "      <th>Title</th>\n",
       "      <th>Genre</th>\n",
       "      <th>Description</th>\n",
       "      <th>Director</th>\n",
       "      <th>Actors</th>\n",
       "      <th>Year</th>\n",
       "      <th>Runtime (Minutes)</th>\n",
       "      <th>Rating</th>\n",
       "      <th>Votes</th>\n",
       "      <th>Revenue (Millions)</th>\n",
       "      <th>Metascore</th>\n",
       "    </tr>\n",
       "  </thead>\n",
       "  <tbody>\n",
       "    <tr>\n",
       "      <th>467</th>\n",
       "      <td>468</td>\n",
       "      <td>Enemy</td>\n",
       "      <td>Mystery,Thriller</td>\n",
       "      <td>A man seeks out his exact look-alike after spo...</td>\n",
       "      <td>Denis Villeneuve</td>\n",
       "      <td>Jake Gyllenhaal, Mélanie Laurent, Sarah Gadon,...</td>\n",
       "      <td>2013</td>\n",
       "      <td>91</td>\n",
       "      <td>6.9</td>\n",
       "      <td>111558</td>\n",
       "      <td>1.01</td>\n",
       "      <td>61.0</td>\n",
       "    </tr>\n",
       "  </tbody>\n",
       "</table>\n",
       "</div>"
      ],
      "text/plain": [
       "     Rank  Title             Genre  \\\n",
       "467   468  Enemy  Mystery,Thriller   \n",
       "\n",
       "                                           Description          Director  \\\n",
       "467  A man seeks out his exact look-alike after spo...  Denis Villeneuve   \n",
       "\n",
       "                                                Actors  Year  \\\n",
       "467  Jake Gyllenhaal, Mélanie Laurent, Sarah Gadon,...  2013   \n",
       "\n",
       "     Runtime (Minutes)  Rating   Votes  Revenue (Millions)  Metascore  \n",
       "467                 91     6.9  111558                1.01       61.0  "
      ]
     },
     "execution_count": 17,
     "metadata": {},
     "output_type": "execute_result"
    }
   ],
   "source": [
    "print(\"The movie with the highest Revenue:\")\n",
    "df[df['Revenue (Millions)'].min()==df['Revenue (Millions)']]"
   ]
  },
  {
   "cell_type": "markdown",
   "id": "1cac3221",
   "metadata": {
    "papermill": {
     "duration": 0.014945,
     "end_time": "2022-06-19T10:59:07.295844",
     "exception": false,
     "start_time": "2022-06-19T10:59:07.280899",
     "status": "completed"
    },
    "tags": []
   },
   "source": [
    "The movie with the highest Revenue is `Star Wars:Episode VII- The forces Awakens` and the with the lowest revenue is `Enemy` "
   ]
  },
  {
   "cell_type": "markdown",
   "id": "24e1ba94",
   "metadata": {
    "execution": {
     "iopub.execute_input": "2022-06-19T10:10:40.129174Z",
     "iopub.status.busy": "2022-06-19T10:10:40.128588Z",
     "iopub.status.idle": "2022-06-19T10:10:40.136066Z",
     "shell.execute_reply": "2022-06-19T10:10:40.135022Z",
     "shell.execute_reply.started": "2022-06-19T10:10:40.129128Z"
    },
    "papermill": {
     "duration": 0.014706,
     "end_time": "2022-06-19T10:59:07.325803",
     "exception": false,
     "start_time": "2022-06-19T10:59:07.311097",
     "status": "completed"
    },
    "tags": []
   },
   "source": [
    "### Movies with higher Metascores"
   ]
  },
  {
   "cell_type": "code",
   "execution_count": 18,
   "id": "d54c0d75",
   "metadata": {
    "execution": {
     "iopub.execute_input": "2022-06-19T10:59:07.366720Z",
     "iopub.status.busy": "2022-06-19T10:59:07.364627Z",
     "iopub.status.idle": "2022-06-19T10:59:07.380302Z",
     "shell.execute_reply": "2022-06-19T10:59:07.379182Z"
    },
    "papermill": {
     "duration": 0.037279,
     "end_time": "2022-06-19T10:59:07.382518",
     "exception": false,
     "start_time": "2022-06-19T10:59:07.345239",
     "status": "completed"
    },
    "tags": []
   },
   "outputs": [
    {
     "data": {
      "text/html": [
       "<div>\n",
       "<style scoped>\n",
       "    .dataframe tbody tr th:only-of-type {\n",
       "        vertical-align: middle;\n",
       "    }\n",
       "\n",
       "    .dataframe tbody tr th {\n",
       "        vertical-align: top;\n",
       "    }\n",
       "\n",
       "    .dataframe thead th {\n",
       "        text-align: right;\n",
       "    }\n",
       "</style>\n",
       "<table border=\"1\" class=\"dataframe\">\n",
       "  <thead>\n",
       "    <tr style=\"text-align: right;\">\n",
       "      <th></th>\n",
       "      <th>Rank</th>\n",
       "      <th>Title</th>\n",
       "      <th>Votes</th>\n",
       "      <th>Genre</th>\n",
       "    </tr>\n",
       "  </thead>\n",
       "  <tbody>\n",
       "    <tr>\n",
       "      <th>21</th>\n",
       "      <td>22</td>\n",
       "      <td>Manchester by the Sea</td>\n",
       "      <td>134213</td>\n",
       "      <td>Drama</td>\n",
       "    </tr>\n",
       "    <tr>\n",
       "      <th>41</th>\n",
       "      <td>42</td>\n",
       "      <td>Moonlight</td>\n",
       "      <td>135095</td>\n",
       "      <td>Drama</td>\n",
       "    </tr>\n",
       "    <tr>\n",
       "      <th>111</th>\n",
       "      <td>112</td>\n",
       "      <td>12 Years a Slave</td>\n",
       "      <td>486338</td>\n",
       "      <td>Biography,Drama,History</td>\n",
       "    </tr>\n",
       "    <tr>\n",
       "      <th>230</th>\n",
       "      <td>231</td>\n",
       "      <td>Pan's Labyrinth</td>\n",
       "      <td>498879</td>\n",
       "      <td>Drama,Fantasy,War</td>\n",
       "    </tr>\n",
       "    <tr>\n",
       "      <th>489</th>\n",
       "      <td>490</td>\n",
       "      <td>Ratatouille</td>\n",
       "      <td>504039</td>\n",
       "      <td>Animation,Comedy,Family</td>\n",
       "    </tr>\n",
       "    <tr>\n",
       "      <th>509</th>\n",
       "      <td>510</td>\n",
       "      <td>Gravity</td>\n",
       "      <td>622089</td>\n",
       "      <td>Drama,Sci-Fi,Thriller</td>\n",
       "    </tr>\n",
       "    <tr>\n",
       "      <th>656</th>\n",
       "      <td>657</td>\n",
       "      <td>Boyhood</td>\n",
       "      <td>286722</td>\n",
       "      <td>Drama</td>\n",
       "    </tr>\n",
       "  </tbody>\n",
       "</table>\n",
       "</div>"
      ],
      "text/plain": [
       "     Rank                  Title   Votes                    Genre\n",
       "21     22  Manchester by the Sea  134213                    Drama\n",
       "41     42              Moonlight  135095                    Drama\n",
       "111   112       12 Years a Slave  486338  Biography,Drama,History\n",
       "230   231        Pan's Labyrinth  498879        Drama,Fantasy,War\n",
       "489   490            Ratatouille  504039  Animation,Comedy,Family\n",
       "509   510                Gravity  622089    Drama,Sci-Fi,Thriller\n",
       "656   657                Boyhood  286722                    Drama"
      ]
     },
     "execution_count": 18,
     "metadata": {},
     "output_type": "execute_result"
    }
   ],
   "source": [
    "df[['Rank','Title','Votes','Genre']].loc[df['Metascore']>95]"
   ]
  },
  {
   "cell_type": "markdown",
   "id": "9371a28c",
   "metadata": {
    "papermill": {
     "duration": 0.015245,
     "end_time": "2022-06-19T10:59:07.413853",
     "exception": false,
     "start_time": "2022-06-19T10:59:07.398608",
     "status": "completed"
    },
    "tags": []
   },
   "source": [
    "Out of 7 movies, 6 belongs to Genre `Drama`, this indicates, audience like the movie having drama in it."
   ]
  },
  {
   "cell_type": "markdown",
   "id": "14f85a3e",
   "metadata": {
    "papermill": {
     "duration": 0.014779,
     "end_time": "2022-06-19T10:59:07.444327",
     "exception": false,
     "start_time": "2022-06-19T10:59:07.429548",
     "status": "completed"
    },
    "tags": []
   },
   "source": [
    "### Movies with higher Votes"
   ]
  },
  {
   "cell_type": "code",
   "execution_count": 19,
   "id": "f8931454",
   "metadata": {
    "execution": {
     "iopub.execute_input": "2022-06-19T10:59:07.476880Z",
     "iopub.status.busy": "2022-06-19T10:59:07.476097Z",
     "iopub.status.idle": "2022-06-19T10:59:07.492642Z",
     "shell.execute_reply": "2022-06-19T10:59:07.491831Z"
    },
    "papermill": {
     "duration": 0.03518,
     "end_time": "2022-06-19T10:59:07.494588",
     "exception": false,
     "start_time": "2022-06-19T10:59:07.459408",
     "status": "completed"
    },
    "tags": []
   },
   "outputs": [
    {
     "data": {
      "text/html": [
       "<div>\n",
       "<style scoped>\n",
       "    .dataframe tbody tr th:only-of-type {\n",
       "        vertical-align: middle;\n",
       "    }\n",
       "\n",
       "    .dataframe tbody tr th {\n",
       "        vertical-align: top;\n",
       "    }\n",
       "\n",
       "    .dataframe thead th {\n",
       "        text-align: right;\n",
       "    }\n",
       "</style>\n",
       "<table border=\"1\" class=\"dataframe\">\n",
       "  <thead>\n",
       "    <tr style=\"text-align: right;\">\n",
       "      <th></th>\n",
       "      <th>Rank</th>\n",
       "      <th>Title</th>\n",
       "      <th>Votes</th>\n",
       "      <th>Genre</th>\n",
       "    </tr>\n",
       "  </thead>\n",
       "  <tbody>\n",
       "    <tr>\n",
       "      <th>36</th>\n",
       "      <td>37</td>\n",
       "      <td>Interstellar</td>\n",
       "      <td>1047747</td>\n",
       "      <td>Adventure,Drama,Sci-Fi</td>\n",
       "    </tr>\n",
       "    <tr>\n",
       "      <th>54</th>\n",
       "      <td>55</td>\n",
       "      <td>The Dark Knight</td>\n",
       "      <td>1791916</td>\n",
       "      <td>Action,Crime,Drama</td>\n",
       "    </tr>\n",
       "    <tr>\n",
       "      <th>64</th>\n",
       "      <td>65</td>\n",
       "      <td>The Prestige</td>\n",
       "      <td>913152</td>\n",
       "      <td>Drama,Mystery,Sci-Fi</td>\n",
       "    </tr>\n",
       "    <tr>\n",
       "      <th>76</th>\n",
       "      <td>77</td>\n",
       "      <td>The Avengers</td>\n",
       "      <td>1045588</td>\n",
       "      <td>Action,Sci-Fi</td>\n",
       "    </tr>\n",
       "    <tr>\n",
       "      <th>77</th>\n",
       "      <td>78</td>\n",
       "      <td>Inglourious Basterds</td>\n",
       "      <td>959065</td>\n",
       "      <td>Adventure,Drama,War</td>\n",
       "    </tr>\n",
       "    <tr>\n",
       "      <th>80</th>\n",
       "      <td>81</td>\n",
       "      <td>Inception</td>\n",
       "      <td>1583625</td>\n",
       "      <td>Action,Adventure,Sci-Fi</td>\n",
       "    </tr>\n",
       "    <tr>\n",
       "      <th>82</th>\n",
       "      <td>83</td>\n",
       "      <td>The Wolf of Wall Street</td>\n",
       "      <td>865134</td>\n",
       "      <td>Biography,Comedy,Crime</td>\n",
       "    </tr>\n",
       "    <tr>\n",
       "      <th>87</th>\n",
       "      <td>88</td>\n",
       "      <td>Avatar</td>\n",
       "      <td>935408</td>\n",
       "      <td>Action,Adventure,Fantasy</td>\n",
       "    </tr>\n",
       "    <tr>\n",
       "      <th>99</th>\n",
       "      <td>100</td>\n",
       "      <td>The Departed</td>\n",
       "      <td>937414</td>\n",
       "      <td>Crime,Drama,Thriller</td>\n",
       "    </tr>\n",
       "    <tr>\n",
       "      <th>124</th>\n",
       "      <td>125</td>\n",
       "      <td>The Dark Knight Rises</td>\n",
       "      <td>1222645</td>\n",
       "      <td>Action,Thriller</td>\n",
       "    </tr>\n",
       "    <tr>\n",
       "      <th>138</th>\n",
       "      <td>139</td>\n",
       "      <td>Shutter Island</td>\n",
       "      <td>855604</td>\n",
       "      <td>Mystery,Thriller</td>\n",
       "    </tr>\n",
       "    <tr>\n",
       "      <th>144</th>\n",
       "      <td>145</td>\n",
       "      <td>Django Unchained</td>\n",
       "      <td>1039115</td>\n",
       "      <td>Drama,Western</td>\n",
       "    </tr>\n",
       "  </tbody>\n",
       "</table>\n",
       "</div>"
      ],
      "text/plain": [
       "     Rank                    Title    Votes                     Genre\n",
       "36     37             Interstellar  1047747    Adventure,Drama,Sci-Fi\n",
       "54     55          The Dark Knight  1791916        Action,Crime,Drama\n",
       "64     65             The Prestige   913152      Drama,Mystery,Sci-Fi\n",
       "76     77             The Avengers  1045588             Action,Sci-Fi\n",
       "77     78     Inglourious Basterds   959065       Adventure,Drama,War\n",
       "80     81                Inception  1583625   Action,Adventure,Sci-Fi\n",
       "82     83  The Wolf of Wall Street   865134    Biography,Comedy,Crime\n",
       "87     88                   Avatar   935408  Action,Adventure,Fantasy\n",
       "99    100             The Departed   937414      Crime,Drama,Thriller\n",
       "124   125    The Dark Knight Rises  1222645           Action,Thriller\n",
       "138   139           Shutter Island   855604          Mystery,Thriller\n",
       "144   145         Django Unchained  1039115             Drama,Western"
      ]
     },
     "execution_count": 19,
     "metadata": {},
     "output_type": "execute_result"
    }
   ],
   "source": [
    "df[['Rank','Title','Votes','Genre']].loc[df['Votes']>800000]"
   ]
  },
  {
   "cell_type": "markdown",
   "id": "d4bf6e63",
   "metadata": {
    "papermill": {
     "duration": 0.0151,
     "end_time": "2022-06-19T10:59:07.525186",
     "exception": false,
     "start_time": "2022-06-19T10:59:07.510086",
     "status": "completed"
    },
    "tags": []
   },
   "source": [
    "With the above two code output, it can be concluded, the people like movies with the drama in it"
   ]
  },
  {
   "cell_type": "markdown",
   "id": "6aadd12d",
   "metadata": {
    "papermill": {
     "duration": 0.015049,
     "end_time": "2022-06-19T10:59:07.555593",
     "exception": false,
     "start_time": "2022-06-19T10:59:07.540544",
     "status": "completed"
    },
    "tags": []
   },
   "source": [
    "### Movies with higher Rating"
   ]
  },
  {
   "cell_type": "code",
   "execution_count": 20,
   "id": "5b9b9406",
   "metadata": {
    "execution": {
     "iopub.execute_input": "2022-06-19T10:59:07.588739Z",
     "iopub.status.busy": "2022-06-19T10:59:07.587930Z",
     "iopub.status.idle": "2022-06-19T10:59:07.603536Z",
     "shell.execute_reply": "2022-06-19T10:59:07.602576Z"
    },
    "papermill": {
     "duration": 0.034643,
     "end_time": "2022-06-19T10:59:07.605560",
     "exception": false,
     "start_time": "2022-06-19T10:59:07.570917",
     "status": "completed"
    },
    "tags": []
   },
   "outputs": [
    {
     "data": {
      "text/html": [
       "<div>\n",
       "<style scoped>\n",
       "    .dataframe tbody tr th:only-of-type {\n",
       "        vertical-align: middle;\n",
       "    }\n",
       "\n",
       "    .dataframe tbody tr th {\n",
       "        vertical-align: top;\n",
       "    }\n",
       "\n",
       "    .dataframe thead th {\n",
       "        text-align: right;\n",
       "    }\n",
       "</style>\n",
       "<table border=\"1\" class=\"dataframe\">\n",
       "  <thead>\n",
       "    <tr style=\"text-align: right;\">\n",
       "      <th></th>\n",
       "      <th>Rank</th>\n",
       "      <th>Title</th>\n",
       "      <th>Votes</th>\n",
       "      <th>Genre</th>\n",
       "    </tr>\n",
       "  </thead>\n",
       "  <tbody>\n",
       "    <tr>\n",
       "      <th>36</th>\n",
       "      <td>37</td>\n",
       "      <td>Interstellar</td>\n",
       "      <td>1047747</td>\n",
       "      <td>Adventure,Drama,Sci-Fi</td>\n",
       "    </tr>\n",
       "    <tr>\n",
       "      <th>54</th>\n",
       "      <td>55</td>\n",
       "      <td>The Dark Knight</td>\n",
       "      <td>1791916</td>\n",
       "      <td>Action,Crime,Drama</td>\n",
       "    </tr>\n",
       "    <tr>\n",
       "      <th>80</th>\n",
       "      <td>81</td>\n",
       "      <td>Inception</td>\n",
       "      <td>1583625</td>\n",
       "      <td>Action,Adventure,Sci-Fi</td>\n",
       "    </tr>\n",
       "    <tr>\n",
       "      <th>96</th>\n",
       "      <td>97</td>\n",
       "      <td>Kimi no na wa</td>\n",
       "      <td>34110</td>\n",
       "      <td>Animation,Drama,Fantasy</td>\n",
       "    </tr>\n",
       "    <tr>\n",
       "      <th>117</th>\n",
       "      <td>118</td>\n",
       "      <td>Dangal</td>\n",
       "      <td>48969</td>\n",
       "      <td>Action,Biography,Drama</td>\n",
       "    </tr>\n",
       "    <tr>\n",
       "      <th>249</th>\n",
       "      <td>250</td>\n",
       "      <td>The Intouchables</td>\n",
       "      <td>557965</td>\n",
       "      <td>Biography,Comedy,Drama</td>\n",
       "    </tr>\n",
       "  </tbody>\n",
       "</table>\n",
       "</div>"
      ],
      "text/plain": [
       "     Rank             Title    Votes                    Genre\n",
       "36     37      Interstellar  1047747   Adventure,Drama,Sci-Fi\n",
       "54     55   The Dark Knight  1791916       Action,Crime,Drama\n",
       "80     81         Inception  1583625  Action,Adventure,Sci-Fi\n",
       "96     97     Kimi no na wa    34110  Animation,Drama,Fantasy\n",
       "117   118            Dangal    48969   Action,Biography,Drama\n",
       "249   250  The Intouchables   557965   Biography,Comedy,Drama"
      ]
     },
     "execution_count": 20,
     "metadata": {},
     "output_type": "execute_result"
    }
   ],
   "source": [
    "df[['Rank','Title','Votes','Genre']].loc[df['Rating']>8.5]"
   ]
  },
  {
   "cell_type": "markdown",
   "id": "5d56a30c",
   "metadata": {
    "papermill": {
     "duration": 0.015692,
     "end_time": "2022-06-19T10:59:07.637366",
     "exception": false,
     "start_time": "2022-06-19T10:59:07.621674",
     "status": "completed"
    },
    "tags": []
   },
   "source": [
    "Lets explore more on these movies"
   ]
  },
  {
   "cell_type": "code",
   "execution_count": 21,
   "id": "ed6470c3",
   "metadata": {
    "execution": {
     "iopub.execute_input": "2022-06-19T10:59:07.671373Z",
     "iopub.status.busy": "2022-06-19T10:59:07.670567Z",
     "iopub.status.idle": "2022-06-19T10:59:07.691946Z",
     "shell.execute_reply": "2022-06-19T10:59:07.691104Z"
    },
    "papermill": {
     "duration": 0.040693,
     "end_time": "2022-06-19T10:59:07.694020",
     "exception": false,
     "start_time": "2022-06-19T10:59:07.653327",
     "status": "completed"
    },
    "tags": []
   },
   "outputs": [
    {
     "data": {
      "text/html": [
       "<div>\n",
       "<style scoped>\n",
       "    .dataframe tbody tr th:only-of-type {\n",
       "        vertical-align: middle;\n",
       "    }\n",
       "\n",
       "    .dataframe tbody tr th {\n",
       "        vertical-align: top;\n",
       "    }\n",
       "\n",
       "    .dataframe thead th {\n",
       "        text-align: right;\n",
       "    }\n",
       "</style>\n",
       "<table border=\"1\" class=\"dataframe\">\n",
       "  <thead>\n",
       "    <tr style=\"text-align: right;\">\n",
       "      <th></th>\n",
       "      <th>Rank</th>\n",
       "      <th>Title</th>\n",
       "      <th>Genre</th>\n",
       "      <th>Description</th>\n",
       "      <th>Director</th>\n",
       "      <th>Actors</th>\n",
       "      <th>Year</th>\n",
       "      <th>Runtime (Minutes)</th>\n",
       "      <th>Rating</th>\n",
       "      <th>Votes</th>\n",
       "      <th>Revenue (Millions)</th>\n",
       "      <th>Metascore</th>\n",
       "    </tr>\n",
       "  </thead>\n",
       "  <tbody>\n",
       "    <tr>\n",
       "      <th>36</th>\n",
       "      <td>37</td>\n",
       "      <td>Interstellar</td>\n",
       "      <td>Adventure,Drama,Sci-Fi</td>\n",
       "      <td>A team of explorers travel through a wormhole ...</td>\n",
       "      <td>Christopher Nolan</td>\n",
       "      <td>Matthew McConaughey, Anne Hathaway, Jessica Ch...</td>\n",
       "      <td>2014</td>\n",
       "      <td>169</td>\n",
       "      <td>8.6</td>\n",
       "      <td>1047747</td>\n",
       "      <td>187.99</td>\n",
       "      <td>74.0</td>\n",
       "    </tr>\n",
       "    <tr>\n",
       "      <th>54</th>\n",
       "      <td>55</td>\n",
       "      <td>The Dark Knight</td>\n",
       "      <td>Action,Crime,Drama</td>\n",
       "      <td>When the menace known as the Joker wreaks havo...</td>\n",
       "      <td>Christopher Nolan</td>\n",
       "      <td>Christian Bale, Heath Ledger, Aaron Eckhart,Mi...</td>\n",
       "      <td>2008</td>\n",
       "      <td>152</td>\n",
       "      <td>9.0</td>\n",
       "      <td>1791916</td>\n",
       "      <td>533.32</td>\n",
       "      <td>82.0</td>\n",
       "    </tr>\n",
       "    <tr>\n",
       "      <th>80</th>\n",
       "      <td>81</td>\n",
       "      <td>Inception</td>\n",
       "      <td>Action,Adventure,Sci-Fi</td>\n",
       "      <td>A thief, who steals corporate secrets through ...</td>\n",
       "      <td>Christopher Nolan</td>\n",
       "      <td>Leonardo DiCaprio, Joseph Gordon-Levitt, Ellen...</td>\n",
       "      <td>2010</td>\n",
       "      <td>148</td>\n",
       "      <td>8.8</td>\n",
       "      <td>1583625</td>\n",
       "      <td>292.57</td>\n",
       "      <td>74.0</td>\n",
       "    </tr>\n",
       "    <tr>\n",
       "      <th>96</th>\n",
       "      <td>97</td>\n",
       "      <td>Kimi no na wa</td>\n",
       "      <td>Animation,Drama,Fantasy</td>\n",
       "      <td>Two strangers find themselves linked in a biza...</td>\n",
       "      <td>Makoto Shinkai</td>\n",
       "      <td>Ryûnosuke Kamiki, Mone Kamishiraishi, Ryô Nari...</td>\n",
       "      <td>2016</td>\n",
       "      <td>106</td>\n",
       "      <td>8.6</td>\n",
       "      <td>34110</td>\n",
       "      <td>4.68</td>\n",
       "      <td>79.0</td>\n",
       "    </tr>\n",
       "    <tr>\n",
       "      <th>117</th>\n",
       "      <td>118</td>\n",
       "      <td>Dangal</td>\n",
       "      <td>Action,Biography,Drama</td>\n",
       "      <td>Former wrestler Mahavir Singh Phogat and his t...</td>\n",
       "      <td>Nitesh Tiwari</td>\n",
       "      <td>Aamir Khan, Sakshi Tanwar, Fatima Sana Shaikh,...</td>\n",
       "      <td>2016</td>\n",
       "      <td>161</td>\n",
       "      <td>8.8</td>\n",
       "      <td>48969</td>\n",
       "      <td>11.15</td>\n",
       "      <td>NaN</td>\n",
       "    </tr>\n",
       "    <tr>\n",
       "      <th>249</th>\n",
       "      <td>250</td>\n",
       "      <td>The Intouchables</td>\n",
       "      <td>Biography,Comedy,Drama</td>\n",
       "      <td>After he becomes a quadriplegic from a paragli...</td>\n",
       "      <td>Olivier Nakache</td>\n",
       "      <td>François Cluzet, Omar Sy, Anne Le Ny, Audrey F...</td>\n",
       "      <td>2011</td>\n",
       "      <td>112</td>\n",
       "      <td>8.6</td>\n",
       "      <td>557965</td>\n",
       "      <td>13.18</td>\n",
       "      <td>57.0</td>\n",
       "    </tr>\n",
       "  </tbody>\n",
       "</table>\n",
       "</div>"
      ],
      "text/plain": [
       "     Rank             Title                    Genre  \\\n",
       "36     37      Interstellar   Adventure,Drama,Sci-Fi   \n",
       "54     55   The Dark Knight       Action,Crime,Drama   \n",
       "80     81         Inception  Action,Adventure,Sci-Fi   \n",
       "96     97     Kimi no na wa  Animation,Drama,Fantasy   \n",
       "117   118            Dangal   Action,Biography,Drama   \n",
       "249   250  The Intouchables   Biography,Comedy,Drama   \n",
       "\n",
       "                                           Description           Director  \\\n",
       "36   A team of explorers travel through a wormhole ...  Christopher Nolan   \n",
       "54   When the menace known as the Joker wreaks havo...  Christopher Nolan   \n",
       "80   A thief, who steals corporate secrets through ...  Christopher Nolan   \n",
       "96   Two strangers find themselves linked in a biza...     Makoto Shinkai   \n",
       "117  Former wrestler Mahavir Singh Phogat and his t...      Nitesh Tiwari   \n",
       "249  After he becomes a quadriplegic from a paragli...    Olivier Nakache   \n",
       "\n",
       "                                                Actors  Year  \\\n",
       "36   Matthew McConaughey, Anne Hathaway, Jessica Ch...  2014   \n",
       "54   Christian Bale, Heath Ledger, Aaron Eckhart,Mi...  2008   \n",
       "80   Leonardo DiCaprio, Joseph Gordon-Levitt, Ellen...  2010   \n",
       "96   Ryûnosuke Kamiki, Mone Kamishiraishi, Ryô Nari...  2016   \n",
       "117  Aamir Khan, Sakshi Tanwar, Fatima Sana Shaikh,...  2016   \n",
       "249  François Cluzet, Omar Sy, Anne Le Ny, Audrey F...  2011   \n",
       "\n",
       "     Runtime (Minutes)  Rating    Votes  Revenue (Millions)  Metascore  \n",
       "36                 169     8.6  1047747              187.99       74.0  \n",
       "54                 152     9.0  1791916              533.32       82.0  \n",
       "80                 148     8.8  1583625              292.57       74.0  \n",
       "96                 106     8.6    34110                4.68       79.0  \n",
       "117                161     8.8    48969               11.15        NaN  \n",
       "249                112     8.6   557965               13.18       57.0  "
      ]
     },
     "execution_count": 21,
     "metadata": {},
     "output_type": "execute_result"
    }
   ],
   "source": [
    "top_movies = df.loc[df['Rating']>8.5]\n",
    "top_movies"
   ]
  },
  {
   "cell_type": "code",
   "execution_count": 22,
   "id": "c2b1ecf8",
   "metadata": {
    "execution": {
     "iopub.execute_input": "2022-06-19T10:59:07.729501Z",
     "iopub.status.busy": "2022-06-19T10:59:07.728361Z",
     "iopub.status.idle": "2022-06-19T10:59:07.917959Z",
     "shell.execute_reply": "2022-06-19T10:59:07.916804Z"
    },
    "papermill": {
     "duration": 0.210537,
     "end_time": "2022-06-19T10:59:07.920825",
     "exception": false,
     "start_time": "2022-06-19T10:59:07.710288",
     "status": "completed"
    },
    "tags": []
   },
   "outputs": [
    {
     "data": {
      "image/png": "[encoded data removed]",
      "text/plain": [
       "<Figure size 576x432 with 1 Axes>"
      ]
     },
     "metadata": {
      "needs_background": "light"
     },
     "output_type": "display_data"
    }
   ],
   "source": [
    "plt.figure(figsize=(8,6))\n",
    "sns.histplot(x='Director',data=top_movies,color='brown');"
   ]
  },
  {
   "cell_type": "markdown",
   "id": "8f598a76",
   "metadata": {
    "papermill": {
     "duration": 0.018,
     "end_time": "2022-06-19T10:59:07.964389",
     "exception": false,
     "start_time": "2022-06-19T10:59:07.946389",
     "status": "completed"
    },
    "tags": []
   },
   "source": [
    "Out of 6, 3 movies with the higher rating were directed by `Christopher Nolan`."
   ]
  },
  {
   "cell_type": "markdown",
   "id": "a9a00397",
   "metadata": {
    "papermill": {
     "duration": 0.016121,
     "end_time": "2022-06-19T10:59:07.996974",
     "exception": false,
     "start_time": "2022-06-19T10:59:07.980853",
     "status": "completed"
    },
    "tags": []
   },
   "source": [
    "### Director who earned the highest Revenue"
   ]
  },
  {
   "cell_type": "code",
   "execution_count": 23,
   "id": "26304cd1",
   "metadata": {
    "execution": {
     "iopub.execute_input": "2022-06-19T10:59:08.032227Z",
     "iopub.status.busy": "2022-06-19T10:59:08.031677Z",
     "iopub.status.idle": "2022-06-19T10:59:08.037542Z",
     "shell.execute_reply": "2022-06-19T10:59:08.036892Z"
    },
    "papermill": {
     "duration": 0.02578,
     "end_time": "2022-06-19T10:59:08.039304",
     "exception": false,
     "start_time": "2022-06-19T10:59:08.013524",
     "status": "completed"
    },
    "tags": []
   },
   "outputs": [
    {
     "data": {
      "text/plain": [
       "584"
      ]
     },
     "execution_count": 23,
     "metadata": {},
     "output_type": "execute_result"
    }
   ],
   "source": [
    "df.Director.nunique()"
   ]
  },
  {
   "cell_type": "markdown",
   "id": "079a4c08",
   "metadata": {
    "papermill": {
     "duration": 0.016237,
     "end_time": "2022-06-19T10:59:08.072378",
     "exception": false,
     "start_time": "2022-06-19T10:59:08.056141",
     "status": "completed"
    },
    "tags": []
   },
   "source": [
    "There are total 584 directors"
   ]
  },
  {
   "cell_type": "code",
   "execution_count": 24,
   "id": "85770c13",
   "metadata": {
    "execution": {
     "iopub.execute_input": "2022-06-19T10:59:08.107923Z",
     "iopub.status.busy": "2022-06-19T10:59:08.107004Z",
     "iopub.status.idle": "2022-06-19T10:59:08.112982Z",
     "shell.execute_reply": "2022-06-19T10:59:08.112304Z"
    },
    "papermill": {
     "duration": 0.025789,
     "end_time": "2022-06-19T10:59:08.114873",
     "exception": false,
     "start_time": "2022-06-19T10:59:08.089084",
     "status": "completed"
    },
    "tags": []
   },
   "outputs": [],
   "source": [
    "max_revenue = df.sort_values(by=['Revenue (Millions)'],ascending = False,axis =0).head(5)"
   ]
  },
  {
   "cell_type": "code",
   "execution_count": 25,
   "id": "15f4f64e",
   "metadata": {
    "execution": {
     "iopub.execute_input": "2022-06-19T10:59:08.149984Z",
     "iopub.status.busy": "2022-06-19T10:59:08.149363Z",
     "iopub.status.idle": "2022-06-19T10:59:08.164987Z",
     "shell.execute_reply": "2022-06-19T10:59:08.164274Z"
    },
    "papermill": {
     "duration": 0.03545,
     "end_time": "2022-06-19T10:59:08.166955",
     "exception": false,
     "start_time": "2022-06-19T10:59:08.131505",
     "status": "completed"
    },
    "tags": []
   },
   "outputs": [
    {
     "data": {
      "text/html": [
       "<div>\n",
       "<style scoped>\n",
       "    .dataframe tbody tr th:only-of-type {\n",
       "        vertical-align: middle;\n",
       "    }\n",
       "\n",
       "    .dataframe tbody tr th {\n",
       "        vertical-align: top;\n",
       "    }\n",
       "\n",
       "    .dataframe thead th {\n",
       "        text-align: right;\n",
       "    }\n",
       "</style>\n",
       "<table border=\"1\" class=\"dataframe\">\n",
       "  <thead>\n",
       "    <tr style=\"text-align: right;\">\n",
       "      <th></th>\n",
       "      <th>Rank</th>\n",
       "      <th>Title</th>\n",
       "      <th>Genre</th>\n",
       "      <th>Description</th>\n",
       "      <th>Director</th>\n",
       "      <th>Actors</th>\n",
       "      <th>Year</th>\n",
       "      <th>Runtime (Minutes)</th>\n",
       "      <th>Rating</th>\n",
       "      <th>Votes</th>\n",
       "      <th>Revenue (Millions)</th>\n",
       "      <th>Metascore</th>\n",
       "    </tr>\n",
       "  </thead>\n",
       "  <tbody>\n",
       "    <tr>\n",
       "      <th>50</th>\n",
       "      <td>51</td>\n",
       "      <td>Star Wars: Episode VII - The Force Awakens</td>\n",
       "      <td>Action,Adventure,Fantasy</td>\n",
       "      <td>Three decades after the defeat of the Galactic...</td>\n",
       "      <td>J.J. Abrams</td>\n",
       "      <td>Daisy Ridley, John Boyega, Oscar Isaac, Domhna...</td>\n",
       "      <td>2015</td>\n",
       "      <td>136</td>\n",
       "      <td>8.1</td>\n",
       "      <td>661608</td>\n",
       "      <td>936.63</td>\n",
       "      <td>81.0</td>\n",
       "    </tr>\n",
       "    <tr>\n",
       "      <th>87</th>\n",
       "      <td>88</td>\n",
       "      <td>Avatar</td>\n",
       "      <td>Action,Adventure,Fantasy</td>\n",
       "      <td>A paraplegic marine dispatched to the moon Pan...</td>\n",
       "      <td>James Cameron</td>\n",
       "      <td>Sam Worthington, Zoe Saldana, Sigourney Weaver...</td>\n",
       "      <td>2009</td>\n",
       "      <td>162</td>\n",
       "      <td>7.8</td>\n",
       "      <td>935408</td>\n",
       "      <td>760.51</td>\n",
       "      <td>83.0</td>\n",
       "    </tr>\n",
       "    <tr>\n",
       "      <th>85</th>\n",
       "      <td>86</td>\n",
       "      <td>Jurassic World</td>\n",
       "      <td>Action,Adventure,Sci-Fi</td>\n",
       "      <td>A new theme park, built on the original site o...</td>\n",
       "      <td>Colin Trevorrow</td>\n",
       "      <td>Chris Pratt, Bryce Dallas Howard, Ty Simpkins,...</td>\n",
       "      <td>2015</td>\n",
       "      <td>124</td>\n",
       "      <td>7.0</td>\n",
       "      <td>455169</td>\n",
       "      <td>652.18</td>\n",
       "      <td>59.0</td>\n",
       "    </tr>\n",
       "    <tr>\n",
       "      <th>76</th>\n",
       "      <td>77</td>\n",
       "      <td>The Avengers</td>\n",
       "      <td>Action,Sci-Fi</td>\n",
       "      <td>Earth's mightiest heroes must come together an...</td>\n",
       "      <td>Joss Whedon</td>\n",
       "      <td>Robert Downey Jr., Chris Evans, Scarlett Johan...</td>\n",
       "      <td>2012</td>\n",
       "      <td>143</td>\n",
       "      <td>8.1</td>\n",
       "      <td>1045588</td>\n",
       "      <td>623.28</td>\n",
       "      <td>69.0</td>\n",
       "    </tr>\n",
       "    <tr>\n",
       "      <th>54</th>\n",
       "      <td>55</td>\n",
       "      <td>The Dark Knight</td>\n",
       "      <td>Action,Crime,Drama</td>\n",
       "      <td>When the menace known as the Joker wreaks havo...</td>\n",
       "      <td>Christopher Nolan</td>\n",
       "      <td>Christian Bale, Heath Ledger, Aaron Eckhart,Mi...</td>\n",
       "      <td>2008</td>\n",
       "      <td>152</td>\n",
       "      <td>9.0</td>\n",
       "      <td>1791916</td>\n",
       "      <td>533.32</td>\n",
       "      <td>82.0</td>\n",
       "    </tr>\n",
       "  </tbody>\n",
       "</table>\n",
       "</div>"
      ],
      "text/plain": [
       "    Rank                                       Title  \\\n",
       "50    51  Star Wars: Episode VII - The Force Awakens   \n",
       "87    88                                      Avatar   \n",
       "85    86                              Jurassic World   \n",
       "76    77                                The Avengers   \n",
       "54    55                             The Dark Knight   \n",
       "\n",
       "                       Genre  \\\n",
       "50  Action,Adventure,Fantasy   \n",
       "87  Action,Adventure,Fantasy   \n",
       "85   Action,Adventure,Sci-Fi   \n",
       "76             Action,Sci-Fi   \n",
       "54        Action,Crime,Drama   \n",
       "\n",
       "                                          Description           Director  \\\n",
       "50  Three decades after the defeat of the Galactic...        J.J. Abrams   \n",
       "87  A paraplegic marine dispatched to the moon Pan...      James Cameron   \n",
       "85  A new theme park, built on the original site o...    Colin Trevorrow   \n",
       "76  Earth's mightiest heroes must come together an...        Joss Whedon   \n",
       "54  When the menace known as the Joker wreaks havo...  Christopher Nolan   \n",
       "\n",
       "                                               Actors  Year  \\\n",
       "50  Daisy Ridley, John Boyega, Oscar Isaac, Domhna...  2015   \n",
       "87  Sam Worthington, Zoe Saldana, Sigourney Weaver...  2009   \n",
       "85  Chris Pratt, Bryce Dallas Howard, Ty Simpkins,...  2015   \n",
       "76  Robert Downey Jr., Chris Evans, Scarlett Johan...  2012   \n",
       "54  Christian Bale, Heath Ledger, Aaron Eckhart,Mi...  2008   \n",
       "\n",
       "    Runtime (Minutes)  Rating    Votes  Revenue (Millions)  Metascore  \n",
       "50                136     8.1   661608              936.63       81.0  \n",
       "87                162     7.8   935408              760.51       83.0  \n",
       "85                124     7.0   455169              652.18       59.0  \n",
       "76                143     8.1  1045588              623.28       69.0  \n",
       "54                152     9.0  1791916              533.32       82.0  "
      ]
     },
     "execution_count": 25,
     "metadata": {},
     "output_type": "execute_result"
    }
   ],
   "source": [
    "max_revenue"
   ]
  },
  {
   "cell_type": "code",
   "execution_count": 26,
   "id": "99995b00",
   "metadata": {
    "execution": {
     "iopub.execute_input": "2022-06-19T10:59:08.202746Z",
     "iopub.status.busy": "2022-06-19T10:59:08.202137Z",
     "iopub.status.idle": "2022-06-19T10:59:08.209444Z",
     "shell.execute_reply": "2022-06-19T10:59:08.208348Z"
    },
    "papermill": {
     "duration": 0.027681,
     "end_time": "2022-06-19T10:59:08.211622",
     "exception": false,
     "start_time": "2022-06-19T10:59:08.183941",
     "status": "completed"
    },
    "tags": []
   },
   "outputs": [
    {
     "data": {
      "text/plain": [
       "50          J.J. Abrams\n",
       "87        James Cameron\n",
       "85      Colin Trevorrow\n",
       "76          Joss Whedon\n",
       "54    Christopher Nolan\n",
       "Name: Director, dtype: object"
      ]
     },
     "execution_count": 26,
     "metadata": {},
     "output_type": "execute_result"
    }
   ],
   "source": [
    "max_revenue.Director"
   ]
  },
  {
   "cell_type": "code",
   "execution_count": 27,
   "id": "59e3044a",
   "metadata": {
    "execution": {
     "iopub.execute_input": "2022-06-19T10:59:08.247919Z",
     "iopub.status.busy": "2022-06-19T10:59:08.247556Z",
     "iopub.status.idle": "2022-06-19T10:59:08.428016Z",
     "shell.execute_reply": "2022-06-19T10:59:08.426986Z"
    },
    "papermill": {
     "duration": 0.201368,
     "end_time": "2022-06-19T10:59:08.430269",
     "exception": false,
     "start_time": "2022-06-19T10:59:08.228901",
     "status": "completed"
    },
    "tags": []
   },
   "outputs": [
    {
     "data": {
      "image/png": "[encoded data removed]",
      "text/plain": [
       "<Figure size 432x288 with 1 Axes>"
      ]
     },
     "metadata": {
      "needs_background": "light"
     },
     "output_type": "display_data"
    }
   ],
   "source": [
    "sns.barplot(x='Revenue (Millions)',y='Director',data=max_revenue);"
   ]
  },
  {
   "cell_type": "code",
   "execution_count": null,
   "id": "dfdc1df3",
   "metadata": {
    "papermill": {
     "duration": 0.01698,
     "end_time": "2022-06-19T10:59:08.465379",
     "exception": false,
     "start_time": "2022-06-19T10:59:08.448399",
     "status": "completed"
    },
    "tags": []
   },
   "outputs": [],
   "source": []
  }
 ],
 "metadata": {
  "kernelspec": {
   "display_name": "Python 3",
   "language": "python",
   "name": "python3"
  },
  "language_info": {
   "codemirror_mode": {
    "name": "ipython",
    "version": 3
   },
   "file_extension": ".py",
   "mimetype": "text/x-python",
   "name": "python",
   "nbconvert_exporter": "python",
   "pygments_lexer": "ipython3",
   "version": "3.7.12"
  },
  "papermill": {
   "default_parameters": {},
   "duration": 15.374968,
   "end_time": "2022-06-19T10:59:09.204379",
   "environment_variables": {},
   "exception": null,
   "input_path": "__notebook__.ipynb",
   "output_path": "__notebook__.ipynb",
   "parameters": {},
   "start_time": "2022-06-19T10:58:53.829411",
   "version": "2.3.4"
  }
 },
 "nbformat": 4,
 "nbformat_minor": 5
}
