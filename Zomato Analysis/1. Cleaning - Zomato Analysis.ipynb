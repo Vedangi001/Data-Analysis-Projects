{
 "cells": [
  {
   "cell_type": "markdown",
   "id": "b9bbadce",
   "metadata": {},
   "source": [
    "# 1. Data Cleaning \n",
    "\n",
    "\n",
    "## Topic - Zomato Analysis"
   ]
  },
  {
   "cell_type": "markdown",
   "id": "9bb25ab3",
   "metadata": {},
   "source": [
    "### Processes Done in the Data Cleaning\n",
    "\n",
    "#### 1. Removing the null data\n",
    "#### 2. Formatting the data as per the column\n",
    "#### 3. Splitting the joined columns into seperate fields"
   ]
  },
  {
   "cell_type": "code",
   "execution_count": 1,
   "id": "ec75a258",
   "metadata": {},
   "outputs": [],
   "source": [
    "import pandas as pd\n",
    "import numpy as np"
   ]
  },
  {
   "cell_type": "markdown",
   "id": "95b64ef5",
   "metadata": {},
   "source": [
    "## Loading the dataset\n",
    "\n",
    "source - https://www.kaggle.com/datasets/rabhar/zomato-restaurants-in-india?resource=download&select=zomato_restaurants_in_India.csv\n",
    "\n",
    "\n",
    "The dataset from various sources were collected, few of them were of a particular city of india, few were of just metropolitan cities. \n",
    "\n",
    "The final dataset which is used for data analysis is mentioned above in source, it has 2Lakhs rows and 26 columns in starting.\n",
    "\n",
    "\n",
    "Following is the data pre-processing, to make our data ready for analysis."
   ]
  },
  {
   "cell_type": "code",
   "execution_count": 2,
   "id": "1210b9bf",
   "metadata": {},
   "outputs": [],
   "source": [
    "df=pd.read_csv(r\"C:\\Users\\Vedangi Sharma\\Downloads\\Team 244 IBM\\zomato_restaurants_in_India.csv\")"
   ]
  },
  {
   "cell_type": "code",
   "execution_count": 4,
   "id": "8a5e078c",
   "metadata": {},
   "outputs": [
    {
     "data": {
      "text/plain": [
       "(211944, 26)"
      ]
     },
     "execution_count": 4,
     "metadata": {},
     "output_type": "execute_result"
    }
   ],
   "source": [
    "df.shape"
   ]
  },
  {
   "cell_type": "code",
   "execution_count": 5,
   "id": "9f6658f0",
   "metadata": {},
   "outputs": [
    {
     "data": {
      "text/html": [
       "<div>\n",
       "<style scoped>\n",
       "    .dataframe tbody tr th:only-of-type {\n",
       "        vertical-align: middle;\n",
       "    }\n",
       "\n",
       "    .dataframe tbody tr th {\n",
       "        vertical-align: top;\n",
       "    }\n",
       "\n",
       "    .dataframe thead th {\n",
       "        text-align: right;\n",
       "    }\n",
       "</style>\n",
       "<table border=\"1\" class=\"dataframe\">\n",
       "  <thead>\n",
       "    <tr style=\"text-align: right;\">\n",
       "      <th></th>\n",
       "      <th>res_id</th>\n",
       "      <th>name</th>\n",
       "      <th>establishment</th>\n",
       "      <th>url</th>\n",
       "      <th>address</th>\n",
       "      <th>city</th>\n",
       "      <th>city_id</th>\n",
       "      <th>locality</th>\n",
       "      <th>latitude</th>\n",
       "      <th>longitude</th>\n",
       "      <th>...</th>\n",
       "      <th>price_range</th>\n",
       "      <th>currency</th>\n",
       "      <th>highlights</th>\n",
       "      <th>aggregate_rating</th>\n",
       "      <th>rating_text</th>\n",
       "      <th>votes</th>\n",
       "      <th>photo_count</th>\n",
       "      <th>opentable_support</th>\n",
       "      <th>delivery</th>\n",
       "      <th>takeaway</th>\n",
       "    </tr>\n",
       "  </thead>\n",
       "  <tbody>\n",
       "    <tr>\n",
       "      <th>0</th>\n",
       "      <td>3400299</td>\n",
       "      <td>Bikanervala</td>\n",
       "      <td>['Quick Bites']</td>\n",
       "      <td>https://www.zomato.com/agra/bikanervala-khanda...</td>\n",
       "      <td>Kalyani Point, Near Tulsi Cinema, Bypass Road,...</td>\n",
       "      <td>Agra</td>\n",
       "      <td>34</td>\n",
       "      <td>Khandari</td>\n",
       "      <td>27.211450</td>\n",
       "      <td>78.002381</td>\n",
       "      <td>...</td>\n",
       "      <td>2</td>\n",
       "      <td>Rs.</td>\n",
       "      <td>['Lunch', 'Takeaway Available', 'Credit Card',...</td>\n",
       "      <td>4.4</td>\n",
       "      <td>Very Good</td>\n",
       "      <td>814</td>\n",
       "      <td>154</td>\n",
       "      <td>0.0</td>\n",
       "      <td>-1</td>\n",
       "      <td>-1</td>\n",
       "    </tr>\n",
       "    <tr>\n",
       "      <th>1</th>\n",
       "      <td>3400005</td>\n",
       "      <td>Mama Chicken Mama Franky House</td>\n",
       "      <td>['Quick Bites']</td>\n",
       "      <td>https://www.zomato.com/agra/mama-chicken-mama-...</td>\n",
       "      <td>Main Market, Sadar Bazaar, Agra Cantt, Agra</td>\n",
       "      <td>Agra</td>\n",
       "      <td>34</td>\n",
       "      <td>Agra Cantt</td>\n",
       "      <td>27.160569</td>\n",
       "      <td>78.011583</td>\n",
       "      <td>...</td>\n",
       "      <td>2</td>\n",
       "      <td>Rs.</td>\n",
       "      <td>['Delivery', 'No Alcohol Available', 'Dinner',...</td>\n",
       "      <td>4.4</td>\n",
       "      <td>Very Good</td>\n",
       "      <td>1203</td>\n",
       "      <td>161</td>\n",
       "      <td>0.0</td>\n",
       "      <td>-1</td>\n",
       "      <td>-1</td>\n",
       "    </tr>\n",
       "    <tr>\n",
       "      <th>2</th>\n",
       "      <td>3401013</td>\n",
       "      <td>Bhagat Halwai</td>\n",
       "      <td>['Quick Bites']</td>\n",
       "      <td>https://www.zomato.com/agra/bhagat-halwai-2-sh...</td>\n",
       "      <td>62/1, Near Easy Day, West Shivaji Nagar, Goalp...</td>\n",
       "      <td>Agra</td>\n",
       "      <td>34</td>\n",
       "      <td>Shahganj</td>\n",
       "      <td>27.182938</td>\n",
       "      <td>77.979684</td>\n",
       "      <td>...</td>\n",
       "      <td>1</td>\n",
       "      <td>Rs.</td>\n",
       "      <td>['No Alcohol Available', 'Dinner', 'Takeaway A...</td>\n",
       "      <td>4.2</td>\n",
       "      <td>Very Good</td>\n",
       "      <td>801</td>\n",
       "      <td>107</td>\n",
       "      <td>0.0</td>\n",
       "      <td>1</td>\n",
       "      <td>-1</td>\n",
       "    </tr>\n",
       "    <tr>\n",
       "      <th>3</th>\n",
       "      <td>3400290</td>\n",
       "      <td>Bhagat Halwai</td>\n",
       "      <td>['Quick Bites']</td>\n",
       "      <td>https://www.zomato.com/agra/bhagat-halwai-civi...</td>\n",
       "      <td>Near Anjana Cinema, Nehru Nagar, Civil Lines, ...</td>\n",
       "      <td>Agra</td>\n",
       "      <td>34</td>\n",
       "      <td>Civil Lines</td>\n",
       "      <td>27.205668</td>\n",
       "      <td>78.004799</td>\n",
       "      <td>...</td>\n",
       "      <td>1</td>\n",
       "      <td>Rs.</td>\n",
       "      <td>['Takeaway Available', 'Credit Card', 'Lunch',...</td>\n",
       "      <td>4.3</td>\n",
       "      <td>Very Good</td>\n",
       "      <td>693</td>\n",
       "      <td>157</td>\n",
       "      <td>0.0</td>\n",
       "      <td>1</td>\n",
       "      <td>-1</td>\n",
       "    </tr>\n",
       "    <tr>\n",
       "      <th>4</th>\n",
       "      <td>3401744</td>\n",
       "      <td>The Salt Cafe Kitchen &amp; Bar</td>\n",
       "      <td>['Casual Dining']</td>\n",
       "      <td>https://www.zomato.com/agra/the-salt-cafe-kitc...</td>\n",
       "      <td>1C,3rd Floor, Fatehabad Road, Tajganj, Agra</td>\n",
       "      <td>Agra</td>\n",
       "      <td>34</td>\n",
       "      <td>Tajganj</td>\n",
       "      <td>27.157709</td>\n",
       "      <td>78.052421</td>\n",
       "      <td>...</td>\n",
       "      <td>3</td>\n",
       "      <td>Rs.</td>\n",
       "      <td>['Lunch', 'Serves Alcohol', 'Cash', 'Credit Ca...</td>\n",
       "      <td>4.9</td>\n",
       "      <td>Excellent</td>\n",
       "      <td>470</td>\n",
       "      <td>291</td>\n",
       "      <td>0.0</td>\n",
       "      <td>1</td>\n",
       "      <td>-1</td>\n",
       "    </tr>\n",
       "  </tbody>\n",
       "</table>\n",
       "<p>5 rows × 26 columns</p>\n",
       "</div>"
      ],
      "text/plain": [
       "    res_id                            name      establishment  \\\n",
       "0  3400299                     Bikanervala    ['Quick Bites']   \n",
       "1  3400005  Mama Chicken Mama Franky House    ['Quick Bites']   \n",
       "2  3401013                   Bhagat Halwai    ['Quick Bites']   \n",
       "3  3400290                   Bhagat Halwai    ['Quick Bites']   \n",
       "4  3401744     The Salt Cafe Kitchen & Bar  ['Casual Dining']   \n",
       "\n",
       "                                                 url  \\\n",
       "0  https://www.zomato.com/agra/bikanervala-khanda...   \n",
       "1  https://www.zomato.com/agra/mama-chicken-mama-...   \n",
       "2  https://www.zomato.com/agra/bhagat-halwai-2-sh...   \n",
       "3  https://www.zomato.com/agra/bhagat-halwai-civi...   \n",
       "4  https://www.zomato.com/agra/the-salt-cafe-kitc...   \n",
       "\n",
       "                                             address  city  city_id  \\\n",
       "0  Kalyani Point, Near Tulsi Cinema, Bypass Road,...  Agra       34   \n",
       "1        Main Market, Sadar Bazaar, Agra Cantt, Agra  Agra       34   \n",
       "2  62/1, Near Easy Day, West Shivaji Nagar, Goalp...  Agra       34   \n",
       "3  Near Anjana Cinema, Nehru Nagar, Civil Lines, ...  Agra       34   \n",
       "4        1C,3rd Floor, Fatehabad Road, Tajganj, Agra  Agra       34   \n",
       "\n",
       "      locality   latitude  longitude  ... price_range  currency  \\\n",
       "0     Khandari  27.211450  78.002381  ...           2       Rs.   \n",
       "1   Agra Cantt  27.160569  78.011583  ...           2       Rs.   \n",
       "2     Shahganj  27.182938  77.979684  ...           1       Rs.   \n",
       "3  Civil Lines  27.205668  78.004799  ...           1       Rs.   \n",
       "4      Tajganj  27.157709  78.052421  ...           3       Rs.   \n",
       "\n",
       "                                          highlights aggregate_rating  \\\n",
       "0  ['Lunch', 'Takeaway Available', 'Credit Card',...              4.4   \n",
       "1  ['Delivery', 'No Alcohol Available', 'Dinner',...              4.4   \n",
       "2  ['No Alcohol Available', 'Dinner', 'Takeaway A...              4.2   \n",
       "3  ['Takeaway Available', 'Credit Card', 'Lunch',...              4.3   \n",
       "4  ['Lunch', 'Serves Alcohol', 'Cash', 'Credit Ca...              4.9   \n",
       "\n",
       "  rating_text  votes  photo_count opentable_support delivery  takeaway  \n",
       "0   Very Good    814          154               0.0       -1        -1  \n",
       "1   Very Good   1203          161               0.0       -1        -1  \n",
       "2   Very Good    801          107               0.0        1        -1  \n",
       "3   Very Good    693          157               0.0        1        -1  \n",
       "4   Excellent    470          291               0.0        1        -1  \n",
       "\n",
       "[5 rows x 26 columns]"
      ]
     },
     "execution_count": 5,
     "metadata": {},
     "output_type": "execute_result"
    }
   ],
   "source": [
    "df.head()"
   ]
  },
  {
   "cell_type": "code",
   "execution_count": 6,
   "id": "9e936421",
   "metadata": {},
   "outputs": [
    {
     "name": "stdout",
     "output_type": "stream",
     "text": [
      "<class 'pandas.core.frame.DataFrame'>\n",
      "RangeIndex: 211944 entries, 0 to 211943\n",
      "Data columns (total 26 columns):\n",
      " #   Column                Non-Null Count   Dtype  \n",
      "---  ------                --------------   -----  \n",
      " 0   res_id                211944 non-null  int64  \n",
      " 1   name                  211944 non-null  object \n",
      " 2   establishment         211944 non-null  object \n",
      " 3   url                   211944 non-null  object \n",
      " 4   address               211810 non-null  object \n",
      " 5   city                  211944 non-null  object \n",
      " 6   city_id               211944 non-null  int64  \n",
      " 7   locality              211944 non-null  object \n",
      " 8   latitude              211944 non-null  float64\n",
      " 9   longitude             211944 non-null  float64\n",
      " 10  zipcode               48757 non-null   object \n",
      " 11  country_id            211944 non-null  int64  \n",
      " 12  locality_verbose      211944 non-null  object \n",
      " 13  cuisines              210553 non-null  object \n",
      " 14  timings               208070 non-null  object \n",
      " 15  average_cost_for_two  211944 non-null  int64  \n",
      " 16  price_range           211944 non-null  int64  \n",
      " 17  currency              211944 non-null  object \n",
      " 18  highlights            211944 non-null  object \n",
      " 19  aggregate_rating      211944 non-null  float64\n",
      " 20  rating_text           211944 non-null  object \n",
      " 21  votes                 211944 non-null  int64  \n",
      " 22  photo_count           211944 non-null  int64  \n",
      " 23  opentable_support     211896 non-null  float64\n",
      " 24  delivery              211944 non-null  int64  \n",
      " 25  takeaway              211944 non-null  int64  \n",
      "dtypes: float64(4), int64(9), object(13)\n",
      "memory usage: 42.0+ MB\n"
     ]
    }
   ],
   "source": [
    "df.info()"
   ]
  },
  {
   "cell_type": "markdown",
   "id": "fbddf3b1",
   "metadata": {},
   "source": [
    "### Removing the duplicates from the dataset\n",
    "\n",
    "As we can see res_id is the unique field to identify the cafes, we can remove the duplicate cafes with the having same res_id"
   ]
  },
  {
   "cell_type": "code",
   "execution_count": 7,
   "id": "982316dc",
   "metadata": {},
   "outputs": [
    {
     "data": {
      "text/plain": [
       "(55568, 26)"
      ]
     },
     "execution_count": 7,
     "metadata": {},
     "output_type": "execute_result"
    }
   ],
   "source": [
    "df.drop_duplicates([\"res_id\"],keep='first',inplace=True)\n",
    "df.shape"
   ]
  },
  {
   "cell_type": "markdown",
   "id": "ec913477",
   "metadata": {},
   "source": [
    "The raw data has more than 1.5 lakh rows of duplicate data. There are few columns which are not required as such for the data analysis."
   ]
  },
  {
   "cell_type": "code",
   "execution_count": 8,
   "id": "3bda9178",
   "metadata": {},
   "outputs": [
    {
     "data": {
      "text/plain": [
       "Index(['res_id', 'name', 'establishment', 'url', 'address', 'city', 'city_id',\n",
       "       'locality', 'latitude', 'longitude', 'zipcode', 'country_id',\n",
       "       'locality_verbose', 'cuisines', 'timings', 'average_cost_for_two',\n",
       "       'price_range', 'currency', 'highlights', 'aggregate_rating',\n",
       "       'rating_text', 'votes', 'photo_count', 'opentable_support', 'delivery',\n",
       "       'takeaway'],\n",
       "      dtype='object')"
      ]
     },
     "execution_count": 8,
     "metadata": {},
     "output_type": "execute_result"
    }
   ],
   "source": [
    "df.columns"
   ]
  },
  {
   "cell_type": "code",
   "execution_count": 9,
   "id": "5fb15592",
   "metadata": {},
   "outputs": [
    {
     "data": {
      "text/plain": [
       "11 AM to 11 PM                                                    7012\n",
       "10 AM to 10 PM                                                    1726\n",
       "11 AM to 10 PM                                                    1429\n",
       "10 AM to 11 PM                                                    1184\n",
       "11 AM to 11 PM (Mon-Sun)                                          1021\n",
       "                                                                  ... \n",
       "11am – 10pm (Mon-Thu),11am – 11pm (Fri-Sat),Closed (Sun)             1\n",
       "Closed (Mon),7PM to 11PM (Tue-Sun)                                   1\n",
       "7:30 AM to 1 PM, 3 PM to 8:30 PM (Mon-Sun)                           1\n",
       "10 AM to 3 PM, 6 PM to 1 AM (Mon-Sun)                                1\n",
       "4pm – 11pm (Mon, Tue, Wed, Fri, Sat, Sun), 4pm – 11:30pm (Thu)       1\n",
       "Name: timings, Length: 7740, dtype: int64"
      ]
     },
     "execution_count": 9,
     "metadata": {},
     "output_type": "execute_result"
    }
   ],
   "source": [
    "df['timings'].value_counts()"
   ]
  },
  {
   "cell_type": "code",
   "execution_count": 13,
   "id": "19c43a40",
   "metadata": {},
   "outputs": [
    {
     "data": {
      "text/plain": [
       "0.0    55556\n",
       "Name: opentable_support, dtype: int64"
      ]
     },
     "execution_count": 13,
     "metadata": {},
     "output_type": "execute_result"
    }
   ],
   "source": [
    "df['opentable_support'].value_counts()"
   ]
  },
  {
   "cell_type": "code",
   "execution_count": 10,
   "id": "7f166a0b",
   "metadata": {},
   "outputs": [
    {
     "data": {
      "text/plain": [
       "Rs.    55568\n",
       "Name: currency, dtype: int64"
      ]
     },
     "execution_count": 10,
     "metadata": {},
     "output_type": "execute_result"
    }
   ],
   "source": [
    "df['currency'].value_counts()"
   ]
  },
  {
   "cell_type": "code",
   "execution_count": 19,
   "id": "e7cf0cf5",
   "metadata": {},
   "outputs": [
    {
     "data": {
      "text/plain": [
       "-1    55568\n",
       "Name: takeaway, dtype: int64"
      ]
     },
     "execution_count": 19,
     "metadata": {},
     "output_type": "execute_result"
    }
   ],
   "source": [
    "df['takeaway'].value_counts()"
   ]
  },
  {
   "cell_type": "markdown",
   "id": "e4c4d07f",
   "metadata": {},
   "source": [
    "### Dropping the unwanted columns\n",
    "\n",
    "'url', 'address','zipcode','locality_verbose', 'timings','currency', 'photo_count', 'opentable_support', ,'takeaway','country_id'\n",
    "\n",
    "\n",
    "The url, address, zipcode and locality verbose are very unique to the cafe, hence these can be dropped off.\n",
    "\n",
    "The timing of most of the cafes is common, and hence it is fine to not consider it in analysis.\n",
    "\n",
    "As whole of the data belongs to INDIA, the currency is same for all the rows, so with the opentable_support, takeaway and country_id, hence these too can be dropped off.\n",
    "\n",
    "Photo count is not related to analysis, so we can drop it off.\n"
   ]
  },
  {
   "cell_type": "code",
   "execution_count": 16,
   "id": "466a0b61",
   "metadata": {},
   "outputs": [],
   "source": [
    "df.drop(['url', 'address','zipcode','locality_verbose', 'timings','currency', 'photo_count','opentable_support','takeaway','country_id'],inplace=True,axis=1)"
   ]
  },
  {
   "cell_type": "code",
   "execution_count": 21,
   "id": "17731b94",
   "metadata": {},
   "outputs": [
    {
     "data": {
      "text/plain": [
       "(55568, 17)"
      ]
     },
     "execution_count": 21,
     "metadata": {},
     "output_type": "execute_result"
    }
   ],
   "source": [
    "df.shape"
   ]
  },
  {
   "cell_type": "code",
   "execution_count": 24,
   "id": "93847d22",
   "metadata": {},
   "outputs": [
    {
     "data": {
      "text/plain": [
       "Index(['res_id', 'name', 'establishment', 'city', 'city_id', 'locality',\n",
       "       'latitude', 'longitude', 'cuisines', 'average_cost_for_two',\n",
       "       'price_range', 'highlights', 'aggregate_rating', 'rating_text', 'votes',\n",
       "       'delivery'],\n",
       "      dtype='object')"
      ]
     },
     "execution_count": 24,
     "metadata": {},
     "output_type": "execute_result"
    }
   ],
   "source": [
    "df.columns"
   ]
  },
  {
   "cell_type": "markdown",
   "id": "8b6a2444",
   "metadata": {},
   "source": [
    "## Formatting the data"
   ]
  },
  {
   "cell_type": "markdown",
   "id": "3a50302e",
   "metadata": {},
   "source": [
    "####  Columns - `res_id`, `name`are the unique columns to each cafe, need no formatting."
   ]
  },
  {
   "cell_type": "markdown",
   "id": "1ba254fa",
   "metadata": {},
   "source": [
    "#### 1. Column - `establishment`"
   ]
  },
  {
   "cell_type": "code",
   "execution_count": 25,
   "id": "32bec0e5",
   "metadata": {},
   "outputs": [
    {
     "data": {
      "text/plain": [
       "array([\"['Quick Bites']\", \"['Casual Dining']\", \"['Bakery']\", \"['Café']\",\n",
       "       \"['Dhaba']\", \"['Bhojanalya']\", \"['Bar']\", \"['Sweet Shop']\",\n",
       "       \"['Fine Dining']\", \"['Food Truck']\", \"['Dessert Parlour']\",\n",
       "       \"['Lounge']\", \"['Pub']\", \"['Beverage Shop']\", \"['Kiosk']\",\n",
       "       \"['Paan Shop']\", \"['Confectionery']\", '[]', \"['Shack']\",\n",
       "       \"['Club']\", \"['Food Court']\", \"['Mess']\", \"['Butcher Shop']\",\n",
       "       \"['Microbrewery']\", \"['Cocktail Bar']\", \"['Pop up']\",\n",
       "       \"['Irani Cafe']\"], dtype=object)"
      ]
     },
     "execution_count": 25,
     "metadata": {},
     "output_type": "execute_result"
    }
   ],
   "source": [
    "df['establishment'].unique()"
   ]
  },
  {
   "cell_type": "code",
   "execution_count": 27,
   "id": "87be6090",
   "metadata": {},
   "outputs": [
    {
     "name": "stdout",
     "output_type": "stream",
     "text": [
      "['Quick Bites']\n"
     ]
    }
   ],
   "source": [
    "print(df[\"establishment\"].unique()[0])"
   ]
  },
  {
   "cell_type": "code",
   "execution_count": 28,
   "id": "446d27a5",
   "metadata": {},
   "outputs": [
    {
     "name": "stdout",
     "output_type": "stream",
     "text": [
      "Quick Bites\n"
     ]
    }
   ],
   "source": [
    "# Removing [' '] from each value\n",
    "df[\"establishment\"] = df[\"establishment\"].apply(lambda x:x[2:-2])\n",
    "print(df[\"establishment\"].unique()[0])"
   ]
  },
  {
   "cell_type": "code",
   "execution_count": 31,
   "id": "a317314e",
   "metadata": {},
   "outputs": [
    {
     "name": "stdout",
     "output_type": "stream",
     "text": [
      "['Quick Bites' 'Casual Dining' 'Bakery' 'Café' 'Dhaba' 'Bhojanalya' 'Bar'\n",
      " 'Sweet Shop' 'Fine Dining' 'Food Truck' 'Dessert Parlour' 'Lounge' 'Pub'\n",
      " 'Beverage Shop' 'Kiosk' 'Paan Shop' 'Confectionery' 'NA' 'Shack' 'Club'\n",
      " 'Food Court' 'Mess' 'Butcher Shop' 'Microbrewery' 'Cocktail Bar' 'Pop up'\n",
      " 'Irani Cafe']\n"
     ]
    }
   ],
   "source": [
    "# Changing ''  to 'NA'\n",
    "df[\"establishment\"] = df[\"establishment\"].apply(lambda x : np.where(x==\"\", \"NA\", x))\n",
    "print(df[\"establishment\"].unique())"
   ]
  },
  {
   "cell_type": "markdown",
   "id": "de1e5d06",
   "metadata": {},
   "source": [
    "#### Column - `city`, `city_id`, `locality`, `latitude`, `longitude` values are important for geospatial exploration and are already in correct format."
   ]
  },
  {
   "cell_type": "markdown",
   "id": "a806fe97",
   "metadata": {},
   "source": [
    "####  Column - `cuisines`"
   ]
  },
  {
   "cell_type": "code",
   "execution_count": 38,
   "id": "279035ca",
   "metadata": {},
   "outputs": [
    {
     "data": {
      "text/plain": [
       "North Indian                                                        4295\n",
       "Fast Food                                                           2025\n",
       "North Indian, Chinese                                               1636\n",
       "Bakery                                                              1585\n",
       "South Indian                                                        1489\n",
       "                                                                    ... \n",
       "North Indian, South Indian, Asian                                      1\n",
       "Bakery, Desserts, Fast Food, South Indian, Chinese, North Indian       1\n",
       "Continental, American, South Indian, North Indian                      1\n",
       "Ice Cream, Fast Food, Street Food                                      1\n",
       "North Indian, Lucknowi, Chinese                                        1\n",
       "Name: cuisines, Length: 9382, dtype: int64"
      ]
     },
     "execution_count": 38,
     "metadata": {},
     "output_type": "execute_result"
    }
   ],
   "source": [
    "df['cuisines'].value_counts()"
   ]
  },
  {
   "cell_type": "code",
   "execution_count": 47,
   "id": "21c1329f",
   "metadata": {},
   "outputs": [],
   "source": [
    "df[\"cuisines\"] = df[\"cuisines\"].fillna(\"No cuisine\")"
   ]
  },
  {
   "cell_type": "code",
   "execution_count": 48,
   "id": "87176d7b",
   "metadata": {},
   "outputs": [
    {
     "name": "stdout",
     "output_type": "stream",
     "text": [
      "Total number of unique cuisines =  134\n"
     ]
    }
   ],
   "source": [
    "cuisines = []\n",
    "df[\"cuisines\"].apply(lambda x : cuisines.extend(x.split(\", \")))\n",
    "cuisines = pd.Series(cuisines)\n",
    "print(\"Total number of unique cuisines = \", cuisines.nunique())"
   ]
  },
  {
   "cell_type": "code",
   "execution_count": 49,
   "id": "e1233747",
   "metadata": {},
   "outputs": [],
   "source": [
    "## counting how many cuisines a cafe is providing\n",
    "df['No. of Cuisines']=df['cuisines'].str.split(',').apply(len)"
   ]
  },
  {
   "cell_type": "markdown",
   "id": "5ca8d7c0",
   "metadata": {},
   "source": [
    "#### Columns - `average_cost_for_two` and `price_range` are very similar, average_cost_for_two represents the cost of the cafe, where as price range shows the range as follows:\n",
    "\n",
    "    price_range   Average_cost_for_two\n",
    "\n",
    "         1      0-500 \n",
    "         2      501-1000\n",
    "         3      1001 - 1500\n",
    "         4      1501 - 2000\n",
    "         5      2000 above \n",
    "         "
   ]
  },
  {
   "cell_type": "markdown",
   "id": "91e59fae",
   "metadata": {},
   "source": [
    "#### column - `highlights`"
   ]
  },
  {
   "cell_type": "code",
   "execution_count": 51,
   "id": "7f5c21ac",
   "metadata": {},
   "outputs": [
    {
     "data": {
      "text/plain": [
       "array([\"['Lunch', 'Takeaway Available', 'Credit Card', 'Dinner', 'Cash', 'Air Conditioned', 'Indoor Seating', 'Pure Veg']\",\n",
       "       \"['Delivery', 'No Alcohol Available', 'Dinner', 'Takeaway Available', 'Lunch', 'Cash', 'Indoor Seating']\",\n",
       "       \"['No Alcohol Available', 'Dinner', 'Takeaway Available', 'Breakfast', 'Lunch', 'Cash', 'Delivery', 'Outdoor Seating', 'Air Conditioned', 'Self Service', 'Indoor Seating', 'Digital Payments Accepted', 'Pure Veg', 'Desserts and Bakes']\",\n",
       "       ...,\n",
       "       \"['Dinner', 'Delivery', 'Cash', 'Takeaway Available', 'Free Parking', 'Digital Payments Accepted', 'Pure Veg', 'Indoor Seating']\",\n",
       "       \"['Dinner', 'Cash', 'Takeaway Available', 'Lunch', 'Delivery', 'Free Parking', 'Indoor Seating', 'Air Conditioned', 'Outdoor Seating', 'Digital Payments Accepted', 'Catering Available', 'Pure Veg']\",\n",
       "       \"['Dinner', 'Cash', 'Takeaway Available', 'Debit Card', 'Delivery', 'Credit Card', 'Free Parking', 'Outdoor Seating']\"],\n",
       "      dtype=object)"
      ]
     },
     "execution_count": 51,
     "metadata": {},
     "output_type": "execute_result"
    }
   ],
   "source": [
    "df['highlights'].unique()"
   ]
  },
  {
   "cell_type": "code",
   "execution_count": 53,
   "id": "19d80211",
   "metadata": {},
   "outputs": [
    {
     "name": "stdout",
     "output_type": "stream",
     "text": [
      "Total number of unique highlights =  104\n"
     ]
    }
   ],
   "source": [
    "hl = []\n",
    "df[\"highlights\"].apply(lambda x : hl.extend(x[2:-2].split(\"', '\")))\n",
    "hl = pd.Series(hl)\n",
    "print(\"Total number of unique highlights = \", hl.nunique())"
   ]
  },
  {
   "cell_type": "code",
   "execution_count": 54,
   "id": "f6b1f9e7",
   "metadata": {},
   "outputs": [
    {
     "data": {
      "text/plain": [
       "0         ['Lunch', 'Takeaway Available', 'Credit Card',...\n",
       "1         ['Delivery', 'No Alcohol Available', 'Dinner',...\n",
       "2         ['No Alcohol Available', 'Dinner', 'Takeaway A...\n",
       "3         ['Takeaway Available', 'Credit Card', 'Lunch',...\n",
       "4         ['Lunch', 'Serves Alcohol', 'Cash', 'Credit Ca...\n",
       "                                ...                        \n",
       "211882    ['Cash', 'Takeaway Available', 'Delivery', 'In...\n",
       "211925    ['Dinner', 'Cash', 'Debit Card', 'Lunch', 'Tak...\n",
       "211926    ['Dinner', 'Cash', 'Credit Card', 'Lunch', 'Ta...\n",
       "211940    ['Dinner', 'Cash', 'Takeaway Available', 'Debi...\n",
       "211942    ['Dinner', 'Delivery', 'Credit Card', 'Lunch',...\n",
       "Name: highlights, Length: 55568, dtype: object"
      ]
     },
     "execution_count": 54,
     "metadata": {},
     "output_type": "execute_result"
    }
   ],
   "source": [
    "df['highlights']"
   ]
  },
  {
   "cell_type": "code",
   "execution_count": 55,
   "id": "efb12303",
   "metadata": {},
   "outputs": [
    {
     "name": "stderr",
     "output_type": "stream",
     "text": [
      "C:\\Users\\VEDANG~1\\AppData\\Local\\Temp/ipykernel_3664/1787271747.py:3: FutureWarning: The default value of regex will change from True to False in a future version. In addition, single character regular expressions will *not* be treated as literal strings when regex=True.\n",
      "  df['highlights']=df['highlights'].str.replace('[','')\n",
      "C:\\Users\\VEDANG~1\\AppData\\Local\\Temp/ipykernel_3664/1787271747.py:4: FutureWarning: The default value of regex will change from True to False in a future version. In addition, single character regular expressions will *not* be treated as literal strings when regex=True.\n",
      "  df['highlights']=df['highlights'].str.replace(']','')\n"
     ]
    }
   ],
   "source": [
    "df['highlights']=df['highlights'].str.replace(\" '\",'')\n",
    "df['highlights']=df['highlights'].str.replace(\"'\",'')\n",
    "df['highlights']=df['highlights'].str.replace('[','')\n",
    "df['highlights']=df['highlights'].str.replace(']','')"
   ]
  },
  {
   "cell_type": "code",
   "execution_count": 57,
   "id": "bd3ce543",
   "metadata": {},
   "outputs": [
    {
     "data": {
      "text/plain": [
       "0         [Lunch, Takeaway Available, Credit Card, Dinne...\n",
       "1         [Delivery, No Alcohol Available, Dinner, Takea...\n",
       "2         [No Alcohol Available, Dinner, Takeaway Availa...\n",
       "3         [Takeaway Available, Credit Card, Lunch, Deliv...\n",
       "4         [Lunch, Serves Alcohol, Cash, Credit Card, Din...\n",
       "                                ...                        \n",
       "211882    [Cash, Takeaway Available, Delivery, Indoor Se...\n",
       "211925    [Dinner, Cash, Debit Card, Lunch, Takeaway Ava...\n",
       "211926    [Dinner, Cash, Credit Card, Lunch, Takeaway Av...\n",
       "211940    [Dinner, Cash, Takeaway Available, Debit Card,...\n",
       "211942    [Dinner, Delivery, Credit Card, Lunch, Cash, T...\n",
       "Name: highlights, Length: 55568, dtype: object"
      ]
     },
     "execution_count": 57,
     "metadata": {},
     "output_type": "execute_result"
    }
   ],
   "source": [
    "df['highlights']"
   ]
  },
  {
   "cell_type": "code",
   "execution_count": 56,
   "id": "5ed6d767",
   "metadata": {},
   "outputs": [],
   "source": [
    "df['highlights']=df['highlights'].str.split(',').tolist()"
   ]
  },
  {
   "cell_type": "markdown",
   "id": "3b45ece3",
   "metadata": {},
   "source": [
    "##### Splitting column - highlight in its respected columns based upon its values"
   ]
  },
  {
   "cell_type": "code",
   "execution_count": 59,
   "id": "9675bf7e",
   "metadata": {},
   "outputs": [],
   "source": [
    "for i in df['res_id']:\n",
    "    c=[]\n",
    "    for j in df.loc[df['res_id']==i,'highlights']:\n",
    "        for k in j:\n",
    "            if k in ['Cash']:\n",
    "                df.loc[df['res_id']==i,'cash_payment']='Yes'\n",
    "            if k in ['Credit Card','Debit Card']:\n",
    "                df.loc[df['res_id']==i,'card_type']=k\n",
    "            if k in ['Indoor Seating','Outdoor Seating']:\n",
    "                df.loc[df['res_id']==i,'Seating']=k\n",
    "            if k in ['Takeaway Available']:\n",
    "                df.loc[df['res_id']==i,'takeaway']='Yes'\n",
    "            if k in ['Pure Veg']:\n",
    "                df.loc[df['res_id']==i,'Pure Veg']='Yes'\n",
    "            if k in ['Lunch','Breakfast','Dinner']:\n",
    "                c.append(k)\n",
    "        df.loc[df['res_id']==i,'type_of_meal']=str(c)"
   ]
  },
  {
   "cell_type": "code",
   "execution_count": 61,
   "id": "163fef26",
   "metadata": {},
   "outputs": [],
   "source": [
    "df.loc[df['type_of_meal']==\"['Lunch', 'Dinner']\",'type_of_meal']=str(['Dinner', 'Lunch'])\n",
    "df.loc[df['type_of_meal']==\"['Lunch', 'Breakfast']\",'type_of_meal']=str(['Breakfast','Lunch'])\n",
    "df.loc[df['type_of_meal']==\"['Dinner', 'Breakfast']\",'type_of_meal']=str(['Breakfast','Dinner'])\n",
    "df.loc[df['type_of_meal']==\"['Breakfast', 'Dinner', 'Lunch']\",'type_of_meal']=str(['Breakfast', 'Lunch', 'Dinner'])\n",
    "df.loc[df['type_of_meal']==\"['Lunch', 'Dinner', 'Breakfast']\",'type_of_meal']=str(['Breakfast', 'Lunch', 'Dinner'])\n",
    "df.loc[df['type_of_meal']==\"['Dinner', 'Lunch', 'Breakfast']\",'type_of_meal']=str(['Breakfast', 'Lunch', 'Dinner'])\n",
    "df.loc[df['type_of_meal']==\"['Dinner', 'Breakfast', 'Lunch']\",'type_of_meal']=str(['Breakfast', 'Lunch', 'Dinner'])\n",
    "df.loc[df['type_of_meal']==\"['Lunch', 'Breakfast', 'Dinner']\",'type_of_meal']=str(['Breakfast', 'Lunch', 'Dinner'])"
   ]
  },
  {
   "cell_type": "code",
   "execution_count": 72,
   "id": "0d6ed0a1",
   "metadata": {},
   "outputs": [],
   "source": [
    "df['takeaway'].fillna('No',inplace=True)\n",
    "df['card_type'].fillna('NA',inplace=True)\n",
    "df['cash_payment'].fillna('No',inplace=True)\n",
    "df['Seating'].fillna('NA',inplace=True)\n",
    "df['Pure Veg'].fillna('No',inplace=True)"
   ]
  },
  {
   "cell_type": "code",
   "execution_count": 77,
   "id": "ef31ebc8",
   "metadata": {},
   "outputs": [],
   "source": [
    "df['type_of_meal'].replace('[]','NA',inplace=True)"
   ]
  },
  {
   "cell_type": "code",
   "execution_count": 78,
   "id": "468060e1",
   "metadata": {},
   "outputs": [
    {
     "data": {
      "text/plain": [
       "['Dinner', 'Lunch']                 26012\n",
       "NA                                  15837\n",
       "['Breakfast', 'Lunch', 'Dinner']     9235\n",
       "['Dinner']                           2220\n",
       "['Breakfast']                        1292\n",
       "['Breakfast', 'Lunch']                426\n",
       "['Lunch']                             370\n",
       "['Breakfast', 'Dinner']               176\n",
       "Name: type_of_meal, dtype: int64"
      ]
     },
     "execution_count": 78,
     "metadata": {},
     "output_type": "execute_result"
    }
   ],
   "source": [
    "df['type_of_meal'].value_counts()"
   ]
  },
  {
   "cell_type": "code",
   "execution_count": 79,
   "id": "b4e4af3d",
   "metadata": {},
   "outputs": [],
   "source": [
    "df['cash_payment']=df['cash_payment'].astype(int)\n",
    "df['takeaway']=df['takeaway'].astype(int)"
   ]
  },
  {
   "cell_type": "code",
   "execution_count": 80,
   "id": "66d55631",
   "metadata": {},
   "outputs": [],
   "source": [
    "df['Seating'].replace('NA',df['Seating'].mode()[0],inplace=True)"
   ]
  },
  {
   "cell_type": "markdown",
   "id": "d0daed63",
   "metadata": {},
   "source": [
    "#### column - `aggregate_rating`and`votes` dont require any formatting"
   ]
  },
  {
   "cell_type": "markdown",
   "id": "7c64074f",
   "metadata": {},
   "source": [
    "#### column - `rating_text`"
   ]
  },
  {
   "cell_type": "code",
   "execution_count": 3,
   "id": "2c8f0089",
   "metadata": {},
   "outputs": [
    {
     "data": {
      "text/plain": [
       "Very Good        65451\n",
       "Good             63384\n",
       "Average          42157\n",
       "Not rated        23478\n",
       "Excellent        15737\n",
       "Poor              1175\n",
       "Çok iyi             56\n",
       "Sangat Baik         44\n",
       "Muito Bom           44\n",
       "Excelente           42\n",
       "Muy Bueno           35\n",
       "Bardzo dobrze       31\n",
       "Bom                 26\n",
       "Skvělé              25\n",
       "Baik                24\n",
       "Velmi dobré         22\n",
       "Harika              22\n",
       "İyi                 19\n",
       "Ottimo              18\n",
       "Veľmi dobré         17\n",
       "Terbaik             16\n",
       "Buono               14\n",
       "Skvělá volba        13\n",
       "Dobré               12\n",
       "Bueno               11\n",
       "Dobrze               9\n",
       "Wybitnie             8\n",
       "Eccellente           8\n",
       "Vynikajúce           7\n",
       "Průměr               6\n",
       "Muito bom            6\n",
       "Média                5\n",
       "Promedio             5\n",
       "Scarso               3\n",
       "Ortalama             3\n",
       "Średnio              3\n",
       "Priemer              3\n",
       "Media                3\n",
       "Biasa                2\n",
       "Name: rating_text, dtype: int64"
      ]
     },
     "execution_count": 3,
     "metadata": {},
     "output_type": "execute_result"
    }
   ],
   "source": [
    "df['rating_text'].value_counts()"
   ]
  },
  {
   "cell_type": "markdown",
   "id": "13c9e4ea",
   "metadata": {},
   "source": [
    "### RATING TYPE INTO ENGLISH\n",
    "1. Very Good => 'Velmi dobré', 'Muy Bueno','Muito bom','Sangat Baik','Muito Bom','Skvělá volba','Veľmi dobré','Bardzo dobrze' \n",
    "2. Good => 'Baik', 'Bom', 'Bueno' ,'İyi','Dobrze','Buono','Dobré','Priemer','Průměr'\n",
    "3. Excellent => 'Excenikajúce','Ottimo','Çok iyi' ,'Wybitnie','Eccellente','Harika'\n",
    "4. Average => 'Promedio', 'Ortalama','Média','Biasa','Media','Terbaik','Średnio','Skvělé'\n",
    "5. Not rated => 'None'\n",
    "6. Poor =>'Nedostatek hlasů','Scarso'"
   ]
  },
  {
   "cell_type": "code",
   "execution_count": 4,
   "id": "7c845b37",
   "metadata": {},
   "outputs": [],
   "source": [
    "df.loc[df['rating_text'].isin(['Velmi dobré', 'Muy Bueno','Muito bom','Sangat Baik','Muito Bom','Skvělá volba','Veľmi dobré','Bardzo dobrze']),['rating_text']]='Very Good'\n",
    "df.loc[df['rating_text'].isin(['Baik', 'Bom', 'Bueno','İyi','Dobrze','Buono','Dobré','Priemer','Průměr']),['rating_text']]='Good'\n",
    "df.loc[df['rating_text'].isin(['Excelente', 'Vynikajúce','Ottimo','Çok iyi','Wybitnie','Eccellente','Harika']),['rating_text']]='Excellent'\n",
    "df.loc[df['rating_text'].isin(['Promedio', 'Ortalama','Média','Biasa','Media','Terbaik','Średnio','Skvělé']),['rating_text']]='Average'\n",
    "df.loc[df['rating_text'].isin(['None']),['rating_text']]='Not rated'\n",
    "df.loc[df['rating_text'].isin(['Nedostatek hlasů','Scarso']),['rating_text']]='Poor'"
   ]
  },
  {
   "cell_type": "code",
   "execution_count": 5,
   "id": "a2427466",
   "metadata": {},
   "outputs": [
    {
     "data": {
      "text/plain": [
       "Very Good    65663\n",
       "Good         63508\n",
       "Average      42219\n",
       "Not rated    23478\n",
       "Excellent    15898\n",
       "Poor          1178\n",
       "Name: rating_text, dtype: int64"
      ]
     },
     "execution_count": 5,
     "metadata": {},
     "output_type": "execute_result"
    }
   ],
   "source": [
    "df['rating_text'].value_counts()"
   ]
  },
  {
   "cell_type": "markdown",
   "id": "277a247f",
   "metadata": {},
   "source": [
    "#### column - `delivery`"
   ]
  },
  {
   "cell_type": "code",
   "execution_count": 82,
   "id": "96ba81c1",
   "metadata": {},
   "outputs": [],
   "source": [
    "df['delivery'].replace('0','No',inplace=True)"
   ]
  },
  {
   "cell_type": "code",
   "execution_count": 81,
   "id": "c0ffebed",
   "metadata": {},
   "outputs": [
    {
     "data": {
      "text/plain": [
       "res_id                  0\n",
       "name                    0\n",
       "establishment           0\n",
       "city                    0\n",
       "city_id                 0\n",
       "locality                0\n",
       "latitude                0\n",
       "longitude               0\n",
       "cuisines                0\n",
       "average_cost_for_two    0\n",
       "price_range             0\n",
       "highlights              0\n",
       "aggregate_rating        0\n",
       "rating_text             0\n",
       "votes                   0\n",
       "delivery                0\n",
       "No. of Cuisines         0\n",
       "takeaway                0\n",
       "card_type               0\n",
       "cash_payment            0\n",
       "Seating                 0\n",
       "type_of_meal            0\n",
       "Pure Veg                0\n",
       "dtype: int64"
      ]
     },
     "execution_count": 81,
     "metadata": {},
     "output_type": "execute_result"
    }
   ],
   "source": [
    "df.isnull().sum()"
   ]
  },
  {
   "cell_type": "code",
   "execution_count": 83,
   "id": "4f6899da",
   "metadata": {},
   "outputs": [],
   "source": [
    "df.to_csv('INDIA_ZOMATO.csv',index=False)"
   ]
  },
  {
   "cell_type": "code",
   "execution_count": null,
   "id": "1d1cba55",
   "metadata": {},
   "outputs": [],
   "source": []
  }
 ],
 "metadata": {
  "kernelspec": {
   "display_name": "Python 3 (ipykernel)",
   "language": "python",
   "name": "python3"
  },
  "language_info": {
   "codemirror_mode": {
    "name": "ipython",
    "version": 3
   },
   "file_extension": ".py",
   "mimetype": "text/x-python",
   "name": "python",
   "nbconvert_exporter": "python",
   "pygments_lexer": "ipython3",
   "version": "3.9.7"
  }
 },
 "nbformat": 4,
 "nbformat_minor": 5
}
