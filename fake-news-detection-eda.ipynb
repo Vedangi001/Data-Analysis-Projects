{
 "cells": [
  {
   "cell_type": "markdown",
   "id": "7a53b0e4",
   "metadata": {
    "papermill": {
     "duration": 0.008714,
     "end_time": "2022-06-18T15:34:57.228803",
     "exception": false,
     "start_time": "2022-06-18T15:34:57.220089",
     "status": "completed"
    },
    "tags": []
   },
   "source": [
    "## 1. Loading the dataset"
   ]
  },
  {
   "cell_type": "code",
   "execution_count": 1,
   "id": "20bb4601",
   "metadata": {
    "_cell_guid": "b1076dfc-b9ad-4769-8c92-a6c4dae69d19",
    "_uuid": "8f2839f25d086af736a60e9eeb907d3b93b6e0e5",
    "execution": {
     "iopub.execute_input": "2022-06-18T15:34:57.243425Z",
     "iopub.status.busy": "2022-06-18T15:34:57.242976Z",
     "iopub.status.idle": "2022-06-18T15:34:57.259080Z",
     "shell.execute_reply": "2022-06-18T15:34:57.258141Z"
    },
    "papermill": {
     "duration": 0.025303,
     "end_time": "2022-06-18T15:34:57.261693",
     "exception": false,
     "start_time": "2022-06-18T15:34:57.236390",
     "status": "completed"
    },
    "tags": []
   },
   "outputs": [
    {
     "name": "stdout",
     "output_type": "stream",
     "text": [
      "/kaggle/input/a-fake-news-dataset-around-the-syrian-war/FA-KES-Dataset.csv\n"
     ]
    }
   ],
   "source": [
    "import numpy as np \n",
    "import pandas as pd \n",
    "\n",
    "import os\n",
    "for dirname, _, filenames in os.walk('/kaggle/input'):\n",
    "    for filename in filenames:\n",
    "        print(os.path.join(dirname, filename))"
   ]
  },
  {
   "cell_type": "code",
   "execution_count": 2,
   "id": "a1b40705",
   "metadata": {
    "execution": {
     "iopub.execute_input": "2022-06-18T15:34:57.274613Z",
     "iopub.status.busy": "2022-06-18T15:34:57.273964Z",
     "iopub.status.idle": "2022-06-18T15:34:57.346508Z",
     "shell.execute_reply": "2022-06-18T15:34:57.345530Z"
    },
    "papermill": {
     "duration": 0.081295,
     "end_time": "2022-06-18T15:34:57.348558",
     "exception": false,
     "start_time": "2022-06-18T15:34:57.267263",
     "status": "completed"
    },
    "tags": []
   },
   "outputs": [
    {
     "data": {
      "text/html": [
       "<div>\n",
       "<style scoped>\n",
       "    .dataframe tbody tr th:only-of-type {\n",
       "        vertical-align: middle;\n",
       "    }\n",
       "\n",
       "    .dataframe tbody tr th {\n",
       "        vertical-align: top;\n",
       "    }\n",
       "\n",
       "    .dataframe thead th {\n",
       "        text-align: right;\n",
       "    }\n",
       "</style>\n",
       "<table border=\"1\" class=\"dataframe\">\n",
       "  <thead>\n",
       "    <tr style=\"text-align: right;\">\n",
       "      <th></th>\n",
       "      <th>unit_id</th>\n",
       "      <th>article_title</th>\n",
       "      <th>article_content</th>\n",
       "      <th>source</th>\n",
       "      <th>date</th>\n",
       "      <th>location</th>\n",
       "      <th>labels</th>\n",
       "    </tr>\n",
       "  </thead>\n",
       "  <tbody>\n",
       "    <tr>\n",
       "      <th>0</th>\n",
       "      <td>1914947530</td>\n",
       "      <td>Syria attack symptoms consistent with nerve ag...</td>\n",
       "      <td>Wed 05 Apr 2017 Syria attack symptoms consiste...</td>\n",
       "      <td>nna</td>\n",
       "      <td>4/5/2017</td>\n",
       "      <td>idlib</td>\n",
       "      <td>0</td>\n",
       "    </tr>\n",
       "    <tr>\n",
       "      <th>1</th>\n",
       "      <td>1914947532</td>\n",
       "      <td>Homs governor says U.S. attack caused deaths b...</td>\n",
       "      <td>Fri 07 Apr 2017 at 0914 Homs governor says U.S...</td>\n",
       "      <td>nna</td>\n",
       "      <td>4/7/2017</td>\n",
       "      <td>homs</td>\n",
       "      <td>0</td>\n",
       "    </tr>\n",
       "    <tr>\n",
       "      <th>2</th>\n",
       "      <td>1914947533</td>\n",
       "      <td>Death toll from Aleppo bomb attack at least 112</td>\n",
       "      <td>Sun 16 Apr 2017 Death toll from Aleppo bomb at...</td>\n",
       "      <td>nna</td>\n",
       "      <td>4/16/2017</td>\n",
       "      <td>aleppo</td>\n",
       "      <td>0</td>\n",
       "    </tr>\n",
       "    <tr>\n",
       "      <th>3</th>\n",
       "      <td>1914947534</td>\n",
       "      <td>Aleppo bomb blast kills six Syrian state TV</td>\n",
       "      <td>Wed 19 Apr 2017 Aleppo bomb blast kills six Sy...</td>\n",
       "      <td>nna</td>\n",
       "      <td>4/19/2017</td>\n",
       "      <td>aleppo</td>\n",
       "      <td>0</td>\n",
       "    </tr>\n",
       "    <tr>\n",
       "      <th>4</th>\n",
       "      <td>1914947535</td>\n",
       "      <td>29 Syria Rebels Dead in Fighting for Key Alepp...</td>\n",
       "      <td>Sun 10 Jul 2016 29 Syria Rebels Dead in Fighti...</td>\n",
       "      <td>nna</td>\n",
       "      <td>7/10/2016</td>\n",
       "      <td>aleppo</td>\n",
       "      <td>0</td>\n",
       "    </tr>\n",
       "  </tbody>\n",
       "</table>\n",
       "</div>"
      ],
      "text/plain": [
       "      unit_id                                      article_title  \\\n",
       "0  1914947530  Syria attack symptoms consistent with nerve ag...   \n",
       "1  1914947532  Homs governor says U.S. attack caused deaths b...   \n",
       "2  1914947533    Death toll from Aleppo bomb attack at least 112   \n",
       "3  1914947534        Aleppo bomb blast kills six Syrian state TV   \n",
       "4  1914947535  29 Syria Rebels Dead in Fighting for Key Alepp...   \n",
       "\n",
       "                                     article_content source       date  \\\n",
       "0  Wed 05 Apr 2017 Syria attack symptoms consiste...    nna   4/5/2017   \n",
       "1  Fri 07 Apr 2017 at 0914 Homs governor says U.S...    nna   4/7/2017   \n",
       "2  Sun 16 Apr 2017 Death toll from Aleppo bomb at...    nna  4/16/2017   \n",
       "3  Wed 19 Apr 2017 Aleppo bomb blast kills six Sy...    nna  4/19/2017   \n",
       "4  Sun 10 Jul 2016 29 Syria Rebels Dead in Fighti...    nna  7/10/2016   \n",
       "\n",
       "  location  labels  \n",
       "0    idlib       0  \n",
       "1     homs       0  \n",
       "2   aleppo       0  \n",
       "3   aleppo       0  \n",
       "4   aleppo       0  "
      ]
     },
     "execution_count": 2,
     "metadata": {},
     "output_type": "execute_result"
    }
   ],
   "source": [
    "df=pd.read_csv(r\"../input/a-fake-news-dataset-around-the-syrian-war/FA-KES-Dataset.csv\",encoding = 'unicode_escape')\n",
    "df.head(5)"
   ]
  },
  {
   "cell_type": "code",
   "execution_count": 3,
   "id": "a825f491",
   "metadata": {
    "execution": {
     "iopub.execute_input": "2022-06-18T15:34:57.361652Z",
     "iopub.status.busy": "2022-06-18T15:34:57.360970Z",
     "iopub.status.idle": "2022-06-18T15:34:57.367143Z",
     "shell.execute_reply": "2022-06-18T15:34:57.366176Z"
    },
    "papermill": {
     "duration": 0.014782,
     "end_time": "2022-06-18T15:34:57.368983",
     "exception": false,
     "start_time": "2022-06-18T15:34:57.354201",
     "status": "completed"
    },
    "tags": []
   },
   "outputs": [
    {
     "data": {
      "text/plain": [
       "(804, 7)"
      ]
     },
     "execution_count": 3,
     "metadata": {},
     "output_type": "execute_result"
    }
   ],
   "source": [
    "df.shape"
   ]
  },
  {
   "cell_type": "code",
   "execution_count": 4,
   "id": "f74e1a04",
   "metadata": {
    "execution": {
     "iopub.execute_input": "2022-06-18T15:34:57.382037Z",
     "iopub.status.busy": "2022-06-18T15:34:57.381434Z",
     "iopub.status.idle": "2022-06-18T15:34:57.403975Z",
     "shell.execute_reply": "2022-06-18T15:34:57.403277Z"
    },
    "papermill": {
     "duration": 0.031264,
     "end_time": "2022-06-18T15:34:57.405953",
     "exception": false,
     "start_time": "2022-06-18T15:34:57.374689",
     "status": "completed"
    },
    "tags": []
   },
   "outputs": [
    {
     "name": "stdout",
     "output_type": "stream",
     "text": [
      "<class 'pandas.core.frame.DataFrame'>\n",
      "RangeIndex: 804 entries, 0 to 803\n",
      "Data columns (total 7 columns):\n",
      " #   Column           Non-Null Count  Dtype \n",
      "---  ------           --------------  ----- \n",
      " 0   unit_id          804 non-null    int64 \n",
      " 1   article_title    804 non-null    object\n",
      " 2   article_content  804 non-null    object\n",
      " 3   source           804 non-null    object\n",
      " 4   date             804 non-null    object\n",
      " 5   location         804 non-null    object\n",
      " 6   labels           804 non-null    int64 \n",
      "dtypes: int64(2), object(5)\n",
      "memory usage: 44.1+ KB\n"
     ]
    }
   ],
   "source": [
    "df.info()"
   ]
  },
  {
   "cell_type": "code",
   "execution_count": 5,
   "id": "dd59c608",
   "metadata": {
    "execution": {
     "iopub.execute_input": "2022-06-18T15:34:57.419084Z",
     "iopub.status.busy": "2022-06-18T15:34:57.418526Z",
     "iopub.status.idle": "2022-06-18T15:34:57.423209Z",
     "shell.execute_reply": "2022-06-18T15:34:57.422642Z"
    },
    "papermill": {
     "duration": 0.013065,
     "end_time": "2022-06-18T15:34:57.424774",
     "exception": false,
     "start_time": "2022-06-18T15:34:57.411709",
     "status": "completed"
    },
    "tags": []
   },
   "outputs": [
    {
     "data": {
      "text/plain": [
       "Index(['unit_id', 'article_title', 'article_content', 'source', 'date',\n",
       "       'location', 'labels'],\n",
       "      dtype='object')"
      ]
     },
     "execution_count": 5,
     "metadata": {},
     "output_type": "execute_result"
    }
   ],
   "source": [
    "df.columns"
   ]
  },
  {
   "cell_type": "markdown",
   "id": "02b541e7",
   "metadata": {
    "papermill": {
     "duration": 0.005865,
     "end_time": "2022-06-18T15:34:57.436489",
     "exception": false,
     "start_time": "2022-06-18T15:34:57.430624",
     "status": "completed"
    },
    "tags": []
   },
   "source": [
    "## 2. Data Pre-processing"
   ]
  },
  {
   "cell_type": "markdown",
   "id": "81b27c24",
   "metadata": {
    "papermill": {
     "duration": 0.005676,
     "end_time": "2022-06-18T15:34:57.447897",
     "exception": false,
     "start_time": "2022-06-18T15:34:57.442221",
     "status": "completed"
    },
    "tags": []
   },
   "source": [
    "- Data Formatting\n",
    "Changing the data type of the column data from object to datetime"
   ]
  },
  {
   "cell_type": "code",
   "execution_count": 6,
   "id": "601d7820",
   "metadata": {
    "execution": {
     "iopub.execute_input": "2022-06-18T15:34:57.461103Z",
     "iopub.status.busy": "2022-06-18T15:34:57.460510Z",
     "iopub.status.idle": "2022-06-18T15:34:57.547768Z",
     "shell.execute_reply": "2022-06-18T15:34:57.546848Z"
    },
    "papermill": {
     "duration": 0.096198,
     "end_time": "2022-06-18T15:34:57.549836",
     "exception": false,
     "start_time": "2022-06-18T15:34:57.453638",
     "status": "completed"
    },
    "tags": []
   },
   "outputs": [
    {
     "data": {
      "text/html": [
       "<div>\n",
       "<style scoped>\n",
       "    .dataframe tbody tr th:only-of-type {\n",
       "        vertical-align: middle;\n",
       "    }\n",
       "\n",
       "    .dataframe tbody tr th {\n",
       "        vertical-align: top;\n",
       "    }\n",
       "\n",
       "    .dataframe thead th {\n",
       "        text-align: right;\n",
       "    }\n",
       "</style>\n",
       "<table border=\"1\" class=\"dataframe\">\n",
       "  <thead>\n",
       "    <tr style=\"text-align: right;\">\n",
       "      <th></th>\n",
       "      <th>unit_id</th>\n",
       "      <th>article_title</th>\n",
       "      <th>article_content</th>\n",
       "      <th>source</th>\n",
       "      <th>date</th>\n",
       "      <th>location</th>\n",
       "      <th>labels</th>\n",
       "      <th>year</th>\n",
       "    </tr>\n",
       "  </thead>\n",
       "  <tbody>\n",
       "    <tr>\n",
       "      <th>0</th>\n",
       "      <td>1914947530</td>\n",
       "      <td>Syria attack symptoms consistent with nerve ag...</td>\n",
       "      <td>Wed 05 Apr 2017 Syria attack symptoms consiste...</td>\n",
       "      <td>nna</td>\n",
       "      <td>4/5/2017</td>\n",
       "      <td>idlib</td>\n",
       "      <td>0</td>\n",
       "      <td>2017</td>\n",
       "    </tr>\n",
       "    <tr>\n",
       "      <th>1</th>\n",
       "      <td>1914947532</td>\n",
       "      <td>Homs governor says U.S. attack caused deaths b...</td>\n",
       "      <td>Fri 07 Apr 2017 at 0914 Homs governor says U.S...</td>\n",
       "      <td>nna</td>\n",
       "      <td>4/7/2017</td>\n",
       "      <td>homs</td>\n",
       "      <td>0</td>\n",
       "      <td>2017</td>\n",
       "    </tr>\n",
       "    <tr>\n",
       "      <th>2</th>\n",
       "      <td>1914947533</td>\n",
       "      <td>Death toll from Aleppo bomb attack at least 112</td>\n",
       "      <td>Sun 16 Apr 2017 Death toll from Aleppo bomb at...</td>\n",
       "      <td>nna</td>\n",
       "      <td>4/16/2017</td>\n",
       "      <td>aleppo</td>\n",
       "      <td>0</td>\n",
       "      <td>2017</td>\n",
       "    </tr>\n",
       "    <tr>\n",
       "      <th>3</th>\n",
       "      <td>1914947534</td>\n",
       "      <td>Aleppo bomb blast kills six Syrian state TV</td>\n",
       "      <td>Wed 19 Apr 2017 Aleppo bomb blast kills six Sy...</td>\n",
       "      <td>nna</td>\n",
       "      <td>4/19/2017</td>\n",
       "      <td>aleppo</td>\n",
       "      <td>0</td>\n",
       "      <td>2017</td>\n",
       "    </tr>\n",
       "  </tbody>\n",
       "</table>\n",
       "</div>"
      ],
      "text/plain": [
       "      unit_id                                      article_title  \\\n",
       "0  1914947530  Syria attack symptoms consistent with nerve ag...   \n",
       "1  1914947532  Homs governor says U.S. attack caused deaths b...   \n",
       "2  1914947533    Death toll from Aleppo bomb attack at least 112   \n",
       "3  1914947534        Aleppo bomb blast kills six Syrian state TV   \n",
       "\n",
       "                                     article_content source       date  \\\n",
       "0  Wed 05 Apr 2017 Syria attack symptoms consiste...    nna   4/5/2017   \n",
       "1  Fri 07 Apr 2017 at 0914 Homs governor says U.S...    nna   4/7/2017   \n",
       "2  Sun 16 Apr 2017 Death toll from Aleppo bomb at...    nna  4/16/2017   \n",
       "3  Wed 19 Apr 2017 Aleppo bomb blast kills six Sy...    nna  4/19/2017   \n",
       "\n",
       "  location  labels  year  \n",
       "0    idlib       0  2017  \n",
       "1     homs       0  2017  \n",
       "2   aleppo       0  2017  \n",
       "3   aleppo       0  2017  "
      ]
     },
     "execution_count": 6,
     "metadata": {},
     "output_type": "execute_result"
    }
   ],
   "source": [
    "pd.to_datetime(df['date'])\n",
    "df['year'] = pd.DatetimeIndex(df['date']).year\n",
    "df.head(4)"
   ]
  },
  {
   "cell_type": "code",
   "execution_count": 7,
   "id": "26ac33c7",
   "metadata": {
    "execution": {
     "iopub.execute_input": "2022-06-18T15:34:57.564100Z",
     "iopub.status.busy": "2022-06-18T15:34:57.563264Z",
     "iopub.status.idle": "2022-06-18T15:34:57.571436Z",
     "shell.execute_reply": "2022-06-18T15:34:57.570864Z"
    },
    "papermill": {
     "duration": 0.017822,
     "end_time": "2022-06-18T15:34:57.573752",
     "exception": false,
     "start_time": "2022-06-18T15:34:57.555930",
     "status": "completed"
    },
    "tags": []
   },
   "outputs": [
    {
     "data": {
      "text/plain": [
       "0      57\n",
       "1      76\n",
       "2      47\n",
       "3      43\n",
       "4      52\n",
       "       ..\n",
       "799    47\n",
       "800    47\n",
       "801    49\n",
       "802    55\n",
       "803    50\n",
       "Name: article_title_length, Length: 804, dtype: int64"
      ]
     },
     "execution_count": 7,
     "metadata": {},
     "output_type": "execute_result"
    }
   ],
   "source": [
    "df['article_title_length']=df['article_title'].apply(len)\n",
    "df['article_title_length']"
   ]
  },
  {
   "cell_type": "markdown",
   "id": "4c33dee6",
   "metadata": {
    "papermill": {
     "duration": 0.005773,
     "end_time": "2022-06-18T15:34:57.585685",
     "exception": false,
     "start_time": "2022-06-18T15:34:57.579912",
     "status": "completed"
    },
    "tags": []
   },
   "source": [
    "## 2. Exploratory Data Analysis"
   ]
  },
  {
   "cell_type": "markdown",
   "id": "2ef978be",
   "metadata": {
    "papermill": {
     "duration": 0.006258,
     "end_time": "2022-06-18T15:34:57.598022",
     "exception": false,
     "start_time": "2022-06-18T15:34:57.591764",
     "status": "completed"
    },
    "tags": []
   },
   "source": [
    "Finding the insights of the given dataset."
   ]
  },
  {
   "cell_type": "markdown",
   "id": "2bf0695d",
   "metadata": {
    "papermill": {
     "duration": 0.005836,
     "end_time": "2022-06-18T15:34:57.609948",
     "exception": false,
     "start_time": "2022-06-18T15:34:57.604112",
     "status": "completed"
    },
    "tags": []
   },
   "source": [
    "Lets check out in which year the most fake news were released."
   ]
  },
  {
   "cell_type": "code",
   "execution_count": 8,
   "id": "ef6cfe4a",
   "metadata": {
    "execution": {
     "iopub.execute_input": "2022-06-18T15:34:57.627034Z",
     "iopub.status.busy": "2022-06-18T15:34:57.626185Z",
     "iopub.status.idle": "2022-06-18T15:34:57.632280Z",
     "shell.execute_reply": "2022-06-18T15:34:57.631646Z"
    },
    "papermill": {
     "duration": 0.017989,
     "end_time": "2022-06-18T15:34:57.634021",
     "exception": false,
     "start_time": "2022-06-18T15:34:57.616032",
     "status": "completed"
    },
    "tags": []
   },
   "outputs": [
    {
     "name": "stdout",
     "output_type": "stream",
     "text": [
      "The dataset is from year 2011 to 2018\n"
     ]
    }
   ],
   "source": [
    "print('The dataset is from year',df.year.min(),'to',df.year.max())"
   ]
  },
  {
   "cell_type": "code",
   "execution_count": 9,
   "id": "340ae187",
   "metadata": {
    "execution": {
     "iopub.execute_input": "2022-06-18T15:34:57.649473Z",
     "iopub.status.busy": "2022-06-18T15:34:57.648429Z",
     "iopub.status.idle": "2022-06-18T15:34:58.704952Z",
     "shell.execute_reply": "2022-06-18T15:34:58.704275Z"
    },
    "papermill": {
     "duration": 1.065932,
     "end_time": "2022-06-18T15:34:58.706985",
     "exception": false,
     "start_time": "2022-06-18T15:34:57.641053",
     "status": "completed"
    },
    "tags": []
   },
   "outputs": [],
   "source": [
    "import matplotlib.pyplot as plt\n",
    "import seaborn as sns\n",
    "\n",
    "%matplotlib inline"
   ]
  },
  {
   "cell_type": "code",
   "execution_count": 10,
   "id": "f415802d",
   "metadata": {
    "execution": {
     "iopub.execute_input": "2022-06-18T15:34:58.721038Z",
     "iopub.status.busy": "2022-06-18T15:34:58.720527Z",
     "iopub.status.idle": "2022-06-18T15:34:58.950225Z",
     "shell.execute_reply": "2022-06-18T15:34:58.949337Z"
    },
    "papermill": {
     "duration": 0.238875,
     "end_time": "2022-06-18T15:34:58.952167",
     "exception": false,
     "start_time": "2022-06-18T15:34:58.713292",
     "status": "completed"
    },
    "tags": []
   },
   "outputs": [
    {
     "data": {
      "image/png": "[encoded data removed]",
      "text/plain": [
       "<Figure size 576x432 with 1 Axes>"
      ]
     },
     "metadata": {
      "needs_background": "light"
     },
     "output_type": "display_data"
    }
   ],
   "source": [
    "plt.figure(figsize=(8,6))\n",
    "plt.hist(df.labels,color = 'green');\n",
    "plt.ylabel('Number of data in dataset');\n",
    "plt.xlabel(\"real or fake news\")\n",
    "plt.title(\"Number of fake and real news\");"
   ]
  },
  {
   "cell_type": "markdown",
   "id": "6152cbb1",
   "metadata": {
    "papermill": {
     "duration": 0.006538,
     "end_time": "2022-06-18T15:34:58.965037",
     "exception": false,
     "start_time": "2022-06-18T15:34:58.958499",
     "status": "completed"
    },
    "tags": []
   },
   "source": [
    "As per the above output, the dataset contains 426 real news where as 378 fake news data"
   ]
  },
  {
   "cell_type": "code",
   "execution_count": 11,
   "id": "170cbc77",
   "metadata": {
    "execution": {
     "iopub.execute_input": "2022-06-18T15:34:58.979320Z",
     "iopub.status.busy": "2022-06-18T15:34:58.978830Z",
     "iopub.status.idle": "2022-06-18T15:34:59.306569Z",
     "shell.execute_reply": "2022-06-18T15:34:59.305675Z"
    },
    "papermill": {
     "duration": 0.337219,
     "end_time": "2022-06-18T15:34:59.308536",
     "exception": false,
     "start_time": "2022-06-18T15:34:58.971317",
     "status": "completed"
    },
    "tags": []
   },
   "outputs": [
    {
     "data": {
      "image/png": "[encoded data removed]",
      "text/plain": [
       "<Figure size 1152x864 with 1 Axes>"
      ]
     },
     "metadata": {
      "needs_background": "light"
     },
     "output_type": "display_data"
    }
   ],
   "source": [
    "plt.figure(figsize=(16,12))\n",
    "sns.countplot(x=df.source,hue=df.labels);"
   ]
  },
  {
   "cell_type": "markdown",
   "id": "4fc45e1c",
   "metadata": {
    "papermill": {
     "duration": 0.006644,
     "end_time": "2022-06-18T15:34:59.321916",
     "exception": false,
     "start_time": "2022-06-18T15:34:59.315272",
     "status": "completed"
    },
    "tags": []
   },
   "source": [
    "The highest source of news is 'ahram', it is the source of maximum real as well as fake news.\n",
    "#### The sources named as 'nna', 'ahram',, tass source', 'sana','etllaf', 'arabia'and 'reuters' has given more number of fake news than the real news."
   ]
  },
  {
   "cell_type": "code",
   "execution_count": 12,
   "id": "759713d5",
   "metadata": {
    "execution": {
     "iopub.execute_input": "2022-06-18T15:34:59.336867Z",
     "iopub.status.busy": "2022-06-18T15:34:59.336177Z",
     "iopub.status.idle": "2022-06-18T15:34:59.884727Z",
     "shell.execute_reply": "2022-06-18T15:34:59.883575Z"
    },
    "papermill": {
     "duration": 0.55833,
     "end_time": "2022-06-18T15:34:59.886768",
     "exception": false,
     "start_time": "2022-06-18T15:34:59.328438",
     "status": "completed"
    },
    "tags": []
   },
   "outputs": [
    {
     "data": {
      "image/png": "[encoded data removed]",
      "text/plain": [
       "<Figure size 1296x576 with 1 Axes>"
      ]
     },
     "metadata": {
      "needs_background": "light"
     },
     "output_type": "display_data"
    }
   ],
   "source": [
    "plt.figure(figsize=(18,8))\n",
    "sns.countplot(x=df.source,hue=df.year,data =df);"
   ]
  },
  {
   "cell_type": "markdown",
   "id": "aa4eef64",
   "metadata": {
    "papermill": {
     "duration": 0.006983,
     "end_time": "2022-06-18T15:34:59.900916",
     "exception": false,
     "start_time": "2022-06-18T15:34:59.893933",
     "status": "completed"
    },
    "tags": []
   },
   "source": [
    "The above graph shows the year wise number of news released by the various sources.\n",
    "One thing that can also be infered out of the graph is that the maximum number of news were released in 2016, by the various sources"
   ]
  },
  {
   "cell_type": "code",
   "execution_count": 13,
   "id": "8e85ffd8",
   "metadata": {
    "execution": {
     "iopub.execute_input": "2022-06-18T15:34:59.916725Z",
     "iopub.status.busy": "2022-06-18T15:34:59.916334Z",
     "iopub.status.idle": "2022-06-18T15:34:59.922456Z",
     "shell.execute_reply": "2022-06-18T15:34:59.921566Z"
    },
    "papermill": {
     "duration": 0.016208,
     "end_time": "2022-06-18T15:34:59.924393",
     "exception": false,
     "start_time": "2022-06-18T15:34:59.908185",
     "status": "completed"
    },
    "tags": []
   },
   "outputs": [],
   "source": [
    "real_df=df.loc[df.labels==1]"
   ]
  },
  {
   "cell_type": "code",
   "execution_count": 14,
   "id": "857c9aa4",
   "metadata": {
    "execution": {
     "iopub.execute_input": "2022-06-18T15:34:59.940232Z",
     "iopub.status.busy": "2022-06-18T15:34:59.939881Z",
     "iopub.status.idle": "2022-06-18T15:35:00.416439Z",
     "shell.execute_reply": "2022-06-18T15:35:00.415791Z"
    },
    "papermill": {
     "duration": 0.486842,
     "end_time": "2022-06-18T15:35:00.418351",
     "exception": false,
     "start_time": "2022-06-18T15:34:59.931509",
     "status": "completed"
    },
    "tags": []
   },
   "outputs": [
    {
     "data": {
      "image/png": "[encoded data removed]",
      "text/plain": [
       "<Figure size 1296x576 with 1 Axes>"
      ]
     },
     "metadata": {
      "needs_background": "light"
     },
     "output_type": "display_data"
    }
   ],
   "source": [
    "plt.figure(figsize=(18,8))\n",
    "sns.countplot(x='source',hue='year',data =real_df);"
   ]
  },
  {
   "cell_type": "markdown",
   "id": "8ce3316d",
   "metadata": {
    "papermill": {
     "duration": 0.007136,
     "end_time": "2022-06-18T15:35:00.432870",
     "exception": false,
     "start_time": "2022-06-18T15:35:00.425734",
     "status": "completed"
    },
    "tags": []
   },
   "source": [
    "The highest number of real news were released by the alarby source in 2016, and also by othe sources as well the highest number of real news were published in 2016.(sputnik being the exception, its highest was in 2017)."
   ]
  },
  {
   "cell_type": "code",
   "execution_count": 15,
   "id": "a12c2ec5",
   "metadata": {
    "execution": {
     "iopub.execute_input": "2022-06-18T15:35:00.449500Z",
     "iopub.status.busy": "2022-06-18T15:35:00.449133Z",
     "iopub.status.idle": "2022-06-18T15:35:00.454412Z",
     "shell.execute_reply": "2022-06-18T15:35:00.453516Z"
    },
    "papermill": {
     "duration": 0.015907,
     "end_time": "2022-06-18T15:35:00.456341",
     "exception": false,
     "start_time": "2022-06-18T15:35:00.440434",
     "status": "completed"
    },
    "tags": []
   },
   "outputs": [],
   "source": [
    "fake_df=df.loc[df.labels==0]"
   ]
  },
  {
   "cell_type": "code",
   "execution_count": 16,
   "id": "9d2a7046",
   "metadata": {
    "execution": {
     "iopub.execute_input": "2022-06-18T15:35:00.473185Z",
     "iopub.status.busy": "2022-06-18T15:35:00.472813Z",
     "iopub.status.idle": "2022-06-18T15:35:01.015304Z",
     "shell.execute_reply": "2022-06-18T15:35:01.014434Z"
    },
    "papermill": {
     "duration": 0.553318,
     "end_time": "2022-06-18T15:35:01.017293",
     "exception": false,
     "start_time": "2022-06-18T15:35:00.463975",
     "status": "completed"
    },
    "tags": []
   },
   "outputs": [
    {
     "data": {
      "image/png": "[encoded data removed]",
      "text/plain": [
       "<Figure size 1296x576 with 1 Axes>"
      ]
     },
     "metadata": {
      "needs_background": "light"
     },
     "output_type": "display_data"
    }
   ],
   "source": [
    "plt.figure(figsize=(18,8))\n",
    "sns.countplot(x='source',hue='year',data =fake_df);"
   ]
  },
  {
   "cell_type": "markdown",
   "id": "b949dd6b",
   "metadata": {
    "papermill": {
     "duration": 0.007512,
     "end_time": "2022-06-18T15:35:01.032865",
     "exception": false,
     "start_time": "2022-06-18T15:35:01.025353",
     "status": "completed"
    },
    "tags": []
   },
   "source": [
    "Not that similar with the real news trend, but still in 2016, the number of fake news released were greater than any other sources.\n",
    "It should be noticed that few sources like 'asharqalawsat'was a source to fake news in just 2016,'tass source','trt' for 2 years,and 'jordantimes','sana','alaraby' for 3 years only"
   ]
  },
  {
   "cell_type": "code",
   "execution_count": 17,
   "id": "47e611be",
   "metadata": {
    "execution": {
     "iopub.execute_input": "2022-06-18T15:35:01.050462Z",
     "iopub.status.busy": "2022-06-18T15:35:01.049623Z",
     "iopub.status.idle": "2022-06-18T15:35:01.287825Z",
     "shell.execute_reply": "2022-06-18T15:35:01.286859Z"
    },
    "papermill": {
     "duration": 0.249079,
     "end_time": "2022-06-18T15:35:01.289794",
     "exception": false,
     "start_time": "2022-06-18T15:35:01.040715",
     "status": "completed"
    },
    "tags": []
   },
   "outputs": [
    {
     "data": {
      "image/png": "[encoded data removed]",
      "text/plain": [
       "<Figure size 432x288 with 1 Axes>"
      ]
     },
     "metadata": {
      "needs_background": "light"
     },
     "output_type": "display_data"
    }
   ],
   "source": [
    "sns.boxplot(y='article_title_length',x='year',data=df);"
   ]
  },
  {
   "cell_type": "code",
   "execution_count": 18,
   "id": "19855ec3",
   "metadata": {
    "execution": {
     "iopub.execute_input": "2022-06-18T15:35:01.307731Z",
     "iopub.status.busy": "2022-06-18T15:35:01.307363Z",
     "iopub.status.idle": "2022-06-18T15:35:02.037439Z",
     "shell.execute_reply": "2022-06-18T15:35:02.036555Z"
    },
    "papermill": {
     "duration": 0.74187,
     "end_time": "2022-06-18T15:35:02.039649",
     "exception": false,
     "start_time": "2022-06-18T15:35:01.297779",
     "status": "completed"
    },
    "tags": []
   },
   "outputs": [
    {
     "data": {
      "image/png": "[encoded data removed]",
      "text/plain": [
       "<Figure size 1008x360 with 2 Axes>"
      ]
     },
     "metadata": {
      "needs_background": "light"
     },
     "output_type": "display_data"
    }
   ],
   "source": [
    "figure, axis = plt.subplots(1,2,figsize=(14,5))\n",
    "figure.suptitle(\"Boxplots representing showing year wise length of the article titles released\")\n",
    "sns.barplot(ax=axis[0],y='article_title_length',x='year',data=real_df);\n",
    "sns.barplot(ax=axis[1],y='article_title_length',x='year',data=fake_df);\n",
    "plt.show()"
   ]
  },
  {
   "cell_type": "markdown",
   "id": "2ce6e9f6",
   "metadata": {
    "papermill": {
     "duration": 0.007964,
     "end_time": "2022-06-18T15:35:02.056153",
     "exception": false,
     "start_time": "2022-06-18T15:35:02.048189",
     "status": "completed"
    },
    "tags": []
   },
   "source": [
    "The length of the news is somewhat around 60 for all years, whether the news in fake or not, there are some outliers associated with all the years, but the range goes around 60 in all cases."
   ]
  }
 ],
 "metadata": {
  "kernelspec": {
   "display_name": "Python 3",
   "language": "python",
   "name": "python3"
  },
  "language_info": {
   "codemirror_mode": {
    "name": "ipython",
    "version": 3
   },
   "file_extension": ".py",
   "mimetype": "text/x-python",
   "name": "python",
   "nbconvert_exporter": "python",
   "pygments_lexer": "ipython3",
   "version": "3.7.12"
  },
  "papermill": {
   "default_parameters": {},
   "duration": 13.882827,
   "end_time": "2022-06-18T15:35:02.785689",
   "environment_variables": {},
   "exception": null,
   "input_path": "__notebook__.ipynb",
   "output_path": "__notebook__.ipynb",
   "parameters": {},
   "start_time": "2022-06-18T15:34:48.902862",
   "version": "2.3.4"
  }
 },
 "nbformat": 4,
 "nbformat_minor": 5
}
