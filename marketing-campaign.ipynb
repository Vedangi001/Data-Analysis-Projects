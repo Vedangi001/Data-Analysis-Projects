{
 "cells": [
  {
   "cell_type": "markdown",
   "id": "0c4e24ad",
   "metadata": {
    "papermill": {
     "duration": 0.013792,
     "end_time": "2022-07-01T19:28:56.622379",
     "exception": false,
     "start_time": "2022-07-01T19:28:56.608587",
     "status": "completed"
    },
    "tags": []
   },
   "source": [
    "# The Market Campaign, a customer personality analysis"
   ]
  },
  {
   "cell_type": "markdown",
   "id": "ece2cd65",
   "metadata": {
    "papermill": {
     "duration": 0.012844,
     "end_time": "2022-07-01T19:28:56.648700",
     "exception": false,
     "start_time": "2022-07-01T19:28:56.635856",
     "status": "completed"
    },
    "tags": []
   },
   "source": [
    "# Loading Dataset"
   ]
  },
  {
   "cell_type": "code",
   "execution_count": 1,
   "id": "6f349a6b",
   "metadata": {
    "_cell_guid": "b1076dfc-b9ad-4769-8c92-a6c4dae69d19",
    "_uuid": "8f2839f25d086af736a60e9eeb907d3b93b6e0e5",
    "execution": {
     "iopub.execute_input": "2022-07-01T19:28:56.678901Z",
     "iopub.status.busy": "2022-07-01T19:28:56.677830Z",
     "iopub.status.idle": "2022-07-01T19:28:56.695581Z",
     "shell.execute_reply": "2022-07-01T19:28:56.694635Z"
    },
    "papermill": {
     "duration": 0.036287,
     "end_time": "2022-07-01T19:28:56.698444",
     "exception": false,
     "start_time": "2022-07-01T19:28:56.662157",
     "status": "completed"
    },
    "tags": []
   },
   "outputs": [
    {
     "name": "stdout",
     "output_type": "stream",
     "text": [
      "/kaggle/input/customer-personality-analysis/marketing_campaign.csv\n"
     ]
    }
   ],
   "source": [
    "import numpy as np \n",
    "import pandas as pd \n",
    "\n",
    "import os\n",
    "for dirname, _, filenames in os.walk('/kaggle/input'):\n",
    "    for filename in filenames:\n",
    "        print(os.path.join(dirname, filename))"
   ]
  },
  {
   "cell_type": "code",
   "execution_count": 2,
   "id": "ad8bc5a6",
   "metadata": {
    "execution": {
     "iopub.execute_input": "2022-07-01T19:28:56.728569Z",
     "iopub.status.busy": "2022-07-01T19:28:56.727849Z",
     "iopub.status.idle": "2022-07-01T19:28:56.758344Z",
     "shell.execute_reply": "2022-07-01T19:28:56.757310Z"
    },
    "papermill": {
     "duration": 0.049617,
     "end_time": "2022-07-01T19:28:56.761094",
     "exception": false,
     "start_time": "2022-07-01T19:28:56.711477",
     "status": "completed"
    },
    "tags": []
   },
   "outputs": [],
   "source": [
    "df = pd.read_csv(\"../input/customer-personality-analysis/marketing_campaign.csv\",sep='\\t')"
   ]
  },
  {
   "cell_type": "code",
   "execution_count": 3,
   "id": "03334373",
   "metadata": {
    "execution": {
     "iopub.execute_input": "2022-07-01T19:28:56.788821Z",
     "iopub.status.busy": "2022-07-01T19:28:56.788077Z",
     "iopub.status.idle": "2022-07-01T19:28:56.821215Z",
     "shell.execute_reply": "2022-07-01T19:28:56.820398Z"
    },
    "papermill": {
     "duration": 0.050282,
     "end_time": "2022-07-01T19:28:56.824158",
     "exception": false,
     "start_time": "2022-07-01T19:28:56.773876",
     "status": "completed"
    },
    "tags": []
   },
   "outputs": [
    {
     "data": {
      "text/html": [
       "<div>\n",
       "<style scoped>\n",
       "    .dataframe tbody tr th:only-of-type {\n",
       "        vertical-align: middle;\n",
       "    }\n",
       "\n",
       "    .dataframe tbody tr th {\n",
       "        vertical-align: top;\n",
       "    }\n",
       "\n",
       "    .dataframe thead th {\n",
       "        text-align: right;\n",
       "    }\n",
       "</style>\n",
       "<table border=\"1\" class=\"dataframe\">\n",
       "  <thead>\n",
       "    <tr style=\"text-align: right;\">\n",
       "      <th></th>\n",
       "      <th>ID</th>\n",
       "      <th>Year_Birth</th>\n",
       "      <th>Education</th>\n",
       "      <th>Marital_Status</th>\n",
       "      <th>Income</th>\n",
       "      <th>Kidhome</th>\n",
       "      <th>Teenhome</th>\n",
       "      <th>Dt_Customer</th>\n",
       "      <th>Recency</th>\n",
       "      <th>MntWines</th>\n",
       "      <th>...</th>\n",
       "      <th>NumWebVisitsMonth</th>\n",
       "      <th>AcceptedCmp3</th>\n",
       "      <th>AcceptedCmp4</th>\n",
       "      <th>AcceptedCmp5</th>\n",
       "      <th>AcceptedCmp1</th>\n",
       "      <th>AcceptedCmp2</th>\n",
       "      <th>Complain</th>\n",
       "      <th>Z_CostContact</th>\n",
       "      <th>Z_Revenue</th>\n",
       "      <th>Response</th>\n",
       "    </tr>\n",
       "  </thead>\n",
       "  <tbody>\n",
       "    <tr>\n",
       "      <th>0</th>\n",
       "      <td>5524</td>\n",
       "      <td>1957</td>\n",
       "      <td>Graduation</td>\n",
       "      <td>Single</td>\n",
       "      <td>58138.0</td>\n",
       "      <td>0</td>\n",
       "      <td>0</td>\n",
       "      <td>04-09-2012</td>\n",
       "      <td>58</td>\n",
       "      <td>635</td>\n",
       "      <td>...</td>\n",
       "      <td>7</td>\n",
       "      <td>0</td>\n",
       "      <td>0</td>\n",
       "      <td>0</td>\n",
       "      <td>0</td>\n",
       "      <td>0</td>\n",
       "      <td>0</td>\n",
       "      <td>3</td>\n",
       "      <td>11</td>\n",
       "      <td>1</td>\n",
       "    </tr>\n",
       "    <tr>\n",
       "      <th>1</th>\n",
       "      <td>2174</td>\n",
       "      <td>1954</td>\n",
       "      <td>Graduation</td>\n",
       "      <td>Single</td>\n",
       "      <td>46344.0</td>\n",
       "      <td>1</td>\n",
       "      <td>1</td>\n",
       "      <td>08-03-2014</td>\n",
       "      <td>38</td>\n",
       "      <td>11</td>\n",
       "      <td>...</td>\n",
       "      <td>5</td>\n",
       "      <td>0</td>\n",
       "      <td>0</td>\n",
       "      <td>0</td>\n",
       "      <td>0</td>\n",
       "      <td>0</td>\n",
       "      <td>0</td>\n",
       "      <td>3</td>\n",
       "      <td>11</td>\n",
       "      <td>0</td>\n",
       "    </tr>\n",
       "    <tr>\n",
       "      <th>2</th>\n",
       "      <td>4141</td>\n",
       "      <td>1965</td>\n",
       "      <td>Graduation</td>\n",
       "      <td>Together</td>\n",
       "      <td>71613.0</td>\n",
       "      <td>0</td>\n",
       "      <td>0</td>\n",
       "      <td>21-08-2013</td>\n",
       "      <td>26</td>\n",
       "      <td>426</td>\n",
       "      <td>...</td>\n",
       "      <td>4</td>\n",
       "      <td>0</td>\n",
       "      <td>0</td>\n",
       "      <td>0</td>\n",
       "      <td>0</td>\n",
       "      <td>0</td>\n",
       "      <td>0</td>\n",
       "      <td>3</td>\n",
       "      <td>11</td>\n",
       "      <td>0</td>\n",
       "    </tr>\n",
       "    <tr>\n",
       "      <th>3</th>\n",
       "      <td>6182</td>\n",
       "      <td>1984</td>\n",
       "      <td>Graduation</td>\n",
       "      <td>Together</td>\n",
       "      <td>26646.0</td>\n",
       "      <td>1</td>\n",
       "      <td>0</td>\n",
       "      <td>10-02-2014</td>\n",
       "      <td>26</td>\n",
       "      <td>11</td>\n",
       "      <td>...</td>\n",
       "      <td>6</td>\n",
       "      <td>0</td>\n",
       "      <td>0</td>\n",
       "      <td>0</td>\n",
       "      <td>0</td>\n",
       "      <td>0</td>\n",
       "      <td>0</td>\n",
       "      <td>3</td>\n",
       "      <td>11</td>\n",
       "      <td>0</td>\n",
       "    </tr>\n",
       "    <tr>\n",
       "      <th>4</th>\n",
       "      <td>5324</td>\n",
       "      <td>1981</td>\n",
       "      <td>PhD</td>\n",
       "      <td>Married</td>\n",
       "      <td>58293.0</td>\n",
       "      <td>1</td>\n",
       "      <td>0</td>\n",
       "      <td>19-01-2014</td>\n",
       "      <td>94</td>\n",
       "      <td>173</td>\n",
       "      <td>...</td>\n",
       "      <td>5</td>\n",
       "      <td>0</td>\n",
       "      <td>0</td>\n",
       "      <td>0</td>\n",
       "      <td>0</td>\n",
       "      <td>0</td>\n",
       "      <td>0</td>\n",
       "      <td>3</td>\n",
       "      <td>11</td>\n",
       "      <td>0</td>\n",
       "    </tr>\n",
       "  </tbody>\n",
       "</table>\n",
       "<p>5 rows × 29 columns</p>\n",
       "</div>"
      ],
      "text/plain": [
       "     ID  Year_Birth   Education Marital_Status   Income  Kidhome  Teenhome  \\\n",
       "0  5524        1957  Graduation         Single  58138.0        0         0   \n",
       "1  2174        1954  Graduation         Single  46344.0        1         1   \n",
       "2  4141        1965  Graduation       Together  71613.0        0         0   \n",
       "3  6182        1984  Graduation       Together  26646.0        1         0   \n",
       "4  5324        1981         PhD        Married  58293.0        1         0   \n",
       "\n",
       "  Dt_Customer  Recency  MntWines  ...  NumWebVisitsMonth  AcceptedCmp3  \\\n",
       "0  04-09-2012       58       635  ...                  7             0   \n",
       "1  08-03-2014       38        11  ...                  5             0   \n",
       "2  21-08-2013       26       426  ...                  4             0   \n",
       "3  10-02-2014       26        11  ...                  6             0   \n",
       "4  19-01-2014       94       173  ...                  5             0   \n",
       "\n",
       "   AcceptedCmp4  AcceptedCmp5  AcceptedCmp1  AcceptedCmp2  Complain  \\\n",
       "0             0             0             0             0         0   \n",
       "1             0             0             0             0         0   \n",
       "2             0             0             0             0         0   \n",
       "3             0             0             0             0         0   \n",
       "4             0             0             0             0         0   \n",
       "\n",
       "   Z_CostContact  Z_Revenue  Response  \n",
       "0              3         11         1  \n",
       "1              3         11         0  \n",
       "2              3         11         0  \n",
       "3              3         11         0  \n",
       "4              3         11         0  \n",
       "\n",
       "[5 rows x 29 columns]"
      ]
     },
     "execution_count": 3,
     "metadata": {},
     "output_type": "execute_result"
    }
   ],
   "source": [
    "df.head()"
   ]
  },
  {
   "cell_type": "code",
   "execution_count": 4,
   "id": "5cc2a245",
   "metadata": {
    "execution": {
     "iopub.execute_input": "2022-07-01T19:28:56.853358Z",
     "iopub.status.busy": "2022-07-01T19:28:56.852954Z",
     "iopub.status.idle": "2022-07-01T19:28:56.880958Z",
     "shell.execute_reply": "2022-07-01T19:28:56.879207Z"
    },
    "papermill": {
     "duration": 0.046439,
     "end_time": "2022-07-01T19:28:56.883908",
     "exception": false,
     "start_time": "2022-07-01T19:28:56.837469",
     "status": "completed"
    },
    "tags": []
   },
   "outputs": [
    {
     "name": "stdout",
     "output_type": "stream",
     "text": [
      "<class 'pandas.core.frame.DataFrame'>\n",
      "RangeIndex: 2240 entries, 0 to 2239\n",
      "Data columns (total 29 columns):\n",
      " #   Column               Non-Null Count  Dtype  \n",
      "---  ------               --------------  -----  \n",
      " 0   ID                   2240 non-null   int64  \n",
      " 1   Year_Birth           2240 non-null   int64  \n",
      " 2   Education            2240 non-null   object \n",
      " 3   Marital_Status       2240 non-null   object \n",
      " 4   Income               2216 non-null   float64\n",
      " 5   Kidhome              2240 non-null   int64  \n",
      " 6   Teenhome             2240 non-null   int64  \n",
      " 7   Dt_Customer          2240 non-null   object \n",
      " 8   Recency              2240 non-null   int64  \n",
      " 9   MntWines             2240 non-null   int64  \n",
      " 10  MntFruits            2240 non-null   int64  \n",
      " 11  MntMeatProducts      2240 non-null   int64  \n",
      " 12  MntFishProducts      2240 non-null   int64  \n",
      " 13  MntSweetProducts     2240 non-null   int64  \n",
      " 14  MntGoldProds         2240 non-null   int64  \n",
      " 15  NumDealsPurchases    2240 non-null   int64  \n",
      " 16  NumWebPurchases      2240 non-null   int64  \n",
      " 17  NumCatalogPurchases  2240 non-null   int64  \n",
      " 18  NumStorePurchases    2240 non-null   int64  \n",
      " 19  NumWebVisitsMonth    2240 non-null   int64  \n",
      " 20  AcceptedCmp3         2240 non-null   int64  \n",
      " 21  AcceptedCmp4         2240 non-null   int64  \n",
      " 22  AcceptedCmp5         2240 non-null   int64  \n",
      " 23  AcceptedCmp1         2240 non-null   int64  \n",
      " 24  AcceptedCmp2         2240 non-null   int64  \n",
      " 25  Complain             2240 non-null   int64  \n",
      " 26  Z_CostContact        2240 non-null   int64  \n",
      " 27  Z_Revenue            2240 non-null   int64  \n",
      " 28  Response             2240 non-null   int64  \n",
      "dtypes: float64(1), int64(25), object(3)\n",
      "memory usage: 507.6+ KB\n"
     ]
    }
   ],
   "source": [
    "df.info()"
   ]
  },
  {
   "cell_type": "code",
   "execution_count": 5,
   "id": "99ed123d",
   "metadata": {
    "execution": {
     "iopub.execute_input": "2022-07-01T19:28:56.912776Z",
     "iopub.status.busy": "2022-07-01T19:28:56.912099Z",
     "iopub.status.idle": "2022-07-01T19:28:56.998334Z",
     "shell.execute_reply": "2022-07-01T19:28:56.997101Z"
    },
    "papermill": {
     "duration": 0.103506,
     "end_time": "2022-07-01T19:28:57.000963",
     "exception": false,
     "start_time": "2022-07-01T19:28:56.897457",
     "status": "completed"
    },
    "tags": []
   },
   "outputs": [
    {
     "data": {
      "text/html": [
       "<div>\n",
       "<style scoped>\n",
       "    .dataframe tbody tr th:only-of-type {\n",
       "        vertical-align: middle;\n",
       "    }\n",
       "\n",
       "    .dataframe tbody tr th {\n",
       "        vertical-align: top;\n",
       "    }\n",
       "\n",
       "    .dataframe thead th {\n",
       "        text-align: right;\n",
       "    }\n",
       "</style>\n",
       "<table border=\"1\" class=\"dataframe\">\n",
       "  <thead>\n",
       "    <tr style=\"text-align: right;\">\n",
       "      <th></th>\n",
       "      <th>ID</th>\n",
       "      <th>Year_Birth</th>\n",
       "      <th>Income</th>\n",
       "      <th>Kidhome</th>\n",
       "      <th>Teenhome</th>\n",
       "      <th>Recency</th>\n",
       "      <th>MntWines</th>\n",
       "      <th>MntFruits</th>\n",
       "      <th>MntMeatProducts</th>\n",
       "      <th>MntFishProducts</th>\n",
       "      <th>...</th>\n",
       "      <th>NumWebVisitsMonth</th>\n",
       "      <th>AcceptedCmp3</th>\n",
       "      <th>AcceptedCmp4</th>\n",
       "      <th>AcceptedCmp5</th>\n",
       "      <th>AcceptedCmp1</th>\n",
       "      <th>AcceptedCmp2</th>\n",
       "      <th>Complain</th>\n",
       "      <th>Z_CostContact</th>\n",
       "      <th>Z_Revenue</th>\n",
       "      <th>Response</th>\n",
       "    </tr>\n",
       "  </thead>\n",
       "  <tbody>\n",
       "    <tr>\n",
       "      <th>count</th>\n",
       "      <td>2240.000000</td>\n",
       "      <td>2240.000000</td>\n",
       "      <td>2216.000000</td>\n",
       "      <td>2240.000000</td>\n",
       "      <td>2240.000000</td>\n",
       "      <td>2240.000000</td>\n",
       "      <td>2240.000000</td>\n",
       "      <td>2240.000000</td>\n",
       "      <td>2240.000000</td>\n",
       "      <td>2240.000000</td>\n",
       "      <td>...</td>\n",
       "      <td>2240.000000</td>\n",
       "      <td>2240.000000</td>\n",
       "      <td>2240.000000</td>\n",
       "      <td>2240.000000</td>\n",
       "      <td>2240.000000</td>\n",
       "      <td>2240.000000</td>\n",
       "      <td>2240.000000</td>\n",
       "      <td>2240.0</td>\n",
       "      <td>2240.0</td>\n",
       "      <td>2240.000000</td>\n",
       "    </tr>\n",
       "    <tr>\n",
       "      <th>mean</th>\n",
       "      <td>5592.159821</td>\n",
       "      <td>1968.805804</td>\n",
       "      <td>52247.251354</td>\n",
       "      <td>0.444196</td>\n",
       "      <td>0.506250</td>\n",
       "      <td>49.109375</td>\n",
       "      <td>303.935714</td>\n",
       "      <td>26.302232</td>\n",
       "      <td>166.950000</td>\n",
       "      <td>37.525446</td>\n",
       "      <td>...</td>\n",
       "      <td>5.316518</td>\n",
       "      <td>0.072768</td>\n",
       "      <td>0.074554</td>\n",
       "      <td>0.072768</td>\n",
       "      <td>0.064286</td>\n",
       "      <td>0.013393</td>\n",
       "      <td>0.009375</td>\n",
       "      <td>3.0</td>\n",
       "      <td>11.0</td>\n",
       "      <td>0.149107</td>\n",
       "    </tr>\n",
       "    <tr>\n",
       "      <th>std</th>\n",
       "      <td>3246.662198</td>\n",
       "      <td>11.984069</td>\n",
       "      <td>25173.076661</td>\n",
       "      <td>0.538398</td>\n",
       "      <td>0.544538</td>\n",
       "      <td>28.962453</td>\n",
       "      <td>336.597393</td>\n",
       "      <td>39.773434</td>\n",
       "      <td>225.715373</td>\n",
       "      <td>54.628979</td>\n",
       "      <td>...</td>\n",
       "      <td>2.426645</td>\n",
       "      <td>0.259813</td>\n",
       "      <td>0.262728</td>\n",
       "      <td>0.259813</td>\n",
       "      <td>0.245316</td>\n",
       "      <td>0.114976</td>\n",
       "      <td>0.096391</td>\n",
       "      <td>0.0</td>\n",
       "      <td>0.0</td>\n",
       "      <td>0.356274</td>\n",
       "    </tr>\n",
       "    <tr>\n",
       "      <th>min</th>\n",
       "      <td>0.000000</td>\n",
       "      <td>1893.000000</td>\n",
       "      <td>1730.000000</td>\n",
       "      <td>0.000000</td>\n",
       "      <td>0.000000</td>\n",
       "      <td>0.000000</td>\n",
       "      <td>0.000000</td>\n",
       "      <td>0.000000</td>\n",
       "      <td>0.000000</td>\n",
       "      <td>0.000000</td>\n",
       "      <td>...</td>\n",
       "      <td>0.000000</td>\n",
       "      <td>0.000000</td>\n",
       "      <td>0.000000</td>\n",
       "      <td>0.000000</td>\n",
       "      <td>0.000000</td>\n",
       "      <td>0.000000</td>\n",
       "      <td>0.000000</td>\n",
       "      <td>3.0</td>\n",
       "      <td>11.0</td>\n",
       "      <td>0.000000</td>\n",
       "    </tr>\n",
       "    <tr>\n",
       "      <th>25%</th>\n",
       "      <td>2828.250000</td>\n",
       "      <td>1959.000000</td>\n",
       "      <td>35303.000000</td>\n",
       "      <td>0.000000</td>\n",
       "      <td>0.000000</td>\n",
       "      <td>24.000000</td>\n",
       "      <td>23.750000</td>\n",
       "      <td>1.000000</td>\n",
       "      <td>16.000000</td>\n",
       "      <td>3.000000</td>\n",
       "      <td>...</td>\n",
       "      <td>3.000000</td>\n",
       "      <td>0.000000</td>\n",
       "      <td>0.000000</td>\n",
       "      <td>0.000000</td>\n",
       "      <td>0.000000</td>\n",
       "      <td>0.000000</td>\n",
       "      <td>0.000000</td>\n",
       "      <td>3.0</td>\n",
       "      <td>11.0</td>\n",
       "      <td>0.000000</td>\n",
       "    </tr>\n",
       "    <tr>\n",
       "      <th>50%</th>\n",
       "      <td>5458.500000</td>\n",
       "      <td>1970.000000</td>\n",
       "      <td>51381.500000</td>\n",
       "      <td>0.000000</td>\n",
       "      <td>0.000000</td>\n",
       "      <td>49.000000</td>\n",
       "      <td>173.500000</td>\n",
       "      <td>8.000000</td>\n",
       "      <td>67.000000</td>\n",
       "      <td>12.000000</td>\n",
       "      <td>...</td>\n",
       "      <td>6.000000</td>\n",
       "      <td>0.000000</td>\n",
       "      <td>0.000000</td>\n",
       "      <td>0.000000</td>\n",
       "      <td>0.000000</td>\n",
       "      <td>0.000000</td>\n",
       "      <td>0.000000</td>\n",
       "      <td>3.0</td>\n",
       "      <td>11.0</td>\n",
       "      <td>0.000000</td>\n",
       "    </tr>\n",
       "    <tr>\n",
       "      <th>75%</th>\n",
       "      <td>8427.750000</td>\n",
       "      <td>1977.000000</td>\n",
       "      <td>68522.000000</td>\n",
       "      <td>1.000000</td>\n",
       "      <td>1.000000</td>\n",
       "      <td>74.000000</td>\n",
       "      <td>504.250000</td>\n",
       "      <td>33.000000</td>\n",
       "      <td>232.000000</td>\n",
       "      <td>50.000000</td>\n",
       "      <td>...</td>\n",
       "      <td>7.000000</td>\n",
       "      <td>0.000000</td>\n",
       "      <td>0.000000</td>\n",
       "      <td>0.000000</td>\n",
       "      <td>0.000000</td>\n",
       "      <td>0.000000</td>\n",
       "      <td>0.000000</td>\n",
       "      <td>3.0</td>\n",
       "      <td>11.0</td>\n",
       "      <td>0.000000</td>\n",
       "    </tr>\n",
       "    <tr>\n",
       "      <th>max</th>\n",
       "      <td>11191.000000</td>\n",
       "      <td>1996.000000</td>\n",
       "      <td>666666.000000</td>\n",
       "      <td>2.000000</td>\n",
       "      <td>2.000000</td>\n",
       "      <td>99.000000</td>\n",
       "      <td>1493.000000</td>\n",
       "      <td>199.000000</td>\n",
       "      <td>1725.000000</td>\n",
       "      <td>259.000000</td>\n",
       "      <td>...</td>\n",
       "      <td>20.000000</td>\n",
       "      <td>1.000000</td>\n",
       "      <td>1.000000</td>\n",
       "      <td>1.000000</td>\n",
       "      <td>1.000000</td>\n",
       "      <td>1.000000</td>\n",
       "      <td>1.000000</td>\n",
       "      <td>3.0</td>\n",
       "      <td>11.0</td>\n",
       "      <td>1.000000</td>\n",
       "    </tr>\n",
       "  </tbody>\n",
       "</table>\n",
       "<p>8 rows × 26 columns</p>\n",
       "</div>"
      ],
      "text/plain": [
       "                 ID   Year_Birth         Income      Kidhome     Teenhome  \\\n",
       "count   2240.000000  2240.000000    2216.000000  2240.000000  2240.000000   \n",
       "mean    5592.159821  1968.805804   52247.251354     0.444196     0.506250   \n",
       "std     3246.662198    11.984069   25173.076661     0.538398     0.544538   \n",
       "min        0.000000  1893.000000    1730.000000     0.000000     0.000000   \n",
       "25%     2828.250000  1959.000000   35303.000000     0.000000     0.000000   \n",
       "50%     5458.500000  1970.000000   51381.500000     0.000000     0.000000   \n",
       "75%     8427.750000  1977.000000   68522.000000     1.000000     1.000000   \n",
       "max    11191.000000  1996.000000  666666.000000     2.000000     2.000000   \n",
       "\n",
       "           Recency     MntWines    MntFruits  MntMeatProducts  \\\n",
       "count  2240.000000  2240.000000  2240.000000      2240.000000   \n",
       "mean     49.109375   303.935714    26.302232       166.950000   \n",
       "std      28.962453   336.597393    39.773434       225.715373   \n",
       "min       0.000000     0.000000     0.000000         0.000000   \n",
       "25%      24.000000    23.750000     1.000000        16.000000   \n",
       "50%      49.000000   173.500000     8.000000        67.000000   \n",
       "75%      74.000000   504.250000    33.000000       232.000000   \n",
       "max      99.000000  1493.000000   199.000000      1725.000000   \n",
       "\n",
       "       MntFishProducts  ...  NumWebVisitsMonth  AcceptedCmp3  AcceptedCmp4  \\\n",
       "count      2240.000000  ...        2240.000000   2240.000000   2240.000000   \n",
       "mean         37.525446  ...           5.316518      0.072768      0.074554   \n",
       "std          54.628979  ...           2.426645      0.259813      0.262728   \n",
       "min           0.000000  ...           0.000000      0.000000      0.000000   \n",
       "25%           3.000000  ...           3.000000      0.000000      0.000000   \n",
       "50%          12.000000  ...           6.000000      0.000000      0.000000   \n",
       "75%          50.000000  ...           7.000000      0.000000      0.000000   \n",
       "max         259.000000  ...          20.000000      1.000000      1.000000   \n",
       "\n",
       "       AcceptedCmp5  AcceptedCmp1  AcceptedCmp2     Complain  Z_CostContact  \\\n",
       "count   2240.000000   2240.000000   2240.000000  2240.000000         2240.0   \n",
       "mean       0.072768      0.064286      0.013393     0.009375            3.0   \n",
       "std        0.259813      0.245316      0.114976     0.096391            0.0   \n",
       "min        0.000000      0.000000      0.000000     0.000000            3.0   \n",
       "25%        0.000000      0.000000      0.000000     0.000000            3.0   \n",
       "50%        0.000000      0.000000      0.000000     0.000000            3.0   \n",
       "75%        0.000000      0.000000      0.000000     0.000000            3.0   \n",
       "max        1.000000      1.000000      1.000000     1.000000            3.0   \n",
       "\n",
       "       Z_Revenue     Response  \n",
       "count     2240.0  2240.000000  \n",
       "mean        11.0     0.149107  \n",
       "std          0.0     0.356274  \n",
       "min         11.0     0.000000  \n",
       "25%         11.0     0.000000  \n",
       "50%         11.0     0.000000  \n",
       "75%         11.0     0.000000  \n",
       "max         11.0     1.000000  \n",
       "\n",
       "[8 rows x 26 columns]"
      ]
     },
     "execution_count": 5,
     "metadata": {},
     "output_type": "execute_result"
    }
   ],
   "source": [
    "df.describe()"
   ]
  },
  {
   "cell_type": "markdown",
   "id": "aa7de691",
   "metadata": {
    "papermill": {
     "duration": 0.013098,
     "end_time": "2022-07-01T19:28:57.027900",
     "exception": false,
     "start_time": "2022-07-01T19:28:57.014802",
     "status": "completed"
    },
    "tags": []
   },
   "source": [
    "There are few points we can infer out from the above code that is:\n",
    "- The smallest year in `Year_Birth` column is 1893,which is unusual as per the other data.\n",
    "- The fields like \"AccpetedCm\" is telling the number of offers accepted after various campaign, instead of analysing them seperately, we can add them and make a field, which tells total number of offer accepted by any user.\n",
    "- The `Z_Revenue` and `Z_CostContact` columns have the same value for all the rows, hence makes no difference to the data if we drop them."
   ]
  },
  {
   "cell_type": "markdown",
   "id": "1191d03e",
   "metadata": {
    "papermill": {
     "duration": 0.013185,
     "end_time": "2022-07-01T19:28:57.054587",
     "exception": false,
     "start_time": "2022-07-01T19:28:57.041402",
     "status": "completed"
    },
    "tags": []
   },
   "source": [
    "# Data Pre-Processing"
   ]
  },
  {
   "cell_type": "code",
   "execution_count": 6,
   "id": "cc9f63d6",
   "metadata": {
    "execution": {
     "iopub.execute_input": "2022-07-01T19:28:57.084423Z",
     "iopub.status.busy": "2022-07-01T19:28:57.084001Z",
     "iopub.status.idle": "2022-07-01T19:28:57.094089Z",
     "shell.execute_reply": "2022-07-01T19:28:57.093246Z"
    },
    "papermill": {
     "duration": 0.027855,
     "end_time": "2022-07-01T19:28:57.096299",
     "exception": false,
     "start_time": "2022-07-01T19:28:57.068444",
     "status": "completed"
    },
    "tags": []
   },
   "outputs": [
    {
     "data": {
      "text/plain": [
       "ID                      0\n",
       "Year_Birth              0\n",
       "Education               0\n",
       "Marital_Status          0\n",
       "Income                 24\n",
       "Kidhome                 0\n",
       "Teenhome                0\n",
       "Dt_Customer             0\n",
       "Recency                 0\n",
       "MntWines                0\n",
       "MntFruits               0\n",
       "MntMeatProducts         0\n",
       "MntFishProducts         0\n",
       "MntSweetProducts        0\n",
       "MntGoldProds            0\n",
       "NumDealsPurchases       0\n",
       "NumWebPurchases         0\n",
       "NumCatalogPurchases     0\n",
       "NumStorePurchases       0\n",
       "NumWebVisitsMonth       0\n",
       "AcceptedCmp3            0\n",
       "AcceptedCmp4            0\n",
       "AcceptedCmp5            0\n",
       "AcceptedCmp1            0\n",
       "AcceptedCmp2            0\n",
       "Complain                0\n",
       "Z_CostContact           0\n",
       "Z_Revenue               0\n",
       "Response                0\n",
       "dtype: int64"
      ]
     },
     "execution_count": 6,
     "metadata": {},
     "output_type": "execute_result"
    }
   ],
   "source": [
    "df.isna().sum()"
   ]
  },
  {
   "cell_type": "markdown",
   "id": "bd2004ea",
   "metadata": {
    "papermill": {
     "duration": 0.013762,
     "end_time": "2022-07-01T19:28:57.124067",
     "exception": false,
     "start_time": "2022-07-01T19:28:57.110305",
     "status": "completed"
    },
    "tags": []
   },
   "source": [
    "dropping the rows with Null values"
   ]
  },
  {
   "cell_type": "code",
   "execution_count": 7,
   "id": "b3738ae7",
   "metadata": {
    "execution": {
     "iopub.execute_input": "2022-07-01T19:28:57.154059Z",
     "iopub.status.busy": "2022-07-01T19:28:57.153602Z",
     "iopub.status.idle": "2022-07-01T19:28:57.163599Z",
     "shell.execute_reply": "2022-07-01T19:28:57.162412Z"
    },
    "papermill": {
     "duration": 0.028349,
     "end_time": "2022-07-01T19:28:57.166321",
     "exception": false,
     "start_time": "2022-07-01T19:28:57.137972",
     "status": "completed"
    },
    "tags": []
   },
   "outputs": [],
   "source": [
    "df.dropna(inplace = True, axis=0)"
   ]
  },
  {
   "cell_type": "markdown",
   "id": "fdb181a4",
   "metadata": {
    "papermill": {
     "duration": 0.013584,
     "end_time": "2022-07-01T19:28:57.194542",
     "exception": false,
     "start_time": "2022-07-01T19:28:57.180958",
     "status": "completed"
    },
    "tags": []
   },
   "source": [
    "Finding the Number of total accepted offer in the campaign "
   ]
  },
  {
   "cell_type": "code",
   "execution_count": 8,
   "id": "3c0d9826",
   "metadata": {
    "execution": {
     "iopub.execute_input": "2022-07-01T19:28:57.224244Z",
     "iopub.status.busy": "2022-07-01T19:28:57.223829Z",
     "iopub.status.idle": "2022-07-01T19:28:57.232385Z",
     "shell.execute_reply": "2022-07-01T19:28:57.230900Z"
    },
    "papermill": {
     "duration": 0.025707,
     "end_time": "2022-07-01T19:28:57.234537",
     "exception": false,
     "start_time": "2022-07-01T19:28:57.208830",
     "status": "completed"
    },
    "tags": []
   },
   "outputs": [],
   "source": [
    "df[\"No. of offer Accepted\"]=df['AcceptedCmp3']+df['AcceptedCmp5']+df['AcceptedCmp2']+df['AcceptedCmp1']+df['AcceptedCmp4']+df['Response']"
   ]
  },
  {
   "cell_type": "code",
   "execution_count": 9,
   "id": "79d5da56",
   "metadata": {
    "execution": {
     "iopub.execute_input": "2022-07-01T19:28:57.266618Z",
     "iopub.status.busy": "2022-07-01T19:28:57.264703Z",
     "iopub.status.idle": "2022-07-01T19:28:57.274583Z",
     "shell.execute_reply": "2022-07-01T19:28:57.273465Z"
    },
    "papermill": {
     "duration": 0.028273,
     "end_time": "2022-07-01T19:28:57.276896",
     "exception": false,
     "start_time": "2022-07-01T19:28:57.248623",
     "status": "completed"
    },
    "tags": []
   },
   "outputs": [],
   "source": [
    "df.drop(['AcceptedCmp1','AcceptedCmp2','AcceptedCmp3','AcceptedCmp4','AcceptedCmp5','Response'],inplace=True,axis=1)"
   ]
  },
  {
   "cell_type": "markdown",
   "id": "f51dd76f",
   "metadata": {
    "papermill": {
     "duration": 0.014287,
     "end_time": "2022-07-01T19:28:57.306228",
     "exception": false,
     "start_time": "2022-07-01T19:28:57.291941",
     "status": "completed"
    },
    "tags": []
   },
   "source": [
    "Dropping the columns having same values for all the records"
   ]
  },
  {
   "cell_type": "code",
   "execution_count": 10,
   "id": "89678c21",
   "metadata": {
    "execution": {
     "iopub.execute_input": "2022-07-01T19:28:57.336186Z",
     "iopub.status.busy": "2022-07-01T19:28:57.335754Z",
     "iopub.status.idle": "2022-07-01T19:28:57.342893Z",
     "shell.execute_reply": "2022-07-01T19:28:57.342034Z"
    },
    "papermill": {
     "duration": 0.025216,
     "end_time": "2022-07-01T19:28:57.345346",
     "exception": false,
     "start_time": "2022-07-01T19:28:57.320130",
     "status": "completed"
    },
    "tags": []
   },
   "outputs": [],
   "source": [
    "df.drop(['Z_CostContact','Z_Revenue'],axis=1,inplace =True)"
   ]
  },
  {
   "cell_type": "markdown",
   "id": "3c4aa326",
   "metadata": {
    "papermill": {
     "duration": 0.014535,
     "end_time": "2022-07-01T19:28:57.373673",
     "exception": false,
     "start_time": "2022-07-01T19:28:57.359138",
     "status": "completed"
    },
    "tags": []
   },
   "source": [
    "Dropping the records where the year of birth is lower than 1940"
   ]
  },
  {
   "cell_type": "code",
   "execution_count": 11,
   "id": "98ae8074",
   "metadata": {
    "execution": {
     "iopub.execute_input": "2022-07-01T19:28:57.404042Z",
     "iopub.status.busy": "2022-07-01T19:28:57.403634Z",
     "iopub.status.idle": "2022-07-01T19:28:57.411863Z",
     "shell.execute_reply": "2022-07-01T19:28:57.411030Z"
    },
    "papermill": {
     "duration": 0.026416,
     "end_time": "2022-07-01T19:28:57.414072",
     "exception": false,
     "start_time": "2022-07-01T19:28:57.387656",
     "status": "completed"
    },
    "tags": []
   },
   "outputs": [],
   "source": [
    "df.drop(df[df.Year_Birth<1940].index,inplace=True,axis=0)"
   ]
  },
  {
   "cell_type": "markdown",
   "id": "507c409b",
   "metadata": {
    "papermill": {
     "duration": 0.013551,
     "end_time": "2022-07-01T19:28:57.441709",
     "exception": false,
     "start_time": "2022-07-01T19:28:57.428158",
     "status": "completed"
    },
    "tags": []
   },
   "source": [
    "It is easier to work with Age rather than the Year_Birth in the data, so adding one column `Age` after subtracting the corresponding year of birth from the current year."
   ]
  },
  {
   "cell_type": "code",
   "execution_count": 12,
   "id": "2c0fb83c",
   "metadata": {
    "execution": {
     "iopub.execute_input": "2022-07-01T19:28:57.471443Z",
     "iopub.status.busy": "2022-07-01T19:28:57.471020Z",
     "iopub.status.idle": "2022-07-01T19:28:57.478681Z",
     "shell.execute_reply": "2022-07-01T19:28:57.477553Z"
    },
    "papermill": {
     "duration": 0.025589,
     "end_time": "2022-07-01T19:28:57.481051",
     "exception": false,
     "start_time": "2022-07-01T19:28:57.455462",
     "status": "completed"
    },
    "tags": []
   },
   "outputs": [
    {
     "data": {
      "text/plain": [
       "2022"
      ]
     },
     "execution_count": 12,
     "metadata": {},
     "output_type": "execute_result"
    }
   ],
   "source": [
    "from datetime import date\n",
    "now=date.today().year\n",
    "now"
   ]
  },
  {
   "cell_type": "code",
   "execution_count": 13,
   "id": "51ca7567",
   "metadata": {
    "execution": {
     "iopub.execute_input": "2022-07-01T19:28:57.511718Z",
     "iopub.status.busy": "2022-07-01T19:28:57.511337Z",
     "iopub.status.idle": "2022-07-01T19:28:57.520855Z",
     "shell.execute_reply": "2022-07-01T19:28:57.519760Z"
    },
    "papermill": {
     "duration": 0.0276,
     "end_time": "2022-07-01T19:28:57.523245",
     "exception": false,
     "start_time": "2022-07-01T19:28:57.495645",
     "status": "completed"
    },
    "tags": []
   },
   "outputs": [
    {
     "data": {
      "text/plain": [
       "0       65\n",
       "1       68\n",
       "2       57\n",
       "3       38\n",
       "4       41\n",
       "        ..\n",
       "2235    55\n",
       "2236    76\n",
       "2237    41\n",
       "2238    66\n",
       "2239    68\n",
       "Name: Age, Length: 2213, dtype: int64"
      ]
     },
     "execution_count": 13,
     "metadata": {},
     "output_type": "execute_result"
    }
   ],
   "source": [
    "df['Age']=now-df['Year_Birth']\n",
    "df['Age']"
   ]
  },
  {
   "cell_type": "code",
   "execution_count": 14,
   "id": "bf53ef2a",
   "metadata": {
    "execution": {
     "iopub.execute_input": "2022-07-01T19:28:57.554302Z",
     "iopub.status.busy": "2022-07-01T19:28:57.553909Z",
     "iopub.status.idle": "2022-07-01T19:28:57.562057Z",
     "shell.execute_reply": "2022-07-01T19:28:57.561254Z"
    },
    "papermill": {
     "duration": 0.026339,
     "end_time": "2022-07-01T19:28:57.564335",
     "exception": false,
     "start_time": "2022-07-01T19:28:57.537996",
     "status": "completed"
    },
    "tags": []
   },
   "outputs": [
    {
     "data": {
      "text/plain": [
       "ID                         int64\n",
       "Year_Birth                 int64\n",
       "Education                 object\n",
       "Marital_Status            object\n",
       "Income                   float64\n",
       "Kidhome                    int64\n",
       "Teenhome                   int64\n",
       "Dt_Customer               object\n",
       "Recency                    int64\n",
       "MntWines                   int64\n",
       "MntFruits                  int64\n",
       "MntMeatProducts            int64\n",
       "MntFishProducts            int64\n",
       "MntSweetProducts           int64\n",
       "MntGoldProds               int64\n",
       "NumDealsPurchases          int64\n",
       "NumWebPurchases            int64\n",
       "NumCatalogPurchases        int64\n",
       "NumStorePurchases          int64\n",
       "NumWebVisitsMonth          int64\n",
       "Complain                   int64\n",
       "No. of offer Accepted      int64\n",
       "Age                        int64\n",
       "dtype: object"
      ]
     },
     "execution_count": 14,
     "metadata": {},
     "output_type": "execute_result"
    }
   ],
   "source": [
    "df.dtypes"
   ]
  },
  {
   "cell_type": "markdown",
   "id": "cb098abe",
   "metadata": {
    "papermill": {
     "duration": 0.014391,
     "end_time": "2022-07-01T19:28:57.593118",
     "exception": false,
     "start_time": "2022-07-01T19:28:57.578727",
     "status": "completed"
    },
    "tags": []
   },
   "source": [
    "Finding the Year from Date of customers"
   ]
  },
  {
   "cell_type": "code",
   "execution_count": 15,
   "id": "eed09eff",
   "metadata": {
    "execution": {
     "iopub.execute_input": "2022-07-01T19:28:57.623453Z",
     "iopub.status.busy": "2022-07-01T19:28:57.623090Z",
     "iopub.status.idle": "2022-07-01T19:28:57.640452Z",
     "shell.execute_reply": "2022-07-01T19:28:57.638949Z"
    },
    "papermill": {
     "duration": 0.035643,
     "end_time": "2022-07-01T19:28:57.643085",
     "exception": false,
     "start_time": "2022-07-01T19:28:57.607442",
     "status": "completed"
    },
    "tags": []
   },
   "outputs": [
    {
     "data": {
      "text/plain": [
       "0       2012\n",
       "1       2014\n",
       "2       2013\n",
       "3       2014\n",
       "4       2014\n",
       "        ... \n",
       "2235    2013\n",
       "2236    2014\n",
       "2237    2014\n",
       "2238    2014\n",
       "2239    2012\n",
       "Name: Dt_Cust, Length: 2213, dtype: int64"
      ]
     },
     "execution_count": 15,
     "metadata": {},
     "output_type": "execute_result"
    }
   ],
   "source": [
    "df['Dt_Cust']= pd.to_datetime(pd.Series(df['Dt_Customer']))\n",
    "df['Dt_Cust']=pd.DatetimeIndex(df['Dt_Cust']).year\n",
    "df['Dt_Cust']"
   ]
  },
  {
   "cell_type": "markdown",
   "id": "426cda13",
   "metadata": {
    "papermill": {
     "duration": 0.013361,
     "end_time": "2022-07-01T19:28:57.670576",
     "exception": false,
     "start_time": "2022-07-01T19:28:57.657215",
     "status": "completed"
    },
    "tags": []
   },
   "source": [
    "# Exploratory Data Analysis"
   ]
  },
  {
   "cell_type": "code",
   "execution_count": 16,
   "id": "6612b1a0",
   "metadata": {
    "execution": {
     "iopub.execute_input": "2022-07-01T19:28:57.700601Z",
     "iopub.status.busy": "2022-07-01T19:28:57.700181Z",
     "iopub.status.idle": "2022-07-01T19:28:58.929017Z",
     "shell.execute_reply": "2022-07-01T19:28:58.927521Z"
    },
    "papermill": {
     "duration": 1.247414,
     "end_time": "2022-07-01T19:28:58.932304",
     "exception": false,
     "start_time": "2022-07-01T19:28:57.684890",
     "status": "completed"
    },
    "tags": []
   },
   "outputs": [],
   "source": [
    "import matplotlib.pyplot as plt\n",
    "import seaborn as sns"
   ]
  },
  {
   "cell_type": "markdown",
   "id": "f325baa8",
   "metadata": {
    "papermill": {
     "duration": 0.014401,
     "end_time": "2022-07-01T19:28:58.961297",
     "exception": false,
     "start_time": "2022-07-01T19:28:58.946896",
     "status": "completed"
    },
    "tags": []
   },
   "source": [
    "Checking the Age distribution of teh customers"
   ]
  },
  {
   "cell_type": "code",
   "execution_count": 17,
   "id": "deb29983",
   "metadata": {
    "execution": {
     "iopub.execute_input": "2022-07-01T19:28:58.992329Z",
     "iopub.status.busy": "2022-07-01T19:28:58.991939Z",
     "iopub.status.idle": "2022-07-01T19:28:59.204139Z",
     "shell.execute_reply": "2022-07-01T19:28:59.202441Z"
    },
    "papermill": {
     "duration": 0.231138,
     "end_time": "2022-07-01T19:28:59.207023",
     "exception": false,
     "start_time": "2022-07-01T19:28:58.975885",
     "status": "completed"
    },
    "tags": []
   },
   "outputs": [
    {
     "data": {
      "image/png": "[encoded data removed]",
      "text/plain": [
       "<Figure size 432x288 with 1 Axes>"
      ]
     },
     "metadata": {
      "needs_background": "light"
     },
     "output_type": "display_data"
    }
   ],
   "source": [
    "sns.boxplot(y='Age', data=df)\n",
    "plt.title(\"Age distribution of the Customers\")\n",
    "plt.show()"
   ]
  },
  {
   "cell_type": "markdown",
   "id": "f1ac1476",
   "metadata": {
    "execution": {
     "iopub.execute_input": "2022-06-28T06:33:29.418747Z",
     "iopub.status.busy": "2022-06-28T06:33:29.418116Z",
     "iopub.status.idle": "2022-06-28T06:33:29.426376Z",
     "shell.execute_reply": "2022-06-28T06:33:29.424912Z",
     "shell.execute_reply.started": "2022-06-28T06:33:29.418692Z"
    },
    "papermill": {
     "duration": 0.014457,
     "end_time": "2022-07-01T19:28:59.236171",
     "exception": false,
     "start_time": "2022-07-01T19:28:59.221714",
     "status": "completed"
    },
    "tags": []
   },
   "source": [
    "The median Age is \\~ 50, and goes till 80"
   ]
  },
  {
   "cell_type": "code",
   "execution_count": 18,
   "id": "7435f9ea",
   "metadata": {
    "execution": {
     "iopub.execute_input": "2022-07-01T19:28:59.268775Z",
     "iopub.status.busy": "2022-07-01T19:28:59.267768Z",
     "iopub.status.idle": "2022-07-01T19:28:59.453318Z",
     "shell.execute_reply": "2022-07-01T19:28:59.452432Z"
    },
    "papermill": {
     "duration": 0.204693,
     "end_time": "2022-07-01T19:28:59.456007",
     "exception": false,
     "start_time": "2022-07-01T19:28:59.251314",
     "status": "completed"
    },
    "tags": []
   },
   "outputs": [
    {
     "data": {
      "image/png": "[encoded data removed]",
      "text/plain": [
       "<Figure size 432x288 with 1 Axes>"
      ]
     },
     "metadata": {
      "needs_background": "light"
     },
     "output_type": "display_data"
    }
   ],
   "source": [
    "sns.countplot(x='Education',data=df)\n",
    "plt.title(\"Education of the Customers\")\n",
    "plt.show()"
   ]
  },
  {
   "cell_type": "markdown",
   "id": "e2f8cd34",
   "metadata": {
    "papermill": {
     "duration": 0.015335,
     "end_time": "2022-07-01T19:28:59.487027",
     "exception": false,
     "start_time": "2022-07-01T19:28:59.471692",
     "status": "completed"
    },
    "tags": []
   },
   "source": [
    "Most of the customers are `Graduated`,Around 500 have done PhD, the very less number of customers have just `Basic` education."
   ]
  },
  {
   "cell_type": "code",
   "execution_count": 19,
   "id": "e5be8fac",
   "metadata": {
    "execution": {
     "iopub.execute_input": "2022-07-01T19:28:59.519242Z",
     "iopub.status.busy": "2022-07-01T19:28:59.518614Z",
     "iopub.status.idle": "2022-07-01T19:28:59.795097Z",
     "shell.execute_reply": "2022-07-01T19:28:59.794265Z"
    },
    "papermill": {
     "duration": 0.295324,
     "end_time": "2022-07-01T19:28:59.797556",
     "exception": false,
     "start_time": "2022-07-01T19:28:59.502232",
     "status": "completed"
    },
    "tags": []
   },
   "outputs": [
    {
     "data": {
      "image/png": "[encoded data removed]",
      "text/plain": [
       "<Figure size 432x288 with 1 Axes>"
      ]
     },
     "metadata": {
      "needs_background": "light"
     },
     "output_type": "display_data"
    }
   ],
   "source": [
    "sns.countplot(x='Marital_Status',data=df,hue='Kidhome')\n",
    "plt.title(\"Marital Status of the customers\")\n",
    "plt.show()"
   ]
  },
  {
   "cell_type": "markdown",
   "id": "614629c6",
   "metadata": {
    "papermill": {
     "duration": 0.014734,
     "end_time": "2022-07-01T19:28:59.828177",
     "exception": false,
     "start_time": "2022-07-01T19:28:59.813443",
     "status": "completed"
    },
    "tags": []
   },
   "source": [
    "A large number of Customers are `Married`, The number of together and Single customers are also larger than Divorced, Widow, Alone, Absurd or YOLO.\n",
    "Also, the very few people have 2 kids at home, mostly either they dont have or just have 1 Kid at home."
   ]
  },
  {
   "cell_type": "code",
   "execution_count": 20,
   "id": "f00bd554",
   "metadata": {
    "execution": {
     "iopub.execute_input": "2022-07-01T19:28:59.862093Z",
     "iopub.status.busy": "2022-07-01T19:28:59.861458Z",
     "iopub.status.idle": "2022-07-01T19:29:00.139618Z",
     "shell.execute_reply": "2022-07-01T19:29:00.138277Z"
    },
    "papermill": {
     "duration": 0.297852,
     "end_time": "2022-07-01T19:29:00.142170",
     "exception": false,
     "start_time": "2022-07-01T19:28:59.844318",
     "status": "completed"
    },
    "tags": []
   },
   "outputs": [
    {
     "data": {
      "image/png": "[encoded data removed]",
      "text/plain": [
       "<Figure size 432x288 with 1 Axes>"
      ]
     },
     "metadata": {
      "needs_background": "light"
     },
     "output_type": "display_data"
    }
   ],
   "source": [
    "sns.countplot(x='Marital_Status',data=df,hue='Teenhome')\n",
    "plt.title(\"Marital Status of the customers\")\n",
    "plt.show()"
   ]
  },
  {
   "cell_type": "markdown",
   "id": "c3732200",
   "metadata": {
    "papermill": {
     "duration": 0.015358,
     "end_time": "2022-07-01T19:29:00.173269",
     "exception": false,
     "start_time": "2022-07-01T19:29:00.157911",
     "status": "completed"
    },
    "tags": []
   },
   "source": [
    "The trend of kids at home and teens at home is very similar."
   ]
  },
  {
   "cell_type": "code",
   "execution_count": 21,
   "id": "b6c65662",
   "metadata": {
    "execution": {
     "iopub.execute_input": "2022-07-01T19:29:00.208679Z",
     "iopub.status.busy": "2022-07-01T19:29:00.208283Z",
     "iopub.status.idle": "2022-07-01T19:29:00.438010Z",
     "shell.execute_reply": "2022-07-01T19:29:00.436676Z"
    },
    "papermill": {
     "duration": 0.250527,
     "end_time": "2022-07-01T19:29:00.440572",
     "exception": false,
     "start_time": "2022-07-01T19:29:00.190045",
     "status": "completed"
    },
    "tags": []
   },
   "outputs": [
    {
     "data": {
      "text/plain": [
       "<AxesSubplot:xlabel='Recency', ylabel='Count'>"
      ]
     },
     "execution_count": 21,
     "metadata": {},
     "output_type": "execute_result"
    },
    {
     "data": {
      "image/png": "[encoded data removed]",
      "text/plain": [
       "<Figure size 432x288 with 1 Axes>"
      ]
     },
     "metadata": {
      "needs_background": "light"
     },
     "output_type": "display_data"
    }
   ],
   "source": [
    "sns.histplot(x='Recency',data=df)"
   ]
  },
  {
   "cell_type": "markdown",
   "id": "e14c1db4",
   "metadata": {
    "papermill": {
     "duration": 0.016647,
     "end_time": "2022-07-01T19:29:00.473149",
     "exception": false,
     "start_time": "2022-07-01T19:29:00.456502",
     "status": "completed"
    },
    "tags": []
   },
   "source": [
    "There seems no trend in recency, the count is more than 100 for each bin."
   ]
  },
  {
   "cell_type": "code",
   "execution_count": 22,
   "id": "bc5dcac8",
   "metadata": {
    "execution": {
     "iopub.execute_input": "2022-07-01T19:29:00.507265Z",
     "iopub.status.busy": "2022-07-01T19:29:00.506867Z",
     "iopub.status.idle": "2022-07-01T19:29:10.511437Z",
     "shell.execute_reply": "2022-07-01T19:29:10.510229Z"
    },
    "papermill": {
     "duration": 10.025406,
     "end_time": "2022-07-01T19:29:10.514442",
     "exception": false,
     "start_time": "2022-07-01T19:29:00.489036",
     "status": "completed"
    },
    "tags": []
   },
   "outputs": [
    {
     "data": {
      "image/png": "[encoded data removed]",
      "text/plain": [
       "<Figure size 1152x360 with 6 Axes>"
      ]
     },
     "metadata": {
      "needs_background": "light"
     },
     "output_type": "display_data"
    }
   ],
   "source": [
    "figure, axis = plt.subplots(3,2,figsize=(16,5))\n",
    "figure.suptitle(\"Boxplots representing Products purchased by different aged customers\")\n",
    "sns.lineplot(ax=axis[0,0],y='MntWines',x='Age',data=df);\n",
    "sns.lineplot(ax=axis[0,1],y='MntFruits',x='Age',data=df);\n",
    "sns.lineplot(ax=axis[1,0],y='MntMeatProducts',x='Age',data=df);\n",
    "sns.lineplot(ax=axis[1,1],y='MntFishProducts',x='Age',data=df);\n",
    "sns.lineplot(ax=axis[2,0],y='MntSweetProducts',x='Age',data=df);\n",
    "sns.lineplot(ax=axis[2,1],y='MntGoldProds',x='Age',data=df);\n",
    "plt.show()"
   ]
  },
  {
   "cell_type": "markdown",
   "id": "5e180efc",
   "metadata": {
    "papermill": {
     "duration": 0.01703,
     "end_time": "2022-07-01T19:29:10.549439",
     "exception": false,
     "start_time": "2022-07-01T19:29:10.532409",
     "status": "completed"
    },
    "tags": []
   },
   "source": [
    "Except for Sweet Products and Gold products, there is a common trend visible in the all plots, which tells the amount of `Wines, Fruits, Meat Products, Fish Products` are purchased more by the customer which are either 30 and below or 75 and above.\n",
    "The reason for this could be that, these two categories are not of the people who works, so they may do the shopping for their family.\n",
    "The Sweet Products are comparbly less purchased, but the oldies purchased more amount of sweet products than any other age category.\n",
    "The Gold Products were purchased more by the customers of age 30 or so.\n"
   ]
  },
  {
   "cell_type": "code",
   "execution_count": 23,
   "id": "77ec3271",
   "metadata": {
    "execution": {
     "iopub.execute_input": "2022-07-01T19:29:10.585446Z",
     "iopub.status.busy": "2022-07-01T19:29:10.584809Z",
     "iopub.status.idle": "2022-07-01T19:29:11.602328Z",
     "shell.execute_reply": "2022-07-01T19:29:11.600960Z"
    },
    "papermill": {
     "duration": 1.038848,
     "end_time": "2022-07-01T19:29:11.605299",
     "exception": false,
     "start_time": "2022-07-01T19:29:10.566451",
     "status": "completed"
    },
    "tags": []
   },
   "outputs": [
    {
     "data": {
      "image/png": "[encoded data removed]",
      "text/plain": [
       "<Figure size 1008x360 with 2 Axes>"
      ]
     },
     "metadata": {
      "needs_background": "light"
     },
     "output_type": "display_data"
    }
   ],
   "source": [
    "figure1, axis1= plt.subplots(1,2,figsize=(14,5))\n",
    "sns.countplot(ax=axis1[0],x='NumWebPurchases', hue='Education', data=df)\n",
    "sns.countplot(ax=axis1[1],x='NumWebPurchases', hue='Marital_Status', data=df)\n",
    "plt.show()"
   ]
  },
  {
   "cell_type": "markdown",
   "id": "a354f337",
   "metadata": {
    "papermill": {
     "duration": 0.018676,
     "end_time": "2022-07-01T19:29:11.643119",
     "exception": false,
     "start_time": "2022-07-01T19:29:11.624443",
     "status": "completed"
    },
    "tags": []
   },
   "source": [
    "The Married and Graduated People have done more Web Purchases."
   ]
  },
  {
   "cell_type": "code",
   "execution_count": 24,
   "id": "6f3d12f6",
   "metadata": {
    "execution": {
     "iopub.execute_input": "2022-07-01T19:29:11.685283Z",
     "iopub.status.busy": "2022-07-01T19:29:11.684367Z",
     "iopub.status.idle": "2022-07-01T19:29:12.755870Z",
     "shell.execute_reply": "2022-07-01T19:29:12.755028Z"
    },
    "papermill": {
     "duration": 1.09569,
     "end_time": "2022-07-01T19:29:12.758533",
     "exception": false,
     "start_time": "2022-07-01T19:29:11.662843",
     "status": "completed"
    },
    "tags": []
   },
   "outputs": [
    {
     "data": {
      "image/png": "[encoded data removed]",
      "text/plain": [
       "<Figure size 1008x360 with 2 Axes>"
      ]
     },
     "metadata": {
      "needs_background": "light"
     },
     "output_type": "display_data"
    }
   ],
   "source": [
    "figure2, axis2= plt.subplots(1,2,figsize=(14,5))\n",
    "sns.countplot(ax=axis2[0],x='NumCatalogPurchases', hue='Education', data=df)\n",
    "sns.countplot(ax=axis2[1],x='NumCatalogPurchases', hue='Marital_Status', data=df)\n",
    "plt.show()"
   ]
  },
  {
   "cell_type": "code",
   "execution_count": 25,
   "id": "e31b1d3c",
   "metadata": {
    "execution": {
     "iopub.execute_input": "2022-07-01T19:29:12.801261Z",
     "iopub.status.busy": "2022-07-01T19:29:12.800575Z",
     "iopub.status.idle": "2022-07-01T19:29:13.761139Z",
     "shell.execute_reply": "2022-07-01T19:29:13.760161Z"
    },
    "papermill": {
     "duration": 0.985441,
     "end_time": "2022-07-01T19:29:13.763806",
     "exception": false,
     "start_time": "2022-07-01T19:29:12.778365",
     "status": "completed"
    },
    "tags": []
   },
   "outputs": [
    {
     "data": {
      "image/png": "[encoded data removed]",
      "text/plain": [
       "<Figure size 1008x360 with 2 Axes>"
      ]
     },
     "metadata": {
      "needs_background": "light"
     },
     "output_type": "display_data"
    }
   ],
   "source": [
    "figure3, axis3= plt.subplots(1,2,figsize=(14,5))\n",
    "sns.countplot(ax=axis3[0],x='NumStorePurchases', hue='Education', data=df)\n",
    "sns.countplot(ax=axis3[1],x='NumStorePurchases', hue='Marital_Status', data=df)\n",
    "plt.show()"
   ]
  },
  {
   "cell_type": "code",
   "execution_count": 26,
   "id": "c6aa4759",
   "metadata": {
    "execution": {
     "iopub.execute_input": "2022-07-01T19:29:13.804675Z",
     "iopub.status.busy": "2022-07-01T19:29:13.804286Z",
     "iopub.status.idle": "2022-07-01T19:29:14.857688Z",
     "shell.execute_reply": "2022-07-01T19:29:14.856275Z"
    },
    "papermill": {
     "duration": 1.077301,
     "end_time": "2022-07-01T19:29:14.860640",
     "exception": false,
     "start_time": "2022-07-01T19:29:13.783339",
     "status": "completed"
    },
    "tags": []
   },
   "outputs": [
    {
     "data": {
      "image/png": "[encoded data removed]",
      "text/plain": [
       "<Figure size 1008x360 with 2 Axes>"
      ]
     },
     "metadata": {
      "needs_background": "light"
     },
     "output_type": "display_data"
    }
   ],
   "source": [
    "figure4, axis4= plt.subplots(1,2,figsize=(14,5))\n",
    "sns.countplot(ax=axis4[0],x='NumWebVisitsMonth',hue='Education', data=df)\n",
    "sns.countplot(ax=axis4[1],x='NumWebVisitsMonth',hue='Marital_Status', data=df)\n",
    "plt.show()"
   ]
  },
  {
   "cell_type": "markdown",
   "id": "fcc6221f",
   "metadata": {
    "papermill": {
     "duration": 0.020186,
     "end_time": "2022-07-01T19:29:14.901151",
     "exception": false,
     "start_time": "2022-07-01T19:29:14.880965",
     "status": "completed"
    },
    "tags": []
   },
   "source": [
    "The Trend in All type of Purchases, remained same.\n",
    "The Graduated and Married people made more number of purchases than the other categories of people.\n",
    "Few key points which needs to be highlighted from above plots are:\n",
    "\n",
    "* The web purchases made were 2 in a month by most of the customers\n",
    "* The catalog purchases are very few, most of the customers either didnt make a catalog purchase or if make than the number of times is very small.\n",
    "* Most of the people purchased 3 time from the store.\n",
    "* The 8 Web visits were made by the most of the customers last month"
   ]
  },
  {
   "cell_type": "code",
   "execution_count": 27,
   "id": "be67a3ab",
   "metadata": {
    "execution": {
     "iopub.execute_input": "2022-07-01T19:29:14.945062Z",
     "iopub.status.busy": "2022-07-01T19:29:14.944085Z",
     "iopub.status.idle": "2022-07-01T19:29:15.107772Z",
     "shell.execute_reply": "2022-07-01T19:29:15.106989Z"
    },
    "papermill": {
     "duration": 0.18805,
     "end_time": "2022-07-01T19:29:15.110485",
     "exception": false,
     "start_time": "2022-07-01T19:29:14.922435",
     "status": "completed"
    },
    "tags": []
   },
   "outputs": [
    {
     "data": {
      "image/png": "[encoded data removed]",
      "text/plain": [
       "<Figure size 432x288 with 1 Axes>"
      ]
     },
     "metadata": {
      "needs_background": "light"
     },
     "output_type": "display_data"
    }
   ],
   "source": [
    "sns.countplot(x='Dt_Cust',data=df)\n",
    "plt.show()"
   ]
  },
  {
   "cell_type": "markdown",
   "id": "f47e6548",
   "metadata": {
    "papermill": {
     "duration": 0.020327,
     "end_time": "2022-07-01T19:29:15.151837",
     "exception": false,
     "start_time": "2022-07-01T19:29:15.131510",
     "status": "completed"
    },
    "tags": []
   },
   "source": [
    "The most of the customers enrolled in year 2013."
   ]
  },
  {
   "cell_type": "code",
   "execution_count": 28,
   "id": "36cb5e1f",
   "metadata": {
    "execution": {
     "iopub.execute_input": "2022-07-01T19:29:15.194463Z",
     "iopub.status.busy": "2022-07-01T19:29:15.193756Z",
     "iopub.status.idle": "2022-07-01T19:29:15.412126Z",
     "shell.execute_reply": "2022-07-01T19:29:15.410984Z"
    },
    "papermill": {
     "duration": 0.243046,
     "end_time": "2022-07-01T19:29:15.415022",
     "exception": false,
     "start_time": "2022-07-01T19:29:15.171976",
     "status": "completed"
    },
    "tags": []
   },
   "outputs": [
    {
     "data": {
      "image/png": "[encoded data removed]",
      "text/plain": [
       "<Figure size 432x288 with 1 Axes>"
      ]
     },
     "metadata": {
      "needs_background": "light"
     },
     "output_type": "display_data"
    }
   ],
   "source": [
    "sns.countplot(x='Complain', hue='Education', data=df)\n",
    "plt.show()"
   ]
  },
  {
   "cell_type": "markdown",
   "id": "6349c385",
   "metadata": {
    "papermill": {
     "duration": 0.020777,
     "end_time": "2022-07-01T19:29:15.456878",
     "exception": false,
     "start_time": "2022-07-01T19:29:15.436101",
     "status": "completed"
    },
    "tags": []
   },
   "source": [
    "The reason of here adding Education as hue is that more educated a person is, more aware he is about his rights, but here the complaint made by the customers are negligible, the reason behind this could be that the company try to provide good services to its customers.\n",
    "OR \n",
    "The dont register the complaints regularly and try to sort the issue without registering the complaints"
   ]
  },
  {
   "cell_type": "markdown",
   "id": "12808c13",
   "metadata": {
    "papermill": {
     "duration": 0.020885,
     "end_time": "2022-07-01T19:29:15.499845",
     "exception": false,
     "start_time": "2022-07-01T19:29:15.478960",
     "status": "completed"
    },
    "tags": []
   },
   "source": [
    "# Summary of the EDA"
   ]
  },
  {
   "cell_type": "markdown",
   "id": "3dce9d7d",
   "metadata": {
    "papermill": {
     "duration": 0.021053,
     "end_time": "2022-07-01T19:29:15.541769",
     "exception": false,
     "start_time": "2022-07-01T19:29:15.520716",
     "status": "completed"
    },
    "tags": []
   },
   "source": [
    "1. Most of the customers are Graduated and Married, so company should try to target such customers\n",
    "2. Customers are mostly 50 and higher age\n",
    "3. It was found that the few categories of product are purchased by the extreme two aged customers(i.e., ~30 and ~80)\n",
    "4. Most of the customers were enrolled in 2013."
   ]
  },
  {
   "cell_type": "markdown",
   "id": "e00eb42e",
   "metadata": {
    "papermill": {
     "duration": 0.020718,
     "end_time": "2022-07-01T19:29:15.584052",
     "exception": false,
     "start_time": "2022-07-01T19:29:15.563334",
     "status": "completed"
    },
    "tags": []
   },
   "source": [
    "### `May edit this later`"
   ]
  },
  {
   "cell_type": "code",
   "execution_count": null,
   "id": "d72b9407",
   "metadata": {
    "papermill": {
     "duration": 0.02055,
     "end_time": "2022-07-01T19:29:15.626294",
     "exception": false,
     "start_time": "2022-07-01T19:29:15.605744",
     "status": "completed"
    },
    "tags": []
   },
   "outputs": [],
   "source": []
  }
 ],
 "metadata": {
  "kernelspec": {
   "display_name": "Python 3",
   "language": "python",
   "name": "python3"
  },
  "language_info": {
   "codemirror_mode": {
    "name": "ipython",
    "version": 3
   },
   "file_extension": ".py",
   "mimetype": "text/x-python",
   "name": "python",
   "nbconvert_exporter": "python",
   "pygments_lexer": "ipython3",
   "version": "3.7.12"
  },
  "papermill": {
   "default_parameters": {},
   "duration": 30.272458,
   "end_time": "2022-07-01T19:29:16.871834",
   "environment_variables": {},
   "exception": null,
   "input_path": "__notebook__.ipynb",
   "output_path": "__notebook__.ipynb",
   "parameters": {},
   "start_time": "2022-07-01T19:28:46.599376",
   "version": "2.3.4"
  }
 },
 "nbformat": 4,
 "nbformat_minor": 5
}
